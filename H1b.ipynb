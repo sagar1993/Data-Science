{
 "cells": [
  {
   "cell_type": "code",
   "execution_count": 1,
   "metadata": {},
   "outputs": [],
   "source": [
    "import pandas as pd\n",
    "import matplotlib.pyplot as plt\n",
    "%matplotlib inline"
   ]
  },
  {
   "cell_type": "code",
   "execution_count": 2,
   "metadata": {},
   "outputs": [],
   "source": [
    "df = pd.read_csv(\"h1b_kaggle.csv/h1b_kaggle.csv\")"
   ]
  },
  {
   "cell_type": "code",
   "execution_count": 3,
   "metadata": {},
   "outputs": [
    {
     "data": {
      "text/html": [
       "<div>\n",
       "<style scoped>\n",
       "    .dataframe tbody tr th:only-of-type {\n",
       "        vertical-align: middle;\n",
       "    }\n",
       "\n",
       "    .dataframe tbody tr th {\n",
       "        vertical-align: top;\n",
       "    }\n",
       "\n",
       "    .dataframe thead th {\n",
       "        text-align: right;\n",
       "    }\n",
       "</style>\n",
       "<table border=\"1\" class=\"dataframe\">\n",
       "  <thead>\n",
       "    <tr style=\"text-align: right;\">\n",
       "      <th></th>\n",
       "      <th>Unnamed: 0</th>\n",
       "      <th>CASE_STATUS</th>\n",
       "      <th>EMPLOYER_NAME</th>\n",
       "      <th>SOC_NAME</th>\n",
       "      <th>JOB_TITLE</th>\n",
       "      <th>FULL_TIME_POSITION</th>\n",
       "      <th>PREVAILING_WAGE</th>\n",
       "      <th>YEAR</th>\n",
       "      <th>WORKSITE</th>\n",
       "      <th>lon</th>\n",
       "      <th>lat</th>\n",
       "    </tr>\n",
       "  </thead>\n",
       "  <tbody>\n",
       "    <tr>\n",
       "      <th>0</th>\n",
       "      <td>1</td>\n",
       "      <td>CERTIFIED-WITHDRAWN</td>\n",
       "      <td>UNIVERSITY OF MICHIGAN</td>\n",
       "      <td>BIOCHEMISTS AND BIOPHYSICISTS</td>\n",
       "      <td>POSTDOCTORAL RESEARCH FELLOW</td>\n",
       "      <td>N</td>\n",
       "      <td>36067.0</td>\n",
       "      <td>2016.0</td>\n",
       "      <td>ANN ARBOR, MICHIGAN</td>\n",
       "      <td>-83.743038</td>\n",
       "      <td>42.280826</td>\n",
       "    </tr>\n",
       "    <tr>\n",
       "      <th>1</th>\n",
       "      <td>2</td>\n",
       "      <td>CERTIFIED-WITHDRAWN</td>\n",
       "      <td>GOODMAN NETWORKS, INC.</td>\n",
       "      <td>CHIEF EXECUTIVES</td>\n",
       "      <td>CHIEF OPERATING OFFICER</td>\n",
       "      <td>Y</td>\n",
       "      <td>242674.0</td>\n",
       "      <td>2016.0</td>\n",
       "      <td>PLANO, TEXAS</td>\n",
       "      <td>-96.698886</td>\n",
       "      <td>33.019843</td>\n",
       "    </tr>\n",
       "    <tr>\n",
       "      <th>2</th>\n",
       "      <td>3</td>\n",
       "      <td>CERTIFIED-WITHDRAWN</td>\n",
       "      <td>PORTS AMERICA GROUP, INC.</td>\n",
       "      <td>CHIEF EXECUTIVES</td>\n",
       "      <td>CHIEF PROCESS OFFICER</td>\n",
       "      <td>Y</td>\n",
       "      <td>193066.0</td>\n",
       "      <td>2016.0</td>\n",
       "      <td>JERSEY CITY, NEW JERSEY</td>\n",
       "      <td>-74.077642</td>\n",
       "      <td>40.728158</td>\n",
       "    </tr>\n",
       "    <tr>\n",
       "      <th>3</th>\n",
       "      <td>4</td>\n",
       "      <td>CERTIFIED-WITHDRAWN</td>\n",
       "      <td>GATES CORPORATION, A WHOLLY-OWNED SUBSIDIARY O...</td>\n",
       "      <td>CHIEF EXECUTIVES</td>\n",
       "      <td>REGIONAL PRESIDEN, AMERICAS</td>\n",
       "      <td>Y</td>\n",
       "      <td>220314.0</td>\n",
       "      <td>2016.0</td>\n",
       "      <td>DENVER, COLORADO</td>\n",
       "      <td>-104.990251</td>\n",
       "      <td>39.739236</td>\n",
       "    </tr>\n",
       "    <tr>\n",
       "      <th>4</th>\n",
       "      <td>5</td>\n",
       "      <td>WITHDRAWN</td>\n",
       "      <td>PEABODY INVESTMENTS CORP.</td>\n",
       "      <td>CHIEF EXECUTIVES</td>\n",
       "      <td>PRESIDENT MONGOLIA AND INDIA</td>\n",
       "      <td>Y</td>\n",
       "      <td>157518.4</td>\n",
       "      <td>2016.0</td>\n",
       "      <td>ST. LOUIS, MISSOURI</td>\n",
       "      <td>-90.199404</td>\n",
       "      <td>38.627003</td>\n",
       "    </tr>\n",
       "  </tbody>\n",
       "</table>\n",
       "</div>"
      ],
      "text/plain": [
       "   Unnamed: 0          CASE_STATUS  \\\n",
       "0           1  CERTIFIED-WITHDRAWN   \n",
       "1           2  CERTIFIED-WITHDRAWN   \n",
       "2           3  CERTIFIED-WITHDRAWN   \n",
       "3           4  CERTIFIED-WITHDRAWN   \n",
       "4           5            WITHDRAWN   \n",
       "\n",
       "                                       EMPLOYER_NAME  \\\n",
       "0                             UNIVERSITY OF MICHIGAN   \n",
       "1                             GOODMAN NETWORKS, INC.   \n",
       "2                          PORTS AMERICA GROUP, INC.   \n",
       "3  GATES CORPORATION, A WHOLLY-OWNED SUBSIDIARY O...   \n",
       "4                          PEABODY INVESTMENTS CORP.   \n",
       "\n",
       "                        SOC_NAME                     JOB_TITLE  \\\n",
       "0  BIOCHEMISTS AND BIOPHYSICISTS  POSTDOCTORAL RESEARCH FELLOW   \n",
       "1               CHIEF EXECUTIVES       CHIEF OPERATING OFFICER   \n",
       "2               CHIEF EXECUTIVES         CHIEF PROCESS OFFICER   \n",
       "3               CHIEF EXECUTIVES   REGIONAL PRESIDEN, AMERICAS   \n",
       "4               CHIEF EXECUTIVES  PRESIDENT MONGOLIA AND INDIA   \n",
       "\n",
       "  FULL_TIME_POSITION  PREVAILING_WAGE    YEAR                 WORKSITE  \\\n",
       "0                  N          36067.0  2016.0      ANN ARBOR, MICHIGAN   \n",
       "1                  Y         242674.0  2016.0             PLANO, TEXAS   \n",
       "2                  Y         193066.0  2016.0  JERSEY CITY, NEW JERSEY   \n",
       "3                  Y         220314.0  2016.0         DENVER, COLORADO   \n",
       "4                  Y         157518.4  2016.0      ST. LOUIS, MISSOURI   \n",
       "\n",
       "          lon        lat  \n",
       "0  -83.743038  42.280826  \n",
       "1  -96.698886  33.019843  \n",
       "2  -74.077642  40.728158  \n",
       "3 -104.990251  39.739236  \n",
       "4  -90.199404  38.627003  "
      ]
     },
     "execution_count": 3,
     "metadata": {},
     "output_type": "execute_result"
    }
   ],
   "source": [
    "df.head()"
   ]
  },
  {
   "cell_type": "code",
   "execution_count": 4,
   "metadata": {},
   "outputs": [
    {
     "data": {
      "text/plain": [
       "array(['CERTIFIED-WITHDRAWN', 'WITHDRAWN', 'CERTIFIED', 'DENIED',\n",
       "       'REJECTED', 'INVALIDATED',\n",
       "       'PENDING QUALITY AND COMPLIANCE REVIEW - UNASSIGNED', nan],\n",
       "      dtype=object)"
      ]
     },
     "execution_count": 4,
     "metadata": {},
     "output_type": "execute_result"
    }
   ],
   "source": [
    "df[\"CASE_STATUS\"].unique()"
   ]
  },
  {
   "cell_type": "markdown",
   "metadata": {},
   "source": [
    "# Information over all the years"
   ]
  },
  {
   "cell_type": "code",
   "execution_count": 5,
   "metadata": {},
   "outputs": [
    {
     "data": {
      "text/plain": [
       "287550"
      ]
     },
     "execution_count": 5,
     "metadata": {},
     "output_type": "execute_result"
    }
   ],
   "source": [
    "len(df[\"JOB_TITLE\"].unique())"
   ]
  },
  {
   "cell_type": "markdown",
   "metadata": {},
   "source": [
    "### by states (top 10)"
   ]
  },
  {
   "cell_type": "code",
   "execution_count": 6,
   "metadata": {},
   "outputs": [],
   "source": [
    "df[\"STATE\"] = df[\"WORKSITE\"].apply(lambda x: x.split(\",\")[-1])"
   ]
  },
  {
   "cell_type": "code",
   "execution_count": 7,
   "metadata": {},
   "outputs": [
    {
     "data": {
      "text/plain": [
       " CALIFORNIA       559942\n",
       " TEXAS            294455\n",
       " NEW YORK         291412\n",
       " NEW JERSEY       214078\n",
       " ILLINOIS         160814\n",
       " MASSACHUSETTS    116466\n",
       " PENNSYLVANIA     109960\n",
       " FLORIDA          105773\n",
       " GEORGIA          103168\n",
       " WASHINGTON       102801\n",
       "Name: STATE, dtype: int64"
      ]
     },
     "execution_count": 7,
     "metadata": {},
     "output_type": "execute_result"
    }
   ],
   "source": [
    "df[\"STATE\"].value_counts()[:10]"
   ]
  },
  {
   "cell_type": "code",
   "execution_count": 8,
   "metadata": {},
   "outputs": [
    {
     "data": {
      "text/plain": [
       "<matplotlib.axes._subplots.AxesSubplot at 0x2a8a74d4e80>"
      ]
     },
     "execution_count": 8,
     "metadata": {},
     "output_type": "execute_result"
    },
    {
     "data": {
      "image/png": "[encoded data removed]",
      "text/plain": [
       "<matplotlib.figure.Figure at 0x2a8a74d4668>"
      ]
     },
     "metadata": {},
     "output_type": "display_data"
    }
   ],
   "source": [
    "df[\"STATE\"].value_counts()[:10].plot(kind='bar')"
   ]
  },
  {
   "cell_type": "markdown",
   "metadata": {},
   "source": [
    "### Most h1b filed by job titles (top 10)"
   ]
  },
  {
   "cell_type": "code",
   "execution_count": 9,
   "metadata": {},
   "outputs": [
    {
     "data": {
      "text/plain": [
       "PROGRAMMER ANALYST          249038\n",
       "SOFTWARE ENGINEER           121307\n",
       "COMPUTER PROGRAMMER          70570\n",
       "SYSTEMS ANALYST              61965\n",
       "SOFTWARE DEVELOPER           42907\n",
       "BUSINESS ANALYST             39681\n",
       "COMPUTER SYSTEMS ANALYST     35086\n",
       "TECHNOLOGY LEAD - US         28350\n",
       "SENIOR SOFTWARE ENGINEER     27133\n",
       "TECHNOLOGY ANALYST - US      26055\n",
       "Name: JOB_TITLE, dtype: int64"
      ]
     },
     "execution_count": 9,
     "metadata": {},
     "output_type": "execute_result"
    }
   ],
   "source": [
    "df[\"JOB_TITLE\"].value_counts()[:10]"
   ]
  },
  {
   "cell_type": "code",
   "execution_count": 10,
   "metadata": {},
   "outputs": [
    {
     "data": {
      "text/plain": [
       "<matplotlib.axes._subplots.AxesSubplot at 0x2a8f9004438>"
      ]
     },
     "execution_count": 10,
     "metadata": {},
     "output_type": "execute_result"
    },
    {
     "data": {
      "image/png": "[encoded data removed]",
      "text/plain": [
       "<matplotlib.figure.Figure at 0x2a89bed85c0>"
      ]
     },
     "metadata": {},
     "output_type": "display_data"
    }
   ],
   "source": [
    "df[\"JOB_TITLE\"].value_counts()[:10].plot(kind='bar')"
   ]
  },
  {
   "cell_type": "markdown",
   "metadata": {},
   "source": [
    "### Most h1b filed by employers (top 10)"
   ]
  },
  {
   "cell_type": "code",
   "execution_count": 11,
   "metadata": {},
   "outputs": [
    {
     "data": {
      "text/plain": [
       "INFOSYS LIMITED                                    130592\n",
       "TATA CONSULTANCY SERVICES LIMITED                   64726\n",
       "WIPRO LIMITED                                       48117\n",
       "DELOITTE CONSULTING LLP                             36742\n",
       "IBM INDIA PRIVATE LIMITED                           34219\n",
       "ACCENTURE LLP                                       33447\n",
       "MICROSOFT CORPORATION                               25576\n",
       "HCL AMERICA, INC.                                   22678\n",
       "ERNST & YOUNG U.S. LLP                              18232\n",
       "COGNIZANT TECHNOLOGY SOLUTIONS U.S. CORPORATION     17528\n",
       "Name: EMPLOYER_NAME, dtype: int64"
      ]
     },
     "execution_count": 11,
     "metadata": {},
     "output_type": "execute_result"
    }
   ],
   "source": [
    "df[\"EMPLOYER_NAME\"].value_counts()[:10]"
   ]
  },
  {
   "cell_type": "code",
   "execution_count": 12,
   "metadata": {},
   "outputs": [
    {
     "data": {
      "text/plain": [
       "<matplotlib.axes._subplots.AxesSubplot at 0x2a89bf888d0>"
      ]
     },
     "execution_count": 12,
     "metadata": {},
     "output_type": "execute_result"
    },
    {
     "data": {
      "image/png": "[encoded data removed]",
      "text/plain": [
       "<matplotlib.figure.Figure at 0x2a89bfad6a0>"
      ]
     },
     "metadata": {},
     "output_type": "display_data"
    }
   ],
   "source": [
    "df[\"EMPLOYER_NAME\"].value_counts()[:10].plot(kind='bar')"
   ]
  },
  {
   "cell_type": "markdown",
   "metadata": {},
   "source": [
    "### breakdown of  h1b filed by Infosys"
   ]
  },
  {
   "cell_type": "markdown",
   "metadata": {},
   "source": [
    "#### by job title"
   ]
  },
  {
   "cell_type": "code",
   "execution_count": 13,
   "metadata": {},
   "outputs": [
    {
     "data": {
      "text/plain": [
       "<matplotlib.axes._subplots.AxesSubplot at 0x2a89c0649b0>"
      ]
     },
     "execution_count": 13,
     "metadata": {},
     "output_type": "execute_result"
    },
    {
     "data": {
      "image/png": "[encoded data removed]",
      "text/plain": [
       "<matplotlib.figure.Figure at 0x2a89c01f8d0>"
      ]
     },
     "metadata": {},
     "output_type": "display_data"
    }
   ],
   "source": [
    "df[df[\"EMPLOYER_NAME\"] == \"INFOSYS LIMITED\"][\"JOB_TITLE\"].value_counts()[:10].plot(kind='bar')"
   ]
  },
  {
   "cell_type": "markdown",
   "metadata": {},
   "source": [
    "#### by year"
   ]
  },
  {
   "cell_type": "code",
   "execution_count": 14,
   "metadata": {},
   "outputs": [
    {
     "data": {
      "text/plain": [
       "2015.0    33245\n",
       "2013.0    32223\n",
       "2016.0    25352\n",
       "2014.0    23759\n",
       "2012.0    15818\n",
       "2011.0      195\n",
       "Name: YEAR, dtype: int64"
      ]
     },
     "execution_count": 14,
     "metadata": {},
     "output_type": "execute_result"
    }
   ],
   "source": [
    "df[df[\"EMPLOYER_NAME\"] == \"INFOSYS LIMITED\"][\"YEAR\"].value_counts()"
   ]
  },
  {
   "cell_type": "code",
   "execution_count": 15,
   "metadata": {},
   "outputs": [
    {
     "data": {
      "text/plain": [
       "<matplotlib.axes._subplots.AxesSubplot at 0x2a89c0185f8>"
      ]
     },
     "execution_count": 15,
     "metadata": {},
     "output_type": "execute_result"
    },
    {
     "data": {
      "image/png": "[encoded data removed]",
      "text/plain": [
       "<matplotlib.figure.Figure at 0x2a89c0980f0>"
      ]
     },
     "metadata": {},
     "output_type": "display_data"
    }
   ],
   "source": [
    "df[df[\"EMPLOYER_NAME\"] == \"INFOSYS LIMITED\"][\"YEAR\"].value_counts().plot(kind='pie')"
   ]
  },
  {
   "cell_type": "code",
   "execution_count": 16,
   "metadata": {},
   "outputs": [
    {
     "data": {
      "text/plain": [
       "<matplotlib.axes._subplots.AxesSubplot at 0x2a89c06d208>"
      ]
     },
     "execution_count": 16,
     "metadata": {},
     "output_type": "execute_result"
    },
    {
     "data": {
      "image/png": "[encoded data removed]",
      "text/plain": [
       "<matplotlib.figure.Figure at 0x2a89c11dba8>"
      ]
     },
     "metadata": {},
     "output_type": "display_data"
    }
   ],
   "source": [
    "df[df[\"EMPLOYER_NAME\"] == \"INFOSYS LIMITED\"][\"YEAR\"].value_counts().sort_index().plot(kind='bar')"
   ]
  },
  {
   "cell_type": "markdown",
   "metadata": {},
   "source": [
    "#### number of h1b 'CERTIFIED' vs 'OTHERS'"
   ]
  },
  {
   "cell_type": "code",
   "execution_count": 17,
   "metadata": {},
   "outputs": [],
   "source": [
    "series = df[df[\"EMPLOYER_NAME\"] == \"INFOSYS LIMITED\"][\"CASE_STATUS\"].value_counts()"
   ]
  },
  {
   "cell_type": "code",
   "execution_count": 18,
   "metadata": {},
   "outputs": [],
   "source": [
    "data = {\"CERTIFIED\" :series[\"CERTIFIED\"], \"NON-CERTIED\":sum(series.drop([\"CERTIFIED\"], axis=0))}"
   ]
  },
  {
   "cell_type": "code",
   "execution_count": 19,
   "metadata": {},
   "outputs": [
    {
     "data": {
      "text/plain": [
       "{'CERTIFIED': 129916, 'NON-CERTIED': 676}"
      ]
     },
     "execution_count": 19,
     "metadata": {},
     "output_type": "execute_result"
    }
   ],
   "source": [
    "data"
   ]
  },
  {
   "cell_type": "code",
   "execution_count": 20,
   "metadata": {},
   "outputs": [
    {
     "data": {
      "text/plain": [
       "<matplotlib.axes._subplots.AxesSubplot at 0x2a89c15a3c8>"
      ]
     },
     "execution_count": 20,
     "metadata": {},
     "output_type": "execute_result"
    },
    {
     "data": {
      "image/png": "[encoded data removed]",
      "text/plain": [
       "<matplotlib.figure.Figure at 0x2a89c109390>"
      ]
     },
     "metadata": {},
     "output_type": "display_data"
    }
   ],
   "source": [
    "pd.Series(data = data).plot(kind='bar')"
   ]
  },
  {
   "cell_type": "markdown",
   "metadata": {},
   "source": [
    "### h1b filed by Google, Facebook, Amazon, Apple, LinkedIn, Adobe, Vmware"
   ]
  },
  {
   "cell_type": "code",
   "execution_count": 21,
   "metadata": {},
   "outputs": [
    {
     "name": "stdout",
     "output_type": "stream",
     "text": [
      "IBM CORPORATION\n",
      "IBM INDIA PRIVATE LIMITED\n",
      "IBM INDIA PRIVATE LTD\n",
      "IBM INDIA PRIVATE LINMITED\n",
      "IBM GLOBAL SYSTEMS INC\n",
      "IBM GLOBAL SYSTEMS, INC.\n",
      "IBM INDIA PVT LTD\n",
      "IBM INIDA PRIVATE LIMITED\n",
      "IBM INDIA PVT LIMITED\n",
      "IBMS LLC\n",
      "IBM CORPORATE\n",
      "IBM CORP\n",
      "SOFTLAYER, AN IBM COMPANY\n",
      "IBM INDIA\n",
      "IBM INDIA PVT. LTD.\n",
      "IBM INDIA CORPORATION\n",
      "IBM COORPORATION\n",
      "IBM LIMITED PRIVATE LIMITED\n",
      "IBM\n",
      "IBM CORPORATION0\n",
      "IBM COPRORATION\n",
      "IBM COPORATION\n",
      "IBM INDIA PRIVATE LIMITES\n",
      "IBMB, LLC\n",
      "IBMI INDIA PRIVATE LIMITED\n",
      "IBM INDIA PRIVATE LIMTED\n",
      "UNICA CORPORATION, AN IBM COMPANY\n",
      "IBM INDIA PRIVATE LTD.\n",
      "IBM INDIA PRIVATE LIMITED.\n"
     ]
    }
   ],
   "source": [
    "for i in df[\"EMPLOYER_NAME\"].astype(str).unique():\n",
    "    if \"ibm\" in i.lower():\n",
    "        print(i)"
   ]
  },
  {
   "cell_type": "markdown",
   "metadata": {},
   "source": [
    "### Distribution by state"
   ]
  },
  {
   "cell_type": "code",
   "execution_count": 22,
   "metadata": {},
   "outputs": [],
   "source": [
    "states = {\n",
    "        'AK': 'Alaska',\n",
    "        'AL': 'Alabama',\n",
    "        'AR': 'Arkansas',\n",
    "        'AS': 'American Samoa',\n",
    "        'AZ': 'Arizona',\n",
    "        'CA': 'California',\n",
    "        'CO': 'Colorado',\n",
    "        'CT': 'Connecticut',\n",
    "        'DC': 'District of Columbia',\n",
    "        'DE': 'Delaware',\n",
    "        'FL': 'Florida',\n",
    "        'GA': 'Georgia',\n",
    "        'GU': 'Guam',\n",
    "        'HI': 'Hawaii',\n",
    "        'IA': 'Iowa',\n",
    "        'ID': 'Idaho',\n",
    "        'IL': 'Illinois',\n",
    "        'IN': 'Indiana',\n",
    "        'KS': 'Kansas',\n",
    "        'KY': 'Kentucky',\n",
    "        'LA': 'Louisiana',\n",
    "        'MA': 'Massachusetts',\n",
    "        'MD': 'Maryland',\n",
    "        'ME': 'Maine',\n",
    "        'MI': 'Michigan',\n",
    "        'MN': 'Minnesota',\n",
    "        'MO': 'Missouri',\n",
    "        'MP': 'Northern Mariana Islands',\n",
    "        'MS': 'Mississippi',\n",
    "        'MT': 'Montana',\n",
    "        'NA': 'National',\n",
    "        'NC': 'North Carolina',\n",
    "        'ND': 'North Dakota',\n",
    "        'NE': 'Nebraska',\n",
    "        'NH': 'New Hampshire',\n",
    "        'NJ': 'New Jersey',\n",
    "        'NM': 'New Mexico',\n",
    "        'NV': 'Nevada',\n",
    "        'NY': 'New York',\n",
    "        'OH': 'Ohio',\n",
    "        'OK': 'Oklahoma',\n",
    "        'OR': 'Oregon',\n",
    "        'PA': 'Pennsylvania',\n",
    "        'PR': 'Puerto Rico',\n",
    "        'RI': 'Rhode Island',\n",
    "        'SC': 'South Carolina',\n",
    "        'SD': 'South Dakota',\n",
    "        'TN': 'Tennessee',\n",
    "        'TX': 'Texas',\n",
    "        'UT': 'Utah',\n",
    "        'VA': 'Virginia',\n",
    "        'VI': 'Virgin Islands',\n",
    "        'VT': 'Vermont',\n",
    "        'WA': 'Washington',\n",
    "        'WI': 'Wisconsin',\n",
    "        'WV': 'West Virginia',\n",
    "        'WY': 'Wyoming'\n",
    "}"
   ]
  },
  {
   "cell_type": "code",
   "execution_count": 23,
   "metadata": {},
   "outputs": [],
   "source": [
    "states_reversed = {}\n",
    "for key in states:\n",
    "    states_reversed[states[key].upper()] = key"
   ]
  },
  {
   "cell_type": "code",
   "execution_count": 24,
   "metadata": {},
   "outputs": [],
   "source": [
    "df[\"STATE\"] = df[\"STATE\"].apply(lambda x: x.strip())\n",
    "df['CODE'] = df['STATE'].astype(str).map(states_reversed)"
   ]
  },
  {
   "cell_type": "code",
   "execution_count": 25,
   "metadata": {},
   "outputs": [],
   "source": [
    "df_test = pd.DataFrame(df[\"CODE\"].value_counts())"
   ]
  },
  {
   "cell_type": "code",
   "execution_count": 26,
   "metadata": {},
   "outputs": [],
   "source": [
    "df_test = df_test.reset_index()"
   ]
  },
  {
   "cell_type": "code",
   "execution_count": 27,
   "metadata": {},
   "outputs": [
    {
     "data": {
      "text/html": [
       "<script>requirejs.config({paths: { 'plotly': ['https://cdn.plot.ly/plotly-latest.min']},});if(!window.Plotly) {{require(['plotly'],function(plotly) {window.Plotly=plotly;});}}</script>"
      ],
      "text/vnd.plotly.v1+html": [
       "<script>requirejs.config({paths: { 'plotly': ['https://cdn.plot.ly/plotly-latest.min']},});if(!window.Plotly) {{require(['plotly'],function(plotly) {window.Plotly=plotly;});}}</script>"
      ]
     },
     "metadata": {},
     "output_type": "display_data"
    },
    {
     "data": {
      "application/vnd.plotly.v1+json": {
       "data": [
        {
         "autocolorscale": false,
         "colorbar": {
          "title": "Number"
         },
         "colorscale": [
          [
           0,
           "rgb(242,240,247)"
          ],
          [
           0.2,
           "rgb(218,218,235)"
          ],
          [
           0.4,
           "rgb(188,189,220)"
          ],
          [
           0.6,
           "rgb(158,154,200)"
          ],
          [
           0.8,
           "rgb(117,107,177)"
          ],
          [
           1,
           "rgb(84,39,143)"
          ]
         ],
         "locationmode": "USA-states",
         "locations": [
          "CA",
          "TX",
          "NY",
          "NJ",
          "IL",
          "MA",
          "PA",
          "FL",
          "GA",
          "WA",
          "VA",
          "MI",
          "NC",
          "OH",
          "MD",
          "CT",
          "MN",
          "AZ",
          "MO",
          "WI",
          "CO",
          "IN",
          "TN",
          "OR",
          "DC",
          "DE",
          "IA",
          "AR",
          "KS",
          "UT",
          "SC",
          "KY",
          "RI",
          "LA",
          "OK",
          "AL",
          "NH",
          "NE",
          "NV",
          "NM",
          "MS",
          "ID",
          "ME",
          "HI",
          "WV",
          "ND",
          "VT",
          "SD",
          "PR",
          "AK",
          "MT",
          "WY"
         ],
         "marker": {
          "line": {
           "color": "rgb(255,255,255)",
           "width": 2
          }
         },
         "type": "choropleth",
         "z": [
          559942,
          294455,
          291412,
          214078,
          160814,
          116466,
          109960,
          105773,
          103168,
          102801,
          90028,
          82964,
          79672,
          76575,
          56257,
          50253,
          48686,
          42054,
          34813,
          32672,
          32038,
          30516,
          27673,
          23790,
          22708,
          18138,
          16743,
          14762,
          13782,
          13107,
          12932,
          12702,
          11717,
          11669,
          10597,
          10253,
          9929,
          9256,
          7448,
          5541,
          4270,
          4191,
          3918,
          3752,
          3079,
          2927,
          1941,
          1902,
          1452,
          1396,
          986,
          896
         ]
        }
       ],
       "layout": {
        "geo": {
         "lakecolor": "rgb(255, 255, 255)",
         "projection": {
          "type": "albers usa"
         },
         "scope": "usa",
         "showlakes": true
        },
        "title": "2011-2016 h1b visa by state"
       }
      },
      "text/html": [
       "<div id=\"60e993f4-8a7d-4bdb-90f7-3ce8fae4a57d\" style=\"height: 525px; width: 100%;\" class=\"plotly-graph-div\"></div><script type=\"text/javascript\">require([\"plotly\"], function(Plotly) { window.PLOTLYENV=window.PLOTLYENV || {};window.PLOTLYENV.BASE_URL=\"https://plot.ly\";Plotly.newPlot(\"60e993f4-8a7d-4bdb-90f7-3ce8fae4a57d\", [{\"type\": \"choropleth\", \"colorscale\": [[0.0, \"rgb(242,240,247)\"], [0.2, \"rgb(218,218,235)\"], [0.4, \"rgb(188,189,220)\"], [0.6, \"rgb(158,154,200)\"], [0.8, \"rgb(117,107,177)\"], [1.0, \"rgb(84,39,143)\"]], \"autocolorscale\": false, \"locations\": [\"CA\", \"TX\", \"NY\", \"NJ\", \"IL\", \"MA\", \"PA\", \"FL\", \"GA\", \"WA\", \"VA\", \"MI\", \"NC\", \"OH\", \"MD\", \"CT\", \"MN\", \"AZ\", \"MO\", \"WI\", \"CO\", \"IN\", \"TN\", \"OR\", \"DC\", \"DE\", \"IA\", \"AR\", \"KS\", \"UT\", \"SC\", \"KY\", \"RI\", \"LA\", \"OK\", \"AL\", \"NH\", \"NE\", \"NV\", \"NM\", \"MS\", \"ID\", \"ME\", \"HI\", \"WV\", \"ND\", \"VT\", \"SD\", \"PR\", \"AK\", \"MT\", \"WY\"], \"z\": [559942.0, 294455.0, 291412.0, 214078.0, 160814.0, 116466.0, 109960.0, 105773.0, 103168.0, 102801.0, 90028.0, 82964.0, 79672.0, 76575.0, 56257.0, 50253.0, 48686.0, 42054.0, 34813.0, 32672.0, 32038.0, 30516.0, 27673.0, 23790.0, 22708.0, 18138.0, 16743.0, 14762.0, 13782.0, 13107.0, 12932.0, 12702.0, 11717.0, 11669.0, 10597.0, 10253.0, 9929.0, 9256.0, 7448.0, 5541.0, 4270.0, 4191.0, 3918.0, 3752.0, 3079.0, 2927.0, 1941.0, 1902.0, 1452.0, 1396.0, 986.0, 896.0], \"locationmode\": \"USA-states\", \"marker\": {\"line\": {\"color\": \"rgb(255,255,255)\", \"width\": 2}}, \"colorbar\": {\"title\": \"Number\"}}], {\"title\": \"2011-2016 h1b visa by state\", \"geo\": {\"scope\": \"usa\", \"projection\": {\"type\": \"albers usa\"}, \"showlakes\": true, \"lakecolor\": \"rgb(255, 255, 255)\"}}, {\"showLink\": true, \"linkText\": \"Export to plot.ly\"})});</script>"
      ],
      "text/vnd.plotly.v1+html": [
       "<div id=\"60e993f4-8a7d-4bdb-90f7-3ce8fae4a57d\" style=\"height: 525px; width: 100%;\" class=\"plotly-graph-div\"></div><script type=\"text/javascript\">require([\"plotly\"], function(Plotly) { window.PLOTLYENV=window.PLOTLYENV || {};window.PLOTLYENV.BASE_URL=\"https://plot.ly\";Plotly.newPlot(\"60e993f4-8a7d-4bdb-90f7-3ce8fae4a57d\", [{\"type\": \"choropleth\", \"colorscale\": [[0.0, \"rgb(242,240,247)\"], [0.2, \"rgb(218,218,235)\"], [0.4, \"rgb(188,189,220)\"], [0.6, \"rgb(158,154,200)\"], [0.8, \"rgb(117,107,177)\"], [1.0, \"rgb(84,39,143)\"]], \"autocolorscale\": false, \"locations\": [\"CA\", \"TX\", \"NY\", \"NJ\", \"IL\", \"MA\", \"PA\", \"FL\", \"GA\", \"WA\", \"VA\", \"MI\", \"NC\", \"OH\", \"MD\", \"CT\", \"MN\", \"AZ\", \"MO\", \"WI\", \"CO\", \"IN\", \"TN\", \"OR\", \"DC\", \"DE\", \"IA\", \"AR\", \"KS\", \"UT\", \"SC\", \"KY\", \"RI\", \"LA\", \"OK\", \"AL\", \"NH\", \"NE\", \"NV\", \"NM\", \"MS\", \"ID\", \"ME\", \"HI\", \"WV\", \"ND\", \"VT\", \"SD\", \"PR\", \"AK\", \"MT\", \"WY\"], \"z\": [559942.0, 294455.0, 291412.0, 214078.0, 160814.0, 116466.0, 109960.0, 105773.0, 103168.0, 102801.0, 90028.0, 82964.0, 79672.0, 76575.0, 56257.0, 50253.0, 48686.0, 42054.0, 34813.0, 32672.0, 32038.0, 30516.0, 27673.0, 23790.0, 22708.0, 18138.0, 16743.0, 14762.0, 13782.0, 13107.0, 12932.0, 12702.0, 11717.0, 11669.0, 10597.0, 10253.0, 9929.0, 9256.0, 7448.0, 5541.0, 4270.0, 4191.0, 3918.0, 3752.0, 3079.0, 2927.0, 1941.0, 1902.0, 1452.0, 1396.0, 986.0, 896.0], \"locationmode\": \"USA-states\", \"marker\": {\"line\": {\"color\": \"rgb(255,255,255)\", \"width\": 2}}, \"colorbar\": {\"title\": \"Number\"}}], {\"title\": \"2011-2016 h1b visa by state\", \"geo\": {\"scope\": \"usa\", \"projection\": {\"type\": \"albers usa\"}, \"showlakes\": true, \"lakecolor\": \"rgb(255, 255, 255)\"}}, {\"showLink\": true, \"linkText\": \"Export to plot.ly\"})});</script>"
      ]
     },
     "metadata": {},
     "output_type": "display_data"
    }
   ],
   "source": [
    "import plotly.offline as offline\n",
    "offline.init_notebook_mode(connected=True)\n",
    "import plotly\n",
    "scl = [[0.0, 'rgb(242,240,247)'],[0.2, 'rgb(218,218,235)'],[0.4, 'rgb(188,189,220)'],\\\n",
    "            [0.6, 'rgb(158,154,200)'],[0.8, 'rgb(117,107,177)'],[1.0, 'rgb(84,39,143)']]\n",
    "\n",
    "\n",
    "data = [ dict(\n",
    "        type='choropleth',\n",
    "        colorscale = scl,\n",
    "        autocolorscale = False,\n",
    "        locations = df_test['index'],\n",
    "        z = df_test[\"CODE\"].astype(float),\n",
    "        locationmode = 'USA-states',\n",
    "        marker = dict(\n",
    "            line = dict (\n",
    "                color = 'rgb(255,255,255)',\n",
    "                width = 2\n",
    "            ) ),\n",
    "        colorbar = dict(\n",
    "            title = \"Number\")\n",
    "        ) ]\n",
    "\n",
    "layout = dict(\n",
    "        title = '2011-2016 h1b visa by state',\n",
    "        geo = dict(\n",
    "            scope='usa',\n",
    "            projection=dict( type='albers usa' ),\n",
    "            showlakes = True,\n",
    "            lakecolor = 'rgb(255, 255, 255)'),\n",
    "             )\n",
    "    \n",
    "fig = dict( data=data, layout=layout )\n",
    "plotly.offline.iplot( fig)"
   ]
  },
  {
   "cell_type": "markdown",
   "metadata": {},
   "source": [
    "### Yearly distribution of H1B visa's by state"
   ]
  },
  {
   "cell_type": "code",
   "execution_count": 39,
   "metadata": {
    "scrolled": false
   },
   "outputs": [
    {
     "data": {
      "application/vnd.plotly.v1+json": {
       "data": [
        {
         "autocolorscale": false,
         "colorbar": {
          "title": "Number"
         },
         "colorscale": [
          [
           0,
           "rgb(242,240,247)"
          ],
          [
           0.2,
           "rgb(218,218,235)"
          ],
          [
           0.4,
           "rgb(188,189,220)"
          ],
          [
           0.6,
           "rgb(158,154,200)"
          ],
          [
           0.8,
           "rgb(117,107,177)"
          ],
          [
           1,
           "rgb(84,39,143)"
          ]
         ],
         "locationmode": "USA-states",
         "locations": [
          "CA",
          "NY",
          "TX",
          "NJ",
          "IL",
          "FL",
          "MA",
          "PA",
          "WA",
          "VA",
          "GA",
          "OH",
          "MD",
          "MI",
          "NC",
          "CT",
          "MN",
          "AZ",
          "IN",
          "WI",
          "MO",
          "CO",
          "DC",
          "TN",
          "OR",
          "IA",
          "DE",
          "KS",
          "AR",
          "SC",
          "LA",
          "KY",
          "AL",
          "OK",
          "UT",
          "NH",
          "NV",
          "NE",
          "RI",
          "NM",
          "HI",
          "MS",
          "ID",
          "ME",
          "WV",
          "ND",
          "SD",
          "PR",
          "VT",
          "AK",
          "MT",
          "WY"
         ],
         "marker": {
          "line": {
           "color": "rgb(255,255,255)",
           "width": 2
          }
         },
         "type": "choropleth",
         "z": [
          65690,
          41769,
          31431,
          23611,
          18595,
          15227,
          14720,
          12896,
          11359,
          11062,
          10829,
          8582,
          8544,
          8305,
          7783,
          5885,
          5683,
          4391,
          3837,
          3761,
          3756,
          3630,
          3491,
          3463,
          2859,
          2308,
          2152,
          1713,
          1680,
          1628,
          1615,
          1600,
          1487,
          1457,
          1451,
          1185,
          1129,
          1089,
          1038,
          782,
          655,
          648,
          638,
          541,
          441,
          403,
          328,
          309,
          304,
          205,
          163,
          133
         ]
        }
       ],
       "layout": {
        "geo": {
         "lakecolor": "rgb(255, 255, 255)",
         "projection": {
          "type": "albers usa"
         },
         "scope": "usa",
         "showlakes": true
        },
        "title": "2011 h1b visa by state"
       }
      },
      "text/html": [
       "<div id=\"f8671e3c-6422-4fa6-b331-647fee4f1daa\" style=\"height: 525px; width: 100%;\" class=\"plotly-graph-div\"></div><script type=\"text/javascript\">require([\"plotly\"], function(Plotly) { window.PLOTLYENV=window.PLOTLYENV || {};window.PLOTLYENV.BASE_URL=\"https://plot.ly\";Plotly.newPlot(\"f8671e3c-6422-4fa6-b331-647fee4f1daa\", [{\"type\": \"choropleth\", \"colorscale\": [[0.0, \"rgb(242,240,247)\"], [0.2, \"rgb(218,218,235)\"], [0.4, \"rgb(188,189,220)\"], [0.6, \"rgb(158,154,200)\"], [0.8, \"rgb(117,107,177)\"], [1.0, \"rgb(84,39,143)\"]], \"autocolorscale\": false, \"locations\": [\"CA\", \"NY\", \"TX\", \"NJ\", \"IL\", \"FL\", \"MA\", \"PA\", \"WA\", \"VA\", \"GA\", \"OH\", \"MD\", \"MI\", \"NC\", \"CT\", \"MN\", \"AZ\", \"IN\", \"WI\", \"MO\", \"CO\", \"DC\", \"TN\", \"OR\", \"IA\", \"DE\", \"KS\", \"AR\", \"SC\", \"LA\", \"KY\", \"AL\", \"OK\", \"UT\", \"NH\", \"NV\", \"NE\", \"RI\", \"NM\", \"HI\", \"MS\", \"ID\", \"ME\", \"WV\", \"ND\", \"SD\", \"PR\", \"VT\", \"AK\", \"MT\", \"WY\"], \"z\": [65690.0, 41769.0, 31431.0, 23611.0, 18595.0, 15227.0, 14720.0, 12896.0, 11359.0, 11062.0, 10829.0, 8582.0, 8544.0, 8305.0, 7783.0, 5885.0, 5683.0, 4391.0, 3837.0, 3761.0, 3756.0, 3630.0, 3491.0, 3463.0, 2859.0, 2308.0, 2152.0, 1713.0, 1680.0, 1628.0, 1615.0, 1600.0, 1487.0, 1457.0, 1451.0, 1185.0, 1129.0, 1089.0, 1038.0, 782.0, 655.0, 648.0, 638.0, 541.0, 441.0, 403.0, 328.0, 309.0, 304.0, 205.0, 163.0, 133.0], \"locationmode\": \"USA-states\", \"marker\": {\"line\": {\"color\": \"rgb(255,255,255)\", \"width\": 2}}, \"colorbar\": {\"title\": \"Number\"}}], {\"title\": \"2011 h1b visa by state\", \"geo\": {\"scope\": \"usa\", \"projection\": {\"type\": \"albers usa\"}, \"showlakes\": true, \"lakecolor\": \"rgb(255, 255, 255)\"}}, {\"showLink\": true, \"linkText\": \"Export to plot.ly\"})});</script>"
      ],
      "text/vnd.plotly.v1+html": [
       "<div id=\"f8671e3c-6422-4fa6-b331-647fee4f1daa\" style=\"height: 525px; width: 100%;\" class=\"plotly-graph-div\"></div><script type=\"text/javascript\">require([\"plotly\"], function(Plotly) { window.PLOTLYENV=window.PLOTLYENV || {};window.PLOTLYENV.BASE_URL=\"https://plot.ly\";Plotly.newPlot(\"f8671e3c-6422-4fa6-b331-647fee4f1daa\", [{\"type\": \"choropleth\", \"colorscale\": [[0.0, \"rgb(242,240,247)\"], [0.2, \"rgb(218,218,235)\"], [0.4, \"rgb(188,189,220)\"], [0.6, \"rgb(158,154,200)\"], [0.8, \"rgb(117,107,177)\"], [1.0, \"rgb(84,39,143)\"]], \"autocolorscale\": false, \"locations\": [\"CA\", \"NY\", \"TX\", \"NJ\", \"IL\", \"FL\", \"MA\", \"PA\", \"WA\", \"VA\", \"GA\", \"OH\", \"MD\", \"MI\", \"NC\", \"CT\", \"MN\", \"AZ\", \"IN\", \"WI\", \"MO\", \"CO\", \"DC\", \"TN\", \"OR\", \"IA\", \"DE\", \"KS\", \"AR\", \"SC\", \"LA\", \"KY\", \"AL\", \"OK\", \"UT\", \"NH\", \"NV\", \"NE\", \"RI\", \"NM\", \"HI\", \"MS\", \"ID\", \"ME\", \"WV\", \"ND\", \"SD\", \"PR\", \"VT\", \"AK\", \"MT\", \"WY\"], \"z\": [65690.0, 41769.0, 31431.0, 23611.0, 18595.0, 15227.0, 14720.0, 12896.0, 11359.0, 11062.0, 10829.0, 8582.0, 8544.0, 8305.0, 7783.0, 5885.0, 5683.0, 4391.0, 3837.0, 3761.0, 3756.0, 3630.0, 3491.0, 3463.0, 2859.0, 2308.0, 2152.0, 1713.0, 1680.0, 1628.0, 1615.0, 1600.0, 1487.0, 1457.0, 1451.0, 1185.0, 1129.0, 1089.0, 1038.0, 782.0, 655.0, 648.0, 638.0, 541.0, 441.0, 403.0, 328.0, 309.0, 304.0, 205.0, 163.0, 133.0], \"locationmode\": \"USA-states\", \"marker\": {\"line\": {\"color\": \"rgb(255,255,255)\", \"width\": 2}}, \"colorbar\": {\"title\": \"Number\"}}], {\"title\": \"2011 h1b visa by state\", \"geo\": {\"scope\": \"usa\", \"projection\": {\"type\": \"albers usa\"}, \"showlakes\": true, \"lakecolor\": \"rgb(255, 255, 255)\"}}, {\"showLink\": true, \"linkText\": \"Export to plot.ly\"})});</script>"
      ]
     },
     "metadata": {},
     "output_type": "display_data"
    },
    {
     "data": {
      "application/vnd.plotly.v1+json": {
       "data": [
        {
         "autocolorscale": false,
         "colorbar": {
          "title": "Number"
         },
         "colorscale": [
          [
           0,
           "rgb(242,240,247)"
          ],
          [
           0.2,
           "rgb(218,218,235)"
          ],
          [
           0.4,
           "rgb(188,189,220)"
          ],
          [
           0.6,
           "rgb(158,154,200)"
          ],
          [
           0.8,
           "rgb(117,107,177)"
          ],
          [
           1,
           "rgb(84,39,143)"
          ]
         ],
         "locationmode": "USA-states",
         "locations": [
          "CA",
          "NY",
          "TX",
          "NJ",
          "IL",
          "MA",
          "FL",
          "PA",
          "WA",
          "GA",
          "VA",
          "OH",
          "NC",
          "MI",
          "MD",
          "CT",
          "MN",
          "AZ",
          "MO",
          "TN",
          "WI",
          "CO",
          "IN",
          "DC",
          "OR",
          "IA",
          "DE",
          "KS",
          "KY",
          "AR",
          "SC",
          "UT",
          "LA",
          "OK",
          "AL",
          "NH",
          "RI",
          "NE",
          "NV",
          "NM",
          "HI",
          "MS",
          "ID",
          "ME",
          "WV",
          "ND",
          "PR",
          "VT",
          "SD",
          "AK",
          "WY",
          "MT"
         ],
         "marker": {
          "line": {
           "color": "rgb(255,255,255)",
           "width": 2
          }
         },
         "type": "choropleth",
         "z": [
          76402,
          44512,
          37943,
          27856,
          22350,
          16556,
          16368,
          15552,
          13217,
          12733,
          12423,
          10426,
          10411,
          9918,
          8350,
          7827,
          6900,
          5488,
          4714,
          4544,
          4384,
          4378,
          4340,
          3570,
          3103,
          2513,
          2348,
          2046,
          2017,
          1890,
          1795,
          1753,
          1661,
          1656,
          1572,
          1526,
          1323,
          1242,
          1223,
          953,
          725,
          645,
          644,
          586,
          491,
          446,
          311,
          296,
          286,
          273,
          164,
          137
         ]
        }
       ],
       "layout": {
        "geo": {
         "lakecolor": "rgb(255, 255, 255)",
         "projection": {
          "type": "albers usa"
         },
         "scope": "usa",
         "showlakes": true
        },
        "title": "2012 h1b visa by state"
       }
      },
      "text/html": [
       "<div id=\"f23e1f21-5ab7-42da-9684-aaf38f3e8862\" style=\"height: 525px; width: 100%;\" class=\"plotly-graph-div\"></div><script type=\"text/javascript\">require([\"plotly\"], function(Plotly) { window.PLOTLYENV=window.PLOTLYENV || {};window.PLOTLYENV.BASE_URL=\"https://plot.ly\";Plotly.newPlot(\"f23e1f21-5ab7-42da-9684-aaf38f3e8862\", [{\"type\": \"choropleth\", \"colorscale\": [[0.0, \"rgb(242,240,247)\"], [0.2, \"rgb(218,218,235)\"], [0.4, \"rgb(188,189,220)\"], [0.6, \"rgb(158,154,200)\"], [0.8, \"rgb(117,107,177)\"], [1.0, \"rgb(84,39,143)\"]], \"autocolorscale\": false, \"locations\": [\"CA\", \"NY\", \"TX\", \"NJ\", \"IL\", \"MA\", \"FL\", \"PA\", \"WA\", \"GA\", \"VA\", \"OH\", \"NC\", \"MI\", \"MD\", \"CT\", \"MN\", \"AZ\", \"MO\", \"TN\", \"WI\", \"CO\", \"IN\", \"DC\", \"OR\", \"IA\", \"DE\", \"KS\", \"KY\", \"AR\", \"SC\", \"UT\", \"LA\", \"OK\", \"AL\", \"NH\", \"RI\", \"NE\", \"NV\", \"NM\", \"HI\", \"MS\", \"ID\", \"ME\", \"WV\", \"ND\", \"PR\", \"VT\", \"SD\", \"AK\", \"WY\", \"MT\"], \"z\": [76402.0, 44512.0, 37943.0, 27856.0, 22350.0, 16556.0, 16368.0, 15552.0, 13217.0, 12733.0, 12423.0, 10426.0, 10411.0, 9918.0, 8350.0, 7827.0, 6900.0, 5488.0, 4714.0, 4544.0, 4384.0, 4378.0, 4340.0, 3570.0, 3103.0, 2513.0, 2348.0, 2046.0, 2017.0, 1890.0, 1795.0, 1753.0, 1661.0, 1656.0, 1572.0, 1526.0, 1323.0, 1242.0, 1223.0, 953.0, 725.0, 645.0, 644.0, 586.0, 491.0, 446.0, 311.0, 296.0, 286.0, 273.0, 164.0, 137.0], \"locationmode\": \"USA-states\", \"marker\": {\"line\": {\"color\": \"rgb(255,255,255)\", \"width\": 2}}, \"colorbar\": {\"title\": \"Number\"}}], {\"title\": \"2012 h1b visa by state\", \"geo\": {\"scope\": \"usa\", \"projection\": {\"type\": \"albers usa\"}, \"showlakes\": true, \"lakecolor\": \"rgb(255, 255, 255)\"}}, {\"showLink\": true, \"linkText\": \"Export to plot.ly\"})});</script>"
      ],
      "text/vnd.plotly.v1+html": [
       "<div id=\"f23e1f21-5ab7-42da-9684-aaf38f3e8862\" style=\"height: 525px; width: 100%;\" class=\"plotly-graph-div\"></div><script type=\"text/javascript\">require([\"plotly\"], function(Plotly) { window.PLOTLYENV=window.PLOTLYENV || {};window.PLOTLYENV.BASE_URL=\"https://plot.ly\";Plotly.newPlot(\"f23e1f21-5ab7-42da-9684-aaf38f3e8862\", [{\"type\": \"choropleth\", \"colorscale\": [[0.0, \"rgb(242,240,247)\"], [0.2, \"rgb(218,218,235)\"], [0.4, \"rgb(188,189,220)\"], [0.6, \"rgb(158,154,200)\"], [0.8, \"rgb(117,107,177)\"], [1.0, \"rgb(84,39,143)\"]], \"autocolorscale\": false, \"locations\": [\"CA\", \"NY\", \"TX\", \"NJ\", \"IL\", \"MA\", \"FL\", \"PA\", \"WA\", \"GA\", \"VA\", \"OH\", \"NC\", \"MI\", \"MD\", \"CT\", \"MN\", \"AZ\", \"MO\", \"TN\", \"WI\", \"CO\", \"IN\", \"DC\", \"OR\", \"IA\", \"DE\", \"KS\", \"KY\", \"AR\", \"SC\", \"UT\", \"LA\", \"OK\", \"AL\", \"NH\", \"RI\", \"NE\", \"NV\", \"NM\", \"HI\", \"MS\", \"ID\", \"ME\", \"WV\", \"ND\", \"PR\", \"VT\", \"SD\", \"AK\", \"WY\", \"MT\"], \"z\": [76402.0, 44512.0, 37943.0, 27856.0, 22350.0, 16556.0, 16368.0, 15552.0, 13217.0, 12733.0, 12423.0, 10426.0, 10411.0, 9918.0, 8350.0, 7827.0, 6900.0, 5488.0, 4714.0, 4544.0, 4384.0, 4378.0, 4340.0, 3570.0, 3103.0, 2513.0, 2348.0, 2046.0, 2017.0, 1890.0, 1795.0, 1753.0, 1661.0, 1656.0, 1572.0, 1526.0, 1323.0, 1242.0, 1223.0, 953.0, 725.0, 645.0, 644.0, 586.0, 491.0, 446.0, 311.0, 296.0, 286.0, 273.0, 164.0, 137.0], \"locationmode\": \"USA-states\", \"marker\": {\"line\": {\"color\": \"rgb(255,255,255)\", \"width\": 2}}, \"colorbar\": {\"title\": \"Number\"}}], {\"title\": \"2012 h1b visa by state\", \"geo\": {\"scope\": \"usa\", \"projection\": {\"type\": \"albers usa\"}, \"showlakes\": true, \"lakecolor\": \"rgb(255, 255, 255)\"}}, {\"showLink\": true, \"linkText\": \"Export to plot.ly\"})});</script>"
      ]
     },
     "metadata": {},
     "output_type": "display_data"
    },
    {
     "data": {
      "application/vnd.plotly.v1+json": {
       "data": [
        {
         "autocolorscale": false,
         "colorbar": {
          "title": "Number"
         },
         "colorscale": [
          [
           0,
           "rgb(242,240,247)"
          ],
          [
           0.2,
           "rgb(218,218,235)"
          ],
          [
           0.4,
           "rgb(188,189,220)"
          ],
          [
           0.6,
           "rgb(158,154,200)"
          ],
          [
           0.8,
           "rgb(117,107,177)"
          ],
          [
           1,
           "rgb(84,39,143)"
          ]
         ],
         "locationmode": "USA-states",
         "locations": [
          "CA",
          "NY",
          "TX",
          "NJ",
          "IL",
          "MA",
          "PA",
          "WA",
          "FL",
          "GA",
          "VA",
          "NC",
          "OH",
          "MI",
          "MD",
          "CT",
          "MN",
          "AZ",
          "WI",
          "MO",
          "CO",
          "IN",
          "TN",
          "OR",
          "DC",
          "DE",
          "IA",
          "AR",
          "KS",
          "UT",
          "KY",
          "RI",
          "SC",
          "LA",
          "OK",
          "NH",
          "AL",
          "NE",
          "NV",
          "NM",
          "ME",
          "MS",
          "ID",
          "HI",
          "WV",
          "ND",
          "VT",
          "SD",
          "AK",
          "PR",
          "MT",
          "WY"
         ],
         "marker": {
          "line": {
           "color": "rgb(255,255,255)",
           "width": 2
          }
         },
         "type": "choropleth",
         "z": [
          83852,
          42565,
          42216,
          29794,
          24510,
          16898,
          16779,
          15493,
          15283,
          13994,
          13122,
          11668,
          11642,
          11535,
          8132,
          7447,
          7194,
          6389,
          5053,
          4988,
          4889,
          4281,
          4268,
          3712,
          3687,
          3172,
          2607,
          2442,
          2233,
          1945,
          1889,
          1792,
          1672,
          1662,
          1577,
          1558,
          1487,
          1388,
          1119,
          854,
          672,
          668,
          635,
          615,
          519,
          469,
          262,
          261,
          260,
          207,
          156,
          128
         ]
        }
       ],
       "layout": {
        "geo": {
         "lakecolor": "rgb(255, 255, 255)",
         "projection": {
          "type": "albers usa"
         },
         "scope": "usa",
         "showlakes": true
        },
        "title": "2013 h1b visa by state"
       }
      },
      "text/html": [
       "<div id=\"c8863dab-7aeb-4012-84b3-28363b0fe7e8\" style=\"height: 525px; width: 100%;\" class=\"plotly-graph-div\"></div><script type=\"text/javascript\">require([\"plotly\"], function(Plotly) { window.PLOTLYENV=window.PLOTLYENV || {};window.PLOTLYENV.BASE_URL=\"https://plot.ly\";Plotly.newPlot(\"c8863dab-7aeb-4012-84b3-28363b0fe7e8\", [{\"type\": \"choropleth\", \"colorscale\": [[0.0, \"rgb(242,240,247)\"], [0.2, \"rgb(218,218,235)\"], [0.4, \"rgb(188,189,220)\"], [0.6, \"rgb(158,154,200)\"], [0.8, \"rgb(117,107,177)\"], [1.0, \"rgb(84,39,143)\"]], \"autocolorscale\": false, \"locations\": [\"CA\", \"NY\", \"TX\", \"NJ\", \"IL\", \"MA\", \"PA\", \"WA\", \"FL\", \"GA\", \"VA\", \"NC\", \"OH\", \"MI\", \"MD\", \"CT\", \"MN\", \"AZ\", \"WI\", \"MO\", \"CO\", \"IN\", \"TN\", \"OR\", \"DC\", \"DE\", \"IA\", \"AR\", \"KS\", \"UT\", \"KY\", \"RI\", \"SC\", \"LA\", \"OK\", \"NH\", \"AL\", \"NE\", \"NV\", \"NM\", \"ME\", \"MS\", \"ID\", \"HI\", \"WV\", \"ND\", \"VT\", \"SD\", \"AK\", \"PR\", \"MT\", \"WY\"], \"z\": [83852.0, 42565.0, 42216.0, 29794.0, 24510.0, 16898.0, 16779.0, 15493.0, 15283.0, 13994.0, 13122.0, 11668.0, 11642.0, 11535.0, 8132.0, 7447.0, 7194.0, 6389.0, 5053.0, 4988.0, 4889.0, 4281.0, 4268.0, 3712.0, 3687.0, 3172.0, 2607.0, 2442.0, 2233.0, 1945.0, 1889.0, 1792.0, 1672.0, 1662.0, 1577.0, 1558.0, 1487.0, 1388.0, 1119.0, 854.0, 672.0, 668.0, 635.0, 615.0, 519.0, 469.0, 262.0, 261.0, 260.0, 207.0, 156.0, 128.0], \"locationmode\": \"USA-states\", \"marker\": {\"line\": {\"color\": \"rgb(255,255,255)\", \"width\": 2}}, \"colorbar\": {\"title\": \"Number\"}}], {\"title\": \"2013 h1b visa by state\", \"geo\": {\"scope\": \"usa\", \"projection\": {\"type\": \"albers usa\"}, \"showlakes\": true, \"lakecolor\": \"rgb(255, 255, 255)\"}}, {\"showLink\": true, \"linkText\": \"Export to plot.ly\"})});</script>"
      ],
      "text/vnd.plotly.v1+html": [
       "<div id=\"c8863dab-7aeb-4012-84b3-28363b0fe7e8\" style=\"height: 525px; width: 100%;\" class=\"plotly-graph-div\"></div><script type=\"text/javascript\">require([\"plotly\"], function(Plotly) { window.PLOTLYENV=window.PLOTLYENV || {};window.PLOTLYENV.BASE_URL=\"https://plot.ly\";Plotly.newPlot(\"c8863dab-7aeb-4012-84b3-28363b0fe7e8\", [{\"type\": \"choropleth\", \"colorscale\": [[0.0, \"rgb(242,240,247)\"], [0.2, \"rgb(218,218,235)\"], [0.4, \"rgb(188,189,220)\"], [0.6, \"rgb(158,154,200)\"], [0.8, \"rgb(117,107,177)\"], [1.0, \"rgb(84,39,143)\"]], \"autocolorscale\": false, \"locations\": [\"CA\", \"NY\", \"TX\", \"NJ\", \"IL\", \"MA\", \"PA\", \"WA\", \"FL\", \"GA\", \"VA\", \"NC\", \"OH\", \"MI\", \"MD\", \"CT\", \"MN\", \"AZ\", \"WI\", \"MO\", \"CO\", \"IN\", \"TN\", \"OR\", \"DC\", \"DE\", \"IA\", \"AR\", \"KS\", \"UT\", \"KY\", \"RI\", \"SC\", \"LA\", \"OK\", \"NH\", \"AL\", \"NE\", \"NV\", \"NM\", \"ME\", \"MS\", \"ID\", \"HI\", \"WV\", \"ND\", \"VT\", \"SD\", \"AK\", \"PR\", \"MT\", \"WY\"], \"z\": [83852.0, 42565.0, 42216.0, 29794.0, 24510.0, 16898.0, 16779.0, 15493.0, 15283.0, 13994.0, 13122.0, 11668.0, 11642.0, 11535.0, 8132.0, 7447.0, 7194.0, 6389.0, 5053.0, 4988.0, 4889.0, 4281.0, 4268.0, 3712.0, 3687.0, 3172.0, 2607.0, 2442.0, 2233.0, 1945.0, 1889.0, 1792.0, 1672.0, 1662.0, 1577.0, 1558.0, 1487.0, 1388.0, 1119.0, 854.0, 672.0, 668.0, 635.0, 615.0, 519.0, 469.0, 262.0, 261.0, 260.0, 207.0, 156.0, 128.0], \"locationmode\": \"USA-states\", \"marker\": {\"line\": {\"color\": \"rgb(255,255,255)\", \"width\": 2}}, \"colorbar\": {\"title\": \"Number\"}}], {\"title\": \"2013 h1b visa by state\", \"geo\": {\"scope\": \"usa\", \"projection\": {\"type\": \"albers usa\"}, \"showlakes\": true, \"lakecolor\": \"rgb(255, 255, 255)\"}}, {\"showLink\": true, \"linkText\": \"Export to plot.ly\"})});</script>"
      ]
     },
     "metadata": {},
     "output_type": "display_data"
    },
    {
     "data": {
      "application/vnd.plotly.v1+json": {
       "data": [
        {
         "autocolorscale": false,
         "colorbar": {
          "title": "Number"
         },
         "colorscale": [
          [
           0,
           "rgb(242,240,247)"
          ],
          [
           0.2,
           "rgb(218,218,235)"
          ],
          [
           0.4,
           "rgb(188,189,220)"
          ],
          [
           0.6,
           "rgb(158,154,200)"
          ],
          [
           0.8,
           "rgb(117,107,177)"
          ],
          [
           1,
           "rgb(84,39,143)"
          ]
         ],
         "locationmode": "USA-states",
         "locations": [
          "CA",
          "TX",
          "NY",
          "NJ",
          "IL",
          "MA",
          "PA",
          "WA",
          "GA",
          "FL",
          "VA",
          "MI",
          "NC",
          "OH",
          "MD",
          "MN",
          "CT",
          "AZ",
          "MO",
          "CO",
          "WI",
          "IN",
          "OR",
          "TN",
          "DC",
          "DE",
          "IA",
          "KS",
          "UT",
          "AR",
          "RI",
          "KY",
          "SC",
          "OK",
          "LA",
          "AL",
          "NE",
          "NH",
          "NV",
          "NM",
          "ME",
          "MS",
          "ID",
          "HI",
          "ND",
          "WV",
          "VT",
          "SD",
          "AK",
          "PR",
          "WY",
          "MT"
         ],
         "marker": {
          "line": {
           "color": "rgb(255,255,255)",
           "width": 2
          }
         },
         "type": "choropleth",
         "z": [
          98512,
          51851,
          48877,
          36783,
          27407,
          19913,
          19150,
          17917,
          17728,
          17644,
          15475,
          13918,
          13550,
          13515,
          9601,
          8996,
          8917,
          7306,
          6200,
          5811,
          5529,
          5509,
          4595,
          4584,
          3727,
          3184,
          3168,
          2424,
          2369,
          2329,
          2225,
          2170,
          2084,
          1846,
          1838,
          1781,
          1708,
          1676,
          1231,
          908,
          714,
          678,
          609,
          602,
          490,
          431,
          362,
          281,
          246,
          209,
          168,
          134
         ]
        }
       ],
       "layout": {
        "geo": {
         "lakecolor": "rgb(255, 255, 255)",
         "projection": {
          "type": "albers usa"
         },
         "scope": "usa",
         "showlakes": true
        },
        "title": "2014 h1b visa by state"
       }
      },
      "text/html": [
       "<div id=\"c80ebbae-6fe7-4c7f-b74b-152f0c68eff4\" style=\"height: 525px; width: 100%;\" class=\"plotly-graph-div\"></div><script type=\"text/javascript\">require([\"plotly\"], function(Plotly) { window.PLOTLYENV=window.PLOTLYENV || {};window.PLOTLYENV.BASE_URL=\"https://plot.ly\";Plotly.newPlot(\"c80ebbae-6fe7-4c7f-b74b-152f0c68eff4\", [{\"type\": \"choropleth\", \"colorscale\": [[0.0, \"rgb(242,240,247)\"], [0.2, \"rgb(218,218,235)\"], [0.4, \"rgb(188,189,220)\"], [0.6, \"rgb(158,154,200)\"], [0.8, \"rgb(117,107,177)\"], [1.0, \"rgb(84,39,143)\"]], \"autocolorscale\": false, \"locations\": [\"CA\", \"TX\", \"NY\", \"NJ\", \"IL\", \"MA\", \"PA\", \"WA\", \"GA\", \"FL\", \"VA\", \"MI\", \"NC\", \"OH\", \"MD\", \"MN\", \"CT\", \"AZ\", \"MO\", \"CO\", \"WI\", \"IN\", \"OR\", \"TN\", \"DC\", \"DE\", \"IA\", \"KS\", \"UT\", \"AR\", \"RI\", \"KY\", \"SC\", \"OK\", \"LA\", \"AL\", \"NE\", \"NH\", \"NV\", \"NM\", \"ME\", \"MS\", \"ID\", \"HI\", \"ND\", \"WV\", \"VT\", \"SD\", \"AK\", \"PR\", \"WY\", \"MT\"], \"z\": [98512.0, 51851.0, 48877.0, 36783.0, 27407.0, 19913.0, 19150.0, 17917.0, 17728.0, 17644.0, 15475.0, 13918.0, 13550.0, 13515.0, 9601.0, 8996.0, 8917.0, 7306.0, 6200.0, 5811.0, 5529.0, 5509.0, 4595.0, 4584.0, 3727.0, 3184.0, 3168.0, 2424.0, 2369.0, 2329.0, 2225.0, 2170.0, 2084.0, 1846.0, 1838.0, 1781.0, 1708.0, 1676.0, 1231.0, 908.0, 714.0, 678.0, 609.0, 602.0, 490.0, 431.0, 362.0, 281.0, 246.0, 209.0, 168.0, 134.0], \"locationmode\": \"USA-states\", \"marker\": {\"line\": {\"color\": \"rgb(255,255,255)\", \"width\": 2}}, \"colorbar\": {\"title\": \"Number\"}}], {\"title\": \"2014 h1b visa by state\", \"geo\": {\"scope\": \"usa\", \"projection\": {\"type\": \"albers usa\"}, \"showlakes\": true, \"lakecolor\": \"rgb(255, 255, 255)\"}}, {\"showLink\": true, \"linkText\": \"Export to plot.ly\"})});</script>"
      ],
      "text/vnd.plotly.v1+html": [
       "<div id=\"c80ebbae-6fe7-4c7f-b74b-152f0c68eff4\" style=\"height: 525px; width: 100%;\" class=\"plotly-graph-div\"></div><script type=\"text/javascript\">require([\"plotly\"], function(Plotly) { window.PLOTLYENV=window.PLOTLYENV || {};window.PLOTLYENV.BASE_URL=\"https://plot.ly\";Plotly.newPlot(\"c80ebbae-6fe7-4c7f-b74b-152f0c68eff4\", [{\"type\": \"choropleth\", \"colorscale\": [[0.0, \"rgb(242,240,247)\"], [0.2, \"rgb(218,218,235)\"], [0.4, \"rgb(188,189,220)\"], [0.6, \"rgb(158,154,200)\"], [0.8, \"rgb(117,107,177)\"], [1.0, \"rgb(84,39,143)\"]], \"autocolorscale\": false, \"locations\": [\"CA\", \"TX\", \"NY\", \"NJ\", \"IL\", \"MA\", \"PA\", \"WA\", \"GA\", \"FL\", \"VA\", \"MI\", \"NC\", \"OH\", \"MD\", \"MN\", \"CT\", \"AZ\", \"MO\", \"CO\", \"WI\", \"IN\", \"OR\", \"TN\", \"DC\", \"DE\", \"IA\", \"KS\", \"UT\", \"AR\", \"RI\", \"KY\", \"SC\", \"OK\", \"LA\", \"AL\", \"NE\", \"NH\", \"NV\", \"NM\", \"ME\", \"MS\", \"ID\", \"HI\", \"ND\", \"WV\", \"VT\", \"SD\", \"AK\", \"PR\", \"WY\", \"MT\"], \"z\": [98512.0, 51851.0, 48877.0, 36783.0, 27407.0, 19913.0, 19150.0, 17917.0, 17728.0, 17644.0, 15475.0, 13918.0, 13550.0, 13515.0, 9601.0, 8996.0, 8917.0, 7306.0, 6200.0, 5811.0, 5529.0, 5509.0, 4595.0, 4584.0, 3727.0, 3184.0, 3168.0, 2424.0, 2369.0, 2329.0, 2225.0, 2170.0, 2084.0, 1846.0, 1838.0, 1781.0, 1708.0, 1676.0, 1231.0, 908.0, 714.0, 678.0, 609.0, 602.0, 490.0, 431.0, 362.0, 281.0, 246.0, 209.0, 168.0, 134.0], \"locationmode\": \"USA-states\", \"marker\": {\"line\": {\"color\": \"rgb(255,255,255)\", \"width\": 2}}, \"colorbar\": {\"title\": \"Number\"}}], {\"title\": \"2014 h1b visa by state\", \"geo\": {\"scope\": \"usa\", \"projection\": {\"type\": \"albers usa\"}, \"showlakes\": true, \"lakecolor\": \"rgb(255, 255, 255)\"}}, {\"showLink\": true, \"linkText\": \"Export to plot.ly\"})});</script>"
      ]
     },
     "metadata": {},
     "output_type": "display_data"
    },
    {
     "data": {
      "application/vnd.plotly.v1+json": {
       "data": [
        {
         "autocolorscale": false,
         "colorbar": {
          "title": "Number"
         },
         "colorscale": [
          [
           0,
           "rgb(242,240,247)"
          ],
          [
           0.2,
           "rgb(218,218,235)"
          ],
          [
           0.4,
           "rgb(188,189,220)"
          ],
          [
           0.6,
           "rgb(158,154,200)"
          ],
          [
           0.8,
           "rgb(117,107,177)"
          ],
          [
           1,
           "rgb(84,39,143)"
          ]
         ],
         "locationmode": "USA-states",
         "locations": [
          "CA",
          "TX",
          "NY",
          "NJ",
          "IL",
          "MA",
          "GA",
          "PA",
          "WA",
          "FL",
          "VA",
          "MI",
          "NC",
          "OH",
          "MD",
          "CT",
          "MN",
          "AZ",
          "MO",
          "WI",
          "CO",
          "IN",
          "TN",
          "OR",
          "DC",
          "DE",
          "IA",
          "AR",
          "RI",
          "SC",
          "UT",
          "LA",
          "KS",
          "KY",
          "NH",
          "OK",
          "AL",
          "NE",
          "NV",
          "NM",
          "MS",
          "ID",
          "ME",
          "HI",
          "WV",
          "ND",
          "SD",
          "VT",
          "PR",
          "AK",
          "MT",
          "WY"
         ],
         "marker": {
          "line": {
           "color": "rgb(255,255,255)",
           "width": 2
          }
         },
         "type": "choropleth",
         "z": [
          115743,
          62550,
          55017,
          47662,
          32768,
          23488,
          23026,
          22202,
          21665,
          20401,
          19045,
          18318,
          17413,
          16066,
          10891,
          10142,
          9975,
          8746,
          7182,
          6898,
          6827,
          6150,
          5161,
          4803,
          4099,
          3760,
          3207,
          3015,
          2881,
          2801,
          2702,
          2702,
          2598,
          2403,
          2078,
          2046,
          1873,
          1815,
          1350,
          1005,
          792,
          778,
          718,
          598,
          579,
          575,
          398,
          351,
          214,
          213,
          205,
          166
         ]
        }
       ],
       "layout": {
        "geo": {
         "lakecolor": "rgb(255, 255, 255)",
         "projection": {
          "type": "albers usa"
         },
         "scope": "usa",
         "showlakes": true
        },
        "title": "2015 h1b visa by state"
       }
      },
      "text/html": [
       "<div id=\"23bc262f-1714-45e0-a530-bcf09f74a504\" style=\"height: 525px; width: 100%;\" class=\"plotly-graph-div\"></div><script type=\"text/javascript\">require([\"plotly\"], function(Plotly) { window.PLOTLYENV=window.PLOTLYENV || {};window.PLOTLYENV.BASE_URL=\"https://plot.ly\";Plotly.newPlot(\"23bc262f-1714-45e0-a530-bcf09f74a504\", [{\"type\": \"choropleth\", \"colorscale\": [[0.0, \"rgb(242,240,247)\"], [0.2, \"rgb(218,218,235)\"], [0.4, \"rgb(188,189,220)\"], [0.6, \"rgb(158,154,200)\"], [0.8, \"rgb(117,107,177)\"], [1.0, \"rgb(84,39,143)\"]], \"autocolorscale\": false, \"locations\": [\"CA\", \"TX\", \"NY\", \"NJ\", \"IL\", \"MA\", \"GA\", \"PA\", \"WA\", \"FL\", \"VA\", \"MI\", \"NC\", \"OH\", \"MD\", \"CT\", \"MN\", \"AZ\", \"MO\", \"WI\", \"CO\", \"IN\", \"TN\", \"OR\", \"DC\", \"DE\", \"IA\", \"AR\", \"RI\", \"SC\", \"UT\", \"LA\", \"KS\", \"KY\", \"NH\", \"OK\", \"AL\", \"NE\", \"NV\", \"NM\", \"MS\", \"ID\", \"ME\", \"HI\", \"WV\", \"ND\", \"SD\", \"VT\", \"PR\", \"AK\", \"MT\", \"WY\"], \"z\": [115743.0, 62550.0, 55017.0, 47662.0, 32768.0, 23488.0, 23026.0, 22202.0, 21665.0, 20401.0, 19045.0, 18318.0, 17413.0, 16066.0, 10891.0, 10142.0, 9975.0, 8746.0, 7182.0, 6898.0, 6827.0, 6150.0, 5161.0, 4803.0, 4099.0, 3760.0, 3207.0, 3015.0, 2881.0, 2801.0, 2702.0, 2702.0, 2598.0, 2403.0, 2078.0, 2046.0, 1873.0, 1815.0, 1350.0, 1005.0, 792.0, 778.0, 718.0, 598.0, 579.0, 575.0, 398.0, 351.0, 214.0, 213.0, 205.0, 166.0], \"locationmode\": \"USA-states\", \"marker\": {\"line\": {\"color\": \"rgb(255,255,255)\", \"width\": 2}}, \"colorbar\": {\"title\": \"Number\"}}], {\"title\": \"2015 h1b visa by state\", \"geo\": {\"scope\": \"usa\", \"projection\": {\"type\": \"albers usa\"}, \"showlakes\": true, \"lakecolor\": \"rgb(255, 255, 255)\"}}, {\"showLink\": true, \"linkText\": \"Export to plot.ly\"})});</script>"
      ],
      "text/vnd.plotly.v1+html": [
       "<div id=\"23bc262f-1714-45e0-a530-bcf09f74a504\" style=\"height: 525px; width: 100%;\" class=\"plotly-graph-div\"></div><script type=\"text/javascript\">require([\"plotly\"], function(Plotly) { window.PLOTLYENV=window.PLOTLYENV || {};window.PLOTLYENV.BASE_URL=\"https://plot.ly\";Plotly.newPlot(\"23bc262f-1714-45e0-a530-bcf09f74a504\", [{\"type\": \"choropleth\", \"colorscale\": [[0.0, \"rgb(242,240,247)\"], [0.2, \"rgb(218,218,235)\"], [0.4, \"rgb(188,189,220)\"], [0.6, \"rgb(158,154,200)\"], [0.8, \"rgb(117,107,177)\"], [1.0, \"rgb(84,39,143)\"]], \"autocolorscale\": false, \"locations\": [\"CA\", \"TX\", \"NY\", \"NJ\", \"IL\", \"MA\", \"GA\", \"PA\", \"WA\", \"FL\", \"VA\", \"MI\", \"NC\", \"OH\", \"MD\", \"CT\", \"MN\", \"AZ\", \"MO\", \"WI\", \"CO\", \"IN\", \"TN\", \"OR\", \"DC\", \"DE\", \"IA\", \"AR\", \"RI\", \"SC\", \"UT\", \"LA\", \"KS\", \"KY\", \"NH\", \"OK\", \"AL\", \"NE\", \"NV\", \"NM\", \"MS\", \"ID\", \"ME\", \"HI\", \"WV\", \"ND\", \"SD\", \"VT\", \"PR\", \"AK\", \"MT\", \"WY\"], \"z\": [115743.0, 62550.0, 55017.0, 47662.0, 32768.0, 23488.0, 23026.0, 22202.0, 21665.0, 20401.0, 19045.0, 18318.0, 17413.0, 16066.0, 10891.0, 10142.0, 9975.0, 8746.0, 7182.0, 6898.0, 6827.0, 6150.0, 5161.0, 4803.0, 4099.0, 3760.0, 3207.0, 3015.0, 2881.0, 2801.0, 2702.0, 2702.0, 2598.0, 2403.0, 2078.0, 2046.0, 1873.0, 1815.0, 1350.0, 1005.0, 792.0, 778.0, 718.0, 598.0, 579.0, 575.0, 398.0, 351.0, 214.0, 213.0, 205.0, 166.0], \"locationmode\": \"USA-states\", \"marker\": {\"line\": {\"color\": \"rgb(255,255,255)\", \"width\": 2}}, \"colorbar\": {\"title\": \"Number\"}}], {\"title\": \"2015 h1b visa by state\", \"geo\": {\"scope\": \"usa\", \"projection\": {\"type\": \"albers usa\"}, \"showlakes\": true, \"lakecolor\": \"rgb(255, 255, 255)\"}}, {\"showLink\": true, \"linkText\": \"Export to plot.ly\"})});</script>"
      ]
     },
     "metadata": {},
     "output_type": "display_data"
    },
    {
     "data": {
      "application/vnd.plotly.v1+json": {
       "data": [
        {
         "autocolorscale": false,
         "colorbar": {
          "title": "Number"
         },
         "colorscale": [
          [
           0,
           "rgb(242,240,247)"
          ],
          [
           0.2,
           "rgb(218,218,235)"
          ],
          [
           0.4,
           "rgb(188,189,220)"
          ],
          [
           0.6,
           "rgb(158,154,200)"
          ],
          [
           0.8,
           "rgb(117,107,177)"
          ],
          [
           1,
           "rgb(84,39,143)"
          ]
         ],
         "locationmode": "USA-states",
         "locations": [
          "CA",
          "TX",
          "NY",
          "NJ",
          "IL",
          "MA",
          "GA",
          "PA",
          "WA",
          "MI",
          "FL",
          "VA",
          "NC",
          "OH",
          "MD",
          "CT",
          "MN",
          "AZ",
          "MO",
          "WI",
          "CO",
          "IN",
          "TN",
          "OR",
          "DC",
          "DE",
          "AR",
          "SC",
          "IA",
          "UT",
          "KS",
          "KY",
          "RI",
          "LA",
          "AL",
          "OK",
          "NE",
          "NH",
          "NV",
          "NM",
          "ID",
          "MS",
          "ME",
          "WV",
          "HI",
          "ND",
          "VT",
          "SD",
          "PR",
          "AK",
          "MT",
          "WY"
         ],
         "marker": {
          "line": {
           "color": "rgb(255,255,255)",
           "width": 2
          }
         },
         "type": "choropleth",
         "z": [
          119741,
          68463,
          58670,
          48370,
          35184,
          24891,
          24857,
          23380,
          23150,
          20970,
          20850,
          18901,
          18847,
          16344,
          10738,
          10035,
          9937,
          9734,
          7973,
          7047,
          6502,
          6399,
          5652,
          4718,
          4134,
          3522,
          3406,
          2952,
          2940,
          2887,
          2768,
          2623,
          2458,
          2191,
          2053,
          2015,
          2014,
          1906,
          1396,
          1039,
          887,
          839,
          687,
          618,
          557,
          544,
          366,
          348,
          202,
          199,
          191,
          137
         ]
        }
       ],
       "layout": {
        "geo": {
         "lakecolor": "rgb(255, 255, 255)",
         "projection": {
          "type": "albers usa"
         },
         "scope": "usa",
         "showlakes": true
        },
        "title": "2016 h1b visa by state"
       }
      },
      "text/html": [
       "<div id=\"8185addc-139b-43e1-aff8-01f9d820732c\" style=\"height: 525px; width: 100%;\" class=\"plotly-graph-div\"></div><script type=\"text/javascript\">require([\"plotly\"], function(Plotly) { window.PLOTLYENV=window.PLOTLYENV || {};window.PLOTLYENV.BASE_URL=\"https://plot.ly\";Plotly.newPlot(\"8185addc-139b-43e1-aff8-01f9d820732c\", [{\"type\": \"choropleth\", \"colorscale\": [[0.0, \"rgb(242,240,247)\"], [0.2, \"rgb(218,218,235)\"], [0.4, \"rgb(188,189,220)\"], [0.6, \"rgb(158,154,200)\"], [0.8, \"rgb(117,107,177)\"], [1.0, \"rgb(84,39,143)\"]], \"autocolorscale\": false, \"locations\": [\"CA\", \"TX\", \"NY\", \"NJ\", \"IL\", \"MA\", \"GA\", \"PA\", \"WA\", \"MI\", \"FL\", \"VA\", \"NC\", \"OH\", \"MD\", \"CT\", \"MN\", \"AZ\", \"MO\", \"WI\", \"CO\", \"IN\", \"TN\", \"OR\", \"DC\", \"DE\", \"AR\", \"SC\", \"IA\", \"UT\", \"KS\", \"KY\", \"RI\", \"LA\", \"AL\", \"OK\", \"NE\", \"NH\", \"NV\", \"NM\", \"ID\", \"MS\", \"ME\", \"WV\", \"HI\", \"ND\", \"VT\", \"SD\", \"PR\", \"AK\", \"MT\", \"WY\"], \"z\": [119741.0, 68463.0, 58670.0, 48370.0, 35184.0, 24891.0, 24857.0, 23380.0, 23150.0, 20970.0, 20850.0, 18901.0, 18847.0, 16344.0, 10738.0, 10035.0, 9937.0, 9734.0, 7973.0, 7047.0, 6502.0, 6399.0, 5652.0, 4718.0, 4134.0, 3522.0, 3406.0, 2952.0, 2940.0, 2887.0, 2768.0, 2623.0, 2458.0, 2191.0, 2053.0, 2015.0, 2014.0, 1906.0, 1396.0, 1039.0, 887.0, 839.0, 687.0, 618.0, 557.0, 544.0, 366.0, 348.0, 202.0, 199.0, 191.0, 137.0], \"locationmode\": \"USA-states\", \"marker\": {\"line\": {\"color\": \"rgb(255,255,255)\", \"width\": 2}}, \"colorbar\": {\"title\": \"Number\"}}], {\"title\": \"2016 h1b visa by state\", \"geo\": {\"scope\": \"usa\", \"projection\": {\"type\": \"albers usa\"}, \"showlakes\": true, \"lakecolor\": \"rgb(255, 255, 255)\"}}, {\"showLink\": true, \"linkText\": \"Export to plot.ly\"})});</script>"
      ],
      "text/vnd.plotly.v1+html": [
       "<div id=\"8185addc-139b-43e1-aff8-01f9d820732c\" style=\"height: 525px; width: 100%;\" class=\"plotly-graph-div\"></div><script type=\"text/javascript\">require([\"plotly\"], function(Plotly) { window.PLOTLYENV=window.PLOTLYENV || {};window.PLOTLYENV.BASE_URL=\"https://plot.ly\";Plotly.newPlot(\"8185addc-139b-43e1-aff8-01f9d820732c\", [{\"type\": \"choropleth\", \"colorscale\": [[0.0, \"rgb(242,240,247)\"], [0.2, \"rgb(218,218,235)\"], [0.4, \"rgb(188,189,220)\"], [0.6, \"rgb(158,154,200)\"], [0.8, \"rgb(117,107,177)\"], [1.0, \"rgb(84,39,143)\"]], \"autocolorscale\": false, \"locations\": [\"CA\", \"TX\", \"NY\", \"NJ\", \"IL\", \"MA\", \"GA\", \"PA\", \"WA\", \"MI\", \"FL\", \"VA\", \"NC\", \"OH\", \"MD\", \"CT\", \"MN\", \"AZ\", \"MO\", \"WI\", \"CO\", \"IN\", \"TN\", \"OR\", \"DC\", \"DE\", \"AR\", \"SC\", \"IA\", \"UT\", \"KS\", \"KY\", \"RI\", \"LA\", \"AL\", \"OK\", \"NE\", \"NH\", \"NV\", \"NM\", \"ID\", \"MS\", \"ME\", \"WV\", \"HI\", \"ND\", \"VT\", \"SD\", \"PR\", \"AK\", \"MT\", \"WY\"], \"z\": [119741.0, 68463.0, 58670.0, 48370.0, 35184.0, 24891.0, 24857.0, 23380.0, 23150.0, 20970.0, 20850.0, 18901.0, 18847.0, 16344.0, 10738.0, 10035.0, 9937.0, 9734.0, 7973.0, 7047.0, 6502.0, 6399.0, 5652.0, 4718.0, 4134.0, 3522.0, 3406.0, 2952.0, 2940.0, 2887.0, 2768.0, 2623.0, 2458.0, 2191.0, 2053.0, 2015.0, 2014.0, 1906.0, 1396.0, 1039.0, 887.0, 839.0, 687.0, 618.0, 557.0, 544.0, 366.0, 348.0, 202.0, 199.0, 191.0, 137.0], \"locationmode\": \"USA-states\", \"marker\": {\"line\": {\"color\": \"rgb(255,255,255)\", \"width\": 2}}, \"colorbar\": {\"title\": \"Number\"}}], {\"title\": \"2016 h1b visa by state\", \"geo\": {\"scope\": \"usa\", \"projection\": {\"type\": \"albers usa\"}, \"showlakes\": true, \"lakecolor\": \"rgb(255, 255, 255)\"}}, {\"showLink\": true, \"linkText\": \"Export to plot.ly\"})});</script>"
      ]
     },
     "metadata": {},
     "output_type": "display_data"
    }
   ],
   "source": [
    "for i in range(2011,2017):\n",
    "    df_t = df[df['YEAR'] == i]\n",
    "    df_t = pd.DataFrame(df_t[\"CODE\"].value_counts())\n",
    "    df_t = df_t.reset_index()\n",
    "    \n",
    "    scl = [[0.0, 'rgb(242,240,247)'],[0.2, 'rgb(218,218,235)'],[0.4, 'rgb(188,189,220)'],\\\n",
    "            [0.6, 'rgb(158,154,200)'],[0.8, 'rgb(117,107,177)'],[1.0, 'rgb(84,39,143)']]\n",
    "\n",
    "    data = [ dict(\n",
    "            type='choropleth',\n",
    "            colorscale = scl,\n",
    "            autocolorscale = False,\n",
    "            locations = df_t['index'],\n",
    "            z = df_t[\"CODE\"].astype(float),\n",
    "            locationmode = 'USA-states',\n",
    "            marker = dict(\n",
    "                line = dict (\n",
    "                    color = 'rgb(255,255,255)',\n",
    "                    width = 2\n",
    "                ) ),\n",
    "            colorbar = dict(\n",
    "                title = \"Number\")\n",
    "            ) ]\n",
    "\n",
    "    s = str(i) + ' h1b visa by state'\n",
    "    \n",
    "    layout = dict(\n",
    "            title = s,\n",
    "            geo = dict(\n",
    "                scope='usa',\n",
    "                projection=dict( type='albers usa' ),\n",
    "                showlakes = True,\n",
    "                lakecolor = 'rgb(255, 255, 255)'),\n",
    "                 )\n",
    "\n",
    "    fig = dict( data=data, layout=layout )\n",
    "    plotly.offline.iplot( fig)"
   ]
  },
  {
   "cell_type": "markdown",
   "metadata": {},
   "source": [
    "### Number of H1B filed by infosys in USA "
   ]
  },
  {
   "cell_type": "code",
   "execution_count": 29,
   "metadata": {
    "scrolled": false
   },
   "outputs": [
    {
     "data": {
      "application/vnd.plotly.v1+json": {
       "data": [
        {
         "autocolorscale": false,
         "colorbar": {
          "title": "Number"
         },
         "colorscale": [
          [
           0,
           "rgb(242,240,247)"
          ],
          [
           0.2,
           "rgb(218,218,235)"
          ],
          [
           0.4,
           "rgb(188,189,220)"
          ],
          [
           0.6,
           "rgb(158,154,200)"
          ],
          [
           0.8,
           "rgb(117,107,177)"
          ],
          [
           1,
           "rgb(84,39,143)"
          ]
         ],
         "locationmode": "USA-states",
         "locations": [
          "CA",
          "NC",
          "NJ",
          "NY",
          "TX",
          "IL",
          "WA",
          "MN",
          "CT",
          "FL",
          "VA",
          "GA",
          "OH",
          "AZ",
          "AR",
          "MI",
          "UT",
          "MA",
          "CO",
          "PA",
          "WI",
          "KY",
          "RI",
          "MO",
          "IN",
          "OR",
          "ID",
          "DC",
          "AL",
          "TN"
         ],
         "marker": {
          "line": {
           "color": "rgb(255,255,255)",
           "width": 2
          }
         },
         "type": "choropleth",
         "z": [
          25,
          22,
          19,
          15,
          13,
          13,
          10,
          9,
          8,
          6,
          5,
          5,
          5,
          5,
          5,
          4,
          4,
          3,
          3,
          2,
          2,
          2,
          2,
          2,
          1,
          1,
          1,
          1,
          1,
          1
         ]
        }
       ],
       "layout": {
        "geo": {
         "lakecolor": "rgb(255, 255, 255)",
         "projection": {
          "type": "albers usa"
         },
         "scope": "usa",
         "showlakes": true
        },
        "title": "2011 h1b visa by state"
       }
      },
      "text/html": [
       "<div id=\"077bc713-1df5-4bac-8220-dcb8d254679f\" style=\"height: 525px; width: 100%;\" class=\"plotly-graph-div\"></div><script type=\"text/javascript\">require([\"plotly\"], function(Plotly) { window.PLOTLYENV=window.PLOTLYENV || {};window.PLOTLYENV.BASE_URL=\"https://plot.ly\";Plotly.newPlot(\"077bc713-1df5-4bac-8220-dcb8d254679f\", [{\"type\": \"choropleth\", \"colorscale\": [[0.0, \"rgb(242,240,247)\"], [0.2, \"rgb(218,218,235)\"], [0.4, \"rgb(188,189,220)\"], [0.6, \"rgb(158,154,200)\"], [0.8, \"rgb(117,107,177)\"], [1.0, \"rgb(84,39,143)\"]], \"autocolorscale\": false, \"locations\": [\"CA\", \"NC\", \"NJ\", \"NY\", \"TX\", \"IL\", \"WA\", \"MN\", \"CT\", \"FL\", \"VA\", \"GA\", \"OH\", \"AZ\", \"AR\", \"MI\", \"UT\", \"MA\", \"CO\", \"PA\", \"WI\", \"KY\", \"RI\", \"MO\", \"IN\", \"OR\", \"ID\", \"DC\", \"AL\", \"TN\"], \"z\": [25.0, 22.0, 19.0, 15.0, 13.0, 13.0, 10.0, 9.0, 8.0, 6.0, 5.0, 5.0, 5.0, 5.0, 5.0, 4.0, 4.0, 3.0, 3.0, 2.0, 2.0, 2.0, 2.0, 2.0, 1.0, 1.0, 1.0, 1.0, 1.0, 1.0], \"locationmode\": \"USA-states\", \"marker\": {\"line\": {\"color\": \"rgb(255,255,255)\", \"width\": 2}}, \"colorbar\": {\"title\": \"Number\"}}], {\"title\": \"2011 h1b visa by state\", \"geo\": {\"scope\": \"usa\", \"projection\": {\"type\": \"albers usa\"}, \"showlakes\": true, \"lakecolor\": \"rgb(255, 255, 255)\"}}, {\"showLink\": true, \"linkText\": \"Export to plot.ly\"})});</script>"
      ],
      "text/vnd.plotly.v1+html": [
       "<div id=\"077bc713-1df5-4bac-8220-dcb8d254679f\" style=\"height: 525px; width: 100%;\" class=\"plotly-graph-div\"></div><script type=\"text/javascript\">require([\"plotly\"], function(Plotly) { window.PLOTLYENV=window.PLOTLYENV || {};window.PLOTLYENV.BASE_URL=\"https://plot.ly\";Plotly.newPlot(\"077bc713-1df5-4bac-8220-dcb8d254679f\", [{\"type\": \"choropleth\", \"colorscale\": [[0.0, \"rgb(242,240,247)\"], [0.2, \"rgb(218,218,235)\"], [0.4, \"rgb(188,189,220)\"], [0.6, \"rgb(158,154,200)\"], [0.8, \"rgb(117,107,177)\"], [1.0, \"rgb(84,39,143)\"]], \"autocolorscale\": false, \"locations\": [\"CA\", \"NC\", \"NJ\", \"NY\", \"TX\", \"IL\", \"WA\", \"MN\", \"CT\", \"FL\", \"VA\", \"GA\", \"OH\", \"AZ\", \"AR\", \"MI\", \"UT\", \"MA\", \"CO\", \"PA\", \"WI\", \"KY\", \"RI\", \"MO\", \"IN\", \"OR\", \"ID\", \"DC\", \"AL\", \"TN\"], \"z\": [25.0, 22.0, 19.0, 15.0, 13.0, 13.0, 10.0, 9.0, 8.0, 6.0, 5.0, 5.0, 5.0, 5.0, 5.0, 4.0, 4.0, 3.0, 3.0, 2.0, 2.0, 2.0, 2.0, 2.0, 1.0, 1.0, 1.0, 1.0, 1.0, 1.0], \"locationmode\": \"USA-states\", \"marker\": {\"line\": {\"color\": \"rgb(255,255,255)\", \"width\": 2}}, \"colorbar\": {\"title\": \"Number\"}}], {\"title\": \"2011 h1b visa by state\", \"geo\": {\"scope\": \"usa\", \"projection\": {\"type\": \"albers usa\"}, \"showlakes\": true, \"lakecolor\": \"rgb(255, 255, 255)\"}}, {\"showLink\": true, \"linkText\": \"Export to plot.ly\"})});</script>"
      ]
     },
     "metadata": {},
     "output_type": "display_data"
    },
    {
     "data": {
      "application/vnd.plotly.v1+json": {
       "data": [
        {
         "autocolorscale": false,
         "colorbar": {
          "title": "Number"
         },
         "colorscale": [
          [
           0,
           "rgb(242,240,247)"
          ],
          [
           0.2,
           "rgb(218,218,235)"
          ],
          [
           0.4,
           "rgb(188,189,220)"
          ],
          [
           0.6,
           "rgb(158,154,200)"
          ],
          [
           0.8,
           "rgb(117,107,177)"
          ],
          [
           1,
           "rgb(84,39,143)"
          ]
         ],
         "locationmode": "USA-states",
         "locations": [
          "CA",
          "TX",
          "NC",
          "IL",
          "WA",
          "NJ",
          "NY",
          "CT",
          "GA",
          "AZ",
          "OH",
          "FL",
          "VA",
          "MN",
          "MA",
          "PA",
          "WI",
          "AR",
          "RI",
          "UT",
          "MO",
          "CO",
          "MI",
          "OR",
          "NH",
          "DE",
          "IN",
          "KS",
          "TN",
          "ME",
          "MD",
          "IA",
          "KY",
          "LA",
          "AK",
          "OK",
          "DC",
          "NM",
          "NV",
          "ID",
          "SC",
          "NE",
          "MS",
          "AL",
          "WV",
          "MT",
          "VT"
         ],
         "marker": {
          "line": {
           "color": "rgb(255,255,255)",
           "width": 2
          }
         },
         "type": "choropleth",
         "z": [
          2454,
          1762,
          1303,
          1202,
          889,
          771,
          748,
          604,
          574,
          526,
          465,
          429,
          418,
          415,
          413,
          406,
          317,
          261,
          195,
          182,
          178,
          169,
          154,
          146,
          120,
          104,
          99,
          87,
          69,
          69,
          65,
          46,
          28,
          25,
          22,
          16,
          14,
          13,
          10,
          10,
          10,
          10,
          9,
          6,
          3,
          1,
          1
         ]
        }
       ],
       "layout": {
        "geo": {
         "lakecolor": "rgb(255, 255, 255)",
         "projection": {
          "type": "albers usa"
         },
         "scope": "usa",
         "showlakes": true
        },
        "title": "2012 h1b visa by state"
       }
      },
      "text/html": [
       "<div id=\"74071e3c-cc18-4710-96fc-6066631fd379\" style=\"height: 525px; width: 100%;\" class=\"plotly-graph-div\"></div><script type=\"text/javascript\">require([\"plotly\"], function(Plotly) { window.PLOTLYENV=window.PLOTLYENV || {};window.PLOTLYENV.BASE_URL=\"https://plot.ly\";Plotly.newPlot(\"74071e3c-cc18-4710-96fc-6066631fd379\", [{\"type\": \"choropleth\", \"colorscale\": [[0.0, \"rgb(242,240,247)\"], [0.2, \"rgb(218,218,235)\"], [0.4, \"rgb(188,189,220)\"], [0.6, \"rgb(158,154,200)\"], [0.8, \"rgb(117,107,177)\"], [1.0, \"rgb(84,39,143)\"]], \"autocolorscale\": false, \"locations\": [\"CA\", \"TX\", \"NC\", \"IL\", \"WA\", \"NJ\", \"NY\", \"CT\", \"GA\", \"AZ\", \"OH\", \"FL\", \"VA\", \"MN\", \"MA\", \"PA\", \"WI\", \"AR\", \"RI\", \"UT\", \"MO\", \"CO\", \"MI\", \"OR\", \"NH\", \"DE\", \"IN\", \"KS\", \"TN\", \"ME\", \"MD\", \"IA\", \"KY\", \"LA\", \"AK\", \"OK\", \"DC\", \"NM\", \"NV\", \"ID\", \"SC\", \"NE\", \"MS\", \"AL\", \"WV\", \"MT\", \"VT\"], \"z\": [2454.0, 1762.0, 1303.0, 1202.0, 889.0, 771.0, 748.0, 604.0, 574.0, 526.0, 465.0, 429.0, 418.0, 415.0, 413.0, 406.0, 317.0, 261.0, 195.0, 182.0, 178.0, 169.0, 154.0, 146.0, 120.0, 104.0, 99.0, 87.0, 69.0, 69.0, 65.0, 46.0, 28.0, 25.0, 22.0, 16.0, 14.0, 13.0, 10.0, 10.0, 10.0, 10.0, 9.0, 6.0, 3.0, 1.0, 1.0], \"locationmode\": \"USA-states\", \"marker\": {\"line\": {\"color\": \"rgb(255,255,255)\", \"width\": 2}}, \"colorbar\": {\"title\": \"Number\"}}], {\"title\": \"2012 h1b visa by state\", \"geo\": {\"scope\": \"usa\", \"projection\": {\"type\": \"albers usa\"}, \"showlakes\": true, \"lakecolor\": \"rgb(255, 255, 255)\"}}, {\"showLink\": true, \"linkText\": \"Export to plot.ly\"})});</script>"
      ],
      "text/vnd.plotly.v1+html": [
       "<div id=\"74071e3c-cc18-4710-96fc-6066631fd379\" style=\"height: 525px; width: 100%;\" class=\"plotly-graph-div\"></div><script type=\"text/javascript\">require([\"plotly\"], function(Plotly) { window.PLOTLYENV=window.PLOTLYENV || {};window.PLOTLYENV.BASE_URL=\"https://plot.ly\";Plotly.newPlot(\"74071e3c-cc18-4710-96fc-6066631fd379\", [{\"type\": \"choropleth\", \"colorscale\": [[0.0, \"rgb(242,240,247)\"], [0.2, \"rgb(218,218,235)\"], [0.4, \"rgb(188,189,220)\"], [0.6, \"rgb(158,154,200)\"], [0.8, \"rgb(117,107,177)\"], [1.0, \"rgb(84,39,143)\"]], \"autocolorscale\": false, \"locations\": [\"CA\", \"TX\", \"NC\", \"IL\", \"WA\", \"NJ\", \"NY\", \"CT\", \"GA\", \"AZ\", \"OH\", \"FL\", \"VA\", \"MN\", \"MA\", \"PA\", \"WI\", \"AR\", \"RI\", \"UT\", \"MO\", \"CO\", \"MI\", \"OR\", \"NH\", \"DE\", \"IN\", \"KS\", \"TN\", \"ME\", \"MD\", \"IA\", \"KY\", \"LA\", \"AK\", \"OK\", \"DC\", \"NM\", \"NV\", \"ID\", \"SC\", \"NE\", \"MS\", \"AL\", \"WV\", \"MT\", \"VT\"], \"z\": [2454.0, 1762.0, 1303.0, 1202.0, 889.0, 771.0, 748.0, 604.0, 574.0, 526.0, 465.0, 429.0, 418.0, 415.0, 413.0, 406.0, 317.0, 261.0, 195.0, 182.0, 178.0, 169.0, 154.0, 146.0, 120.0, 104.0, 99.0, 87.0, 69.0, 69.0, 65.0, 46.0, 28.0, 25.0, 22.0, 16.0, 14.0, 13.0, 10.0, 10.0, 10.0, 10.0, 9.0, 6.0, 3.0, 1.0, 1.0], \"locationmode\": \"USA-states\", \"marker\": {\"line\": {\"color\": \"rgb(255,255,255)\", \"width\": 2}}, \"colorbar\": {\"title\": \"Number\"}}], {\"title\": \"2012 h1b visa by state\", \"geo\": {\"scope\": \"usa\", \"projection\": {\"type\": \"albers usa\"}, \"showlakes\": true, \"lakecolor\": \"rgb(255, 255, 255)\"}}, {\"showLink\": true, \"linkText\": \"Export to plot.ly\"})});</script>"
      ]
     },
     "metadata": {},
     "output_type": "display_data"
    },
    {
     "data": {
      "application/vnd.plotly.v1+json": {
       "data": [
        {
         "autocolorscale": false,
         "colorbar": {
          "title": "Number"
         },
         "colorscale": [
          [
           0,
           "rgb(242,240,247)"
          ],
          [
           0.2,
           "rgb(218,218,235)"
          ],
          [
           0.4,
           "rgb(188,189,220)"
          ],
          [
           0.6,
           "rgb(158,154,200)"
          ],
          [
           0.8,
           "rgb(117,107,177)"
          ],
          [
           1,
           "rgb(84,39,143)"
          ]
         ],
         "locationmode": "USA-states",
         "locations": [
          "CA",
          "TX",
          "NC",
          "IL",
          "WA",
          "NJ",
          "AZ",
          "NY",
          "CT",
          "GA",
          "WI",
          "FL",
          "OH",
          "PA",
          "MN",
          "VA",
          "MA",
          "OR",
          "AR",
          "RI",
          "MO",
          "UT",
          "CO",
          "MI",
          "NH",
          "DE",
          "KS",
          "TN",
          "DC",
          "IN",
          "MD",
          "KY",
          "ME",
          "IA",
          "AK",
          "LA",
          "OK",
          "NM",
          "NE",
          "MS",
          "AL",
          "SC",
          "VT",
          "PR",
          "ND",
          "NV"
         ],
         "marker": {
          "line": {
           "color": "rgb(255,255,255)",
           "width": 2
          }
         },
         "type": "choropleth",
         "z": [
          5804,
          3410,
          2565,
          2303,
          1972,
          1544,
          1350,
          1222,
          1068,
          978,
          909,
          892,
          881,
          755,
          732,
          662,
          598,
          584,
          560,
          473,
          401,
          364,
          308,
          294,
          216,
          204,
          178,
          158,
          151,
          140,
          115,
          79,
          72,
          70,
          51,
          43,
          29,
          25,
          20,
          18,
          15,
          4,
          2,
          2,
          1,
          1
         ]
        }
       ],
       "layout": {
        "geo": {
         "lakecolor": "rgb(255, 255, 255)",
         "projection": {
          "type": "albers usa"
         },
         "scope": "usa",
         "showlakes": true
        },
        "title": "2013 h1b visa by state"
       }
      },
      "text/html": [
       "<div id=\"60ee22a2-885b-4394-b592-494f15711422\" style=\"height: 525px; width: 100%;\" class=\"plotly-graph-div\"></div><script type=\"text/javascript\">require([\"plotly\"], function(Plotly) { window.PLOTLYENV=window.PLOTLYENV || {};window.PLOTLYENV.BASE_URL=\"https://plot.ly\";Plotly.newPlot(\"60ee22a2-885b-4394-b592-494f15711422\", [{\"type\": \"choropleth\", \"colorscale\": [[0.0, \"rgb(242,240,247)\"], [0.2, \"rgb(218,218,235)\"], [0.4, \"rgb(188,189,220)\"], [0.6, \"rgb(158,154,200)\"], [0.8, \"rgb(117,107,177)\"], [1.0, \"rgb(84,39,143)\"]], \"autocolorscale\": false, \"locations\": [\"CA\", \"TX\", \"NC\", \"IL\", \"WA\", \"NJ\", \"AZ\", \"NY\", \"CT\", \"GA\", \"WI\", \"FL\", \"OH\", \"PA\", \"MN\", \"VA\", \"MA\", \"OR\", \"AR\", \"RI\", \"MO\", \"UT\", \"CO\", \"MI\", \"NH\", \"DE\", \"KS\", \"TN\", \"DC\", \"IN\", \"MD\", \"KY\", \"ME\", \"IA\", \"AK\", \"LA\", \"OK\", \"NM\", \"NE\", \"MS\", \"AL\", \"SC\", \"VT\", \"PR\", \"ND\", \"NV\"], \"z\": [5804.0, 3410.0, 2565.0, 2303.0, 1972.0, 1544.0, 1350.0, 1222.0, 1068.0, 978.0, 909.0, 892.0, 881.0, 755.0, 732.0, 662.0, 598.0, 584.0, 560.0, 473.0, 401.0, 364.0, 308.0, 294.0, 216.0, 204.0, 178.0, 158.0, 151.0, 140.0, 115.0, 79.0, 72.0, 70.0, 51.0, 43.0, 29.0, 25.0, 20.0, 18.0, 15.0, 4.0, 2.0, 2.0, 1.0, 1.0], \"locationmode\": \"USA-states\", \"marker\": {\"line\": {\"color\": \"rgb(255,255,255)\", \"width\": 2}}, \"colorbar\": {\"title\": \"Number\"}}], {\"title\": \"2013 h1b visa by state\", \"geo\": {\"scope\": \"usa\", \"projection\": {\"type\": \"albers usa\"}, \"showlakes\": true, \"lakecolor\": \"rgb(255, 255, 255)\"}}, {\"showLink\": true, \"linkText\": \"Export to plot.ly\"})});</script>"
      ],
      "text/vnd.plotly.v1+html": [
       "<div id=\"60ee22a2-885b-4394-b592-494f15711422\" style=\"height: 525px; width: 100%;\" class=\"plotly-graph-div\"></div><script type=\"text/javascript\">require([\"plotly\"], function(Plotly) { window.PLOTLYENV=window.PLOTLYENV || {};window.PLOTLYENV.BASE_URL=\"https://plot.ly\";Plotly.newPlot(\"60ee22a2-885b-4394-b592-494f15711422\", [{\"type\": \"choropleth\", \"colorscale\": [[0.0, \"rgb(242,240,247)\"], [0.2, \"rgb(218,218,235)\"], [0.4, \"rgb(188,189,220)\"], [0.6, \"rgb(158,154,200)\"], [0.8, \"rgb(117,107,177)\"], [1.0, \"rgb(84,39,143)\"]], \"autocolorscale\": false, \"locations\": [\"CA\", \"TX\", \"NC\", \"IL\", \"WA\", \"NJ\", \"AZ\", \"NY\", \"CT\", \"GA\", \"WI\", \"FL\", \"OH\", \"PA\", \"MN\", \"VA\", \"MA\", \"OR\", \"AR\", \"RI\", \"MO\", \"UT\", \"CO\", \"MI\", \"NH\", \"DE\", \"KS\", \"TN\", \"DC\", \"IN\", \"MD\", \"KY\", \"ME\", \"IA\", \"AK\", \"LA\", \"OK\", \"NM\", \"NE\", \"MS\", \"AL\", \"SC\", \"VT\", \"PR\", \"ND\", \"NV\"], \"z\": [5804.0, 3410.0, 2565.0, 2303.0, 1972.0, 1544.0, 1350.0, 1222.0, 1068.0, 978.0, 909.0, 892.0, 881.0, 755.0, 732.0, 662.0, 598.0, 584.0, 560.0, 473.0, 401.0, 364.0, 308.0, 294.0, 216.0, 204.0, 178.0, 158.0, 151.0, 140.0, 115.0, 79.0, 72.0, 70.0, 51.0, 43.0, 29.0, 25.0, 20.0, 18.0, 15.0, 4.0, 2.0, 2.0, 1.0, 1.0], \"locationmode\": \"USA-states\", \"marker\": {\"line\": {\"color\": \"rgb(255,255,255)\", \"width\": 2}}, \"colorbar\": {\"title\": \"Number\"}}], {\"title\": \"2013 h1b visa by state\", \"geo\": {\"scope\": \"usa\", \"projection\": {\"type\": \"albers usa\"}, \"showlakes\": true, \"lakecolor\": \"rgb(255, 255, 255)\"}}, {\"showLink\": true, \"linkText\": \"Export to plot.ly\"})});</script>"
      ]
     },
     "metadata": {},
     "output_type": "display_data"
    },
    {
     "data": {
      "application/vnd.plotly.v1+json": {
       "data": [
        {
         "autocolorscale": false,
         "colorbar": {
          "title": "Number"
         },
         "colorscale": [
          [
           0,
           "rgb(242,240,247)"
          ],
          [
           0.2,
           "rgb(218,218,235)"
          ],
          [
           0.4,
           "rgb(188,189,220)"
          ],
          [
           0.6,
           "rgb(158,154,200)"
          ],
          [
           0.8,
           "rgb(117,107,177)"
          ],
          [
           1,
           "rgb(84,39,143)"
          ]
         ],
         "locationmode": "USA-states",
         "locations": [
          "CA",
          "TX",
          "WA",
          "IL",
          "NC",
          "NJ",
          "AZ",
          "GA",
          "CT",
          "NY",
          "FL",
          "WI",
          "PA",
          "MN",
          "OH",
          "OR",
          "RI",
          "UT",
          "MA",
          "MO",
          "CO",
          "AR",
          "VA",
          "IN",
          "MI",
          "MD",
          "TN",
          "NH",
          "DE",
          "DC",
          "KS",
          "KY",
          "IA",
          "ME",
          "NM",
          "VT",
          "SC",
          "OK",
          "AK",
          "ND",
          "NE",
          "MS",
          "WV",
          "LA",
          "AL",
          "NV",
          "ID",
          "PR"
         ],
         "marker": {
          "line": {
           "color": "rgb(255,255,255)",
           "width": 2
          }
         },
         "type": "choropleth",
         "z": [
          4171,
          2499,
          1653,
          1646,
          1289,
          1214,
          1055,
          1015,
          939,
          810,
          716,
          685,
          658,
          552,
          544,
          462,
          452,
          394,
          366,
          355,
          329,
          328,
          220,
          178,
          176,
          154,
          149,
          136,
          103,
          97,
          94,
          71,
          49,
          35,
          25,
          22,
          21,
          21,
          15,
          14,
          14,
          13,
          5,
          5,
          4,
          3,
          2,
          1
         ]
        }
       ],
       "layout": {
        "geo": {
         "lakecolor": "rgb(255, 255, 255)",
         "projection": {
          "type": "albers usa"
         },
         "scope": "usa",
         "showlakes": true
        },
        "title": "2014 h1b visa by state"
       }
      },
      "text/html": [
       "<div id=\"2e59b45f-60d3-4c17-ae01-9b161916cd57\" style=\"height: 525px; width: 100%;\" class=\"plotly-graph-div\"></div><script type=\"text/javascript\">require([\"plotly\"], function(Plotly) { window.PLOTLYENV=window.PLOTLYENV || {};window.PLOTLYENV.BASE_URL=\"https://plot.ly\";Plotly.newPlot(\"2e59b45f-60d3-4c17-ae01-9b161916cd57\", [{\"type\": \"choropleth\", \"colorscale\": [[0.0, \"rgb(242,240,247)\"], [0.2, \"rgb(218,218,235)\"], [0.4, \"rgb(188,189,220)\"], [0.6, \"rgb(158,154,200)\"], [0.8, \"rgb(117,107,177)\"], [1.0, \"rgb(84,39,143)\"]], \"autocolorscale\": false, \"locations\": [\"CA\", \"TX\", \"WA\", \"IL\", \"NC\", \"NJ\", \"AZ\", \"GA\", \"CT\", \"NY\", \"FL\", \"WI\", \"PA\", \"MN\", \"OH\", \"OR\", \"RI\", \"UT\", \"MA\", \"MO\", \"CO\", \"AR\", \"VA\", \"IN\", \"MI\", \"MD\", \"TN\", \"NH\", \"DE\", \"DC\", \"KS\", \"KY\", \"IA\", \"ME\", \"NM\", \"VT\", \"SC\", \"OK\", \"AK\", \"ND\", \"NE\", \"MS\", \"WV\", \"LA\", \"AL\", \"NV\", \"ID\", \"PR\"], \"z\": [4171.0, 2499.0, 1653.0, 1646.0, 1289.0, 1214.0, 1055.0, 1015.0, 939.0, 810.0, 716.0, 685.0, 658.0, 552.0, 544.0, 462.0, 452.0, 394.0, 366.0, 355.0, 329.0, 328.0, 220.0, 178.0, 176.0, 154.0, 149.0, 136.0, 103.0, 97.0, 94.0, 71.0, 49.0, 35.0, 25.0, 22.0, 21.0, 21.0, 15.0, 14.0, 14.0, 13.0, 5.0, 5.0, 4.0, 3.0, 2.0, 1.0], \"locationmode\": \"USA-states\", \"marker\": {\"line\": {\"color\": \"rgb(255,255,255)\", \"width\": 2}}, \"colorbar\": {\"title\": \"Number\"}}], {\"title\": \"2014 h1b visa by state\", \"geo\": {\"scope\": \"usa\", \"projection\": {\"type\": \"albers usa\"}, \"showlakes\": true, \"lakecolor\": \"rgb(255, 255, 255)\"}}, {\"showLink\": true, \"linkText\": \"Export to plot.ly\"})});</script>"
      ],
      "text/vnd.plotly.v1+html": [
       "<div id=\"2e59b45f-60d3-4c17-ae01-9b161916cd57\" style=\"height: 525px; width: 100%;\" class=\"plotly-graph-div\"></div><script type=\"text/javascript\">require([\"plotly\"], function(Plotly) { window.PLOTLYENV=window.PLOTLYENV || {};window.PLOTLYENV.BASE_URL=\"https://plot.ly\";Plotly.newPlot(\"2e59b45f-60d3-4c17-ae01-9b161916cd57\", [{\"type\": \"choropleth\", \"colorscale\": [[0.0, \"rgb(242,240,247)\"], [0.2, \"rgb(218,218,235)\"], [0.4, \"rgb(188,189,220)\"], [0.6, \"rgb(158,154,200)\"], [0.8, \"rgb(117,107,177)\"], [1.0, \"rgb(84,39,143)\"]], \"autocolorscale\": false, \"locations\": [\"CA\", \"TX\", \"WA\", \"IL\", \"NC\", \"NJ\", \"AZ\", \"GA\", \"CT\", \"NY\", \"FL\", \"WI\", \"PA\", \"MN\", \"OH\", \"OR\", \"RI\", \"UT\", \"MA\", \"MO\", \"CO\", \"AR\", \"VA\", \"IN\", \"MI\", \"MD\", \"TN\", \"NH\", \"DE\", \"DC\", \"KS\", \"KY\", \"IA\", \"ME\", \"NM\", \"VT\", \"SC\", \"OK\", \"AK\", \"ND\", \"NE\", \"MS\", \"WV\", \"LA\", \"AL\", \"NV\", \"ID\", \"PR\"], \"z\": [4171.0, 2499.0, 1653.0, 1646.0, 1289.0, 1214.0, 1055.0, 1015.0, 939.0, 810.0, 716.0, 685.0, 658.0, 552.0, 544.0, 462.0, 452.0, 394.0, 366.0, 355.0, 329.0, 328.0, 220.0, 178.0, 176.0, 154.0, 149.0, 136.0, 103.0, 97.0, 94.0, 71.0, 49.0, 35.0, 25.0, 22.0, 21.0, 21.0, 15.0, 14.0, 14.0, 13.0, 5.0, 5.0, 4.0, 3.0, 2.0, 1.0], \"locationmode\": \"USA-states\", \"marker\": {\"line\": {\"color\": \"rgb(255,255,255)\", \"width\": 2}}, \"colorbar\": {\"title\": \"Number\"}}], {\"title\": \"2014 h1b visa by state\", \"geo\": {\"scope\": \"usa\", \"projection\": {\"type\": \"albers usa\"}, \"showlakes\": true, \"lakecolor\": \"rgb(255, 255, 255)\"}}, {\"showLink\": true, \"linkText\": \"Export to plot.ly\"})});</script>"
      ]
     },
     "metadata": {},
     "output_type": "display_data"
    },
    {
     "data": {
      "application/vnd.plotly.v1+json": {
       "data": [
        {
         "autocolorscale": false,
         "colorbar": {
          "title": "Number"
         },
         "colorscale": [
          [
           0,
           "rgb(242,240,247)"
          ],
          [
           0.2,
           "rgb(218,218,235)"
          ],
          [
           0.4,
           "rgb(188,189,220)"
          ],
          [
           0.6,
           "rgb(158,154,200)"
          ],
          [
           0.8,
           "rgb(117,107,177)"
          ],
          [
           1,
           "rgb(84,39,143)"
          ]
         ],
         "locationmode": "USA-states",
         "locations": [
          "CA",
          "TX",
          "IL",
          "WA",
          "NC",
          "NJ",
          "AZ",
          "NY",
          "CT",
          "GA",
          "FL",
          "PA",
          "WI",
          "RI",
          "OH",
          "MN",
          "OR",
          "CO",
          "AR",
          "UT",
          "MA",
          "MO",
          "VA",
          "TN",
          "MI",
          "MD",
          "IN",
          "KS",
          "NH",
          "DE",
          "KY",
          "DC",
          "IA",
          "NM",
          "ME",
          "VT",
          "NV",
          "NE",
          "SC",
          "MS",
          "AL",
          "ND",
          "OK",
          "LA",
          "AK",
          "PR",
          "ID"
         ],
         "marker": {
          "line": {
           "color": "rgb(255,255,255)",
           "width": 2
          }
         },
         "type": "choropleth",
         "z": [
          6562,
          3349,
          2264,
          2046,
          1899,
          1600,
          1450,
          1277,
          1242,
          1231,
          1148,
          1016,
          968,
          843,
          702,
          658,
          611,
          593,
          489,
          480,
          444,
          328,
          279,
          249,
          193,
          182,
          179,
          166,
          144,
          139,
          120,
          83,
          75,
          48,
          36,
          35,
          21,
          18,
          13,
          13,
          13,
          11,
          10,
          7,
          7,
          2,
          2
         ]
        }
       ],
       "layout": {
        "geo": {
         "lakecolor": "rgb(255, 255, 255)",
         "projection": {
          "type": "albers usa"
         },
         "scope": "usa",
         "showlakes": true
        },
        "title": "2015 h1b visa by state"
       }
      },
      "text/html": [
       "<div id=\"014dd9c9-643d-40ba-836e-51207634b2d3\" style=\"height: 525px; width: 100%;\" class=\"plotly-graph-div\"></div><script type=\"text/javascript\">require([\"plotly\"], function(Plotly) { window.PLOTLYENV=window.PLOTLYENV || {};window.PLOTLYENV.BASE_URL=\"https://plot.ly\";Plotly.newPlot(\"014dd9c9-643d-40ba-836e-51207634b2d3\", [{\"type\": \"choropleth\", \"colorscale\": [[0.0, \"rgb(242,240,247)\"], [0.2, \"rgb(218,218,235)\"], [0.4, \"rgb(188,189,220)\"], [0.6, \"rgb(158,154,200)\"], [0.8, \"rgb(117,107,177)\"], [1.0, \"rgb(84,39,143)\"]], \"autocolorscale\": false, \"locations\": [\"CA\", \"TX\", \"IL\", \"WA\", \"NC\", \"NJ\", \"AZ\", \"NY\", \"CT\", \"GA\", \"FL\", \"PA\", \"WI\", \"RI\", \"OH\", \"MN\", \"OR\", \"CO\", \"AR\", \"UT\", \"MA\", \"MO\", \"VA\", \"TN\", \"MI\", \"MD\", \"IN\", \"KS\", \"NH\", \"DE\", \"KY\", \"DC\", \"IA\", \"NM\", \"ME\", \"VT\", \"NV\", \"NE\", \"SC\", \"MS\", \"AL\", \"ND\", \"OK\", \"LA\", \"AK\", \"PR\", \"ID\"], \"z\": [6562.0, 3349.0, 2264.0, 2046.0, 1899.0, 1600.0, 1450.0, 1277.0, 1242.0, 1231.0, 1148.0, 1016.0, 968.0, 843.0, 702.0, 658.0, 611.0, 593.0, 489.0, 480.0, 444.0, 328.0, 279.0, 249.0, 193.0, 182.0, 179.0, 166.0, 144.0, 139.0, 120.0, 83.0, 75.0, 48.0, 36.0, 35.0, 21.0, 18.0, 13.0, 13.0, 13.0, 11.0, 10.0, 7.0, 7.0, 2.0, 2.0], \"locationmode\": \"USA-states\", \"marker\": {\"line\": {\"color\": \"rgb(255,255,255)\", \"width\": 2}}, \"colorbar\": {\"title\": \"Number\"}}], {\"title\": \"2015 h1b visa by state\", \"geo\": {\"scope\": \"usa\", \"projection\": {\"type\": \"albers usa\"}, \"showlakes\": true, \"lakecolor\": \"rgb(255, 255, 255)\"}}, {\"showLink\": true, \"linkText\": \"Export to plot.ly\"})});</script>"
      ],
      "text/vnd.plotly.v1+html": [
       "<div id=\"014dd9c9-643d-40ba-836e-51207634b2d3\" style=\"height: 525px; width: 100%;\" class=\"plotly-graph-div\"></div><script type=\"text/javascript\">require([\"plotly\"], function(Plotly) { window.PLOTLYENV=window.PLOTLYENV || {};window.PLOTLYENV.BASE_URL=\"https://plot.ly\";Plotly.newPlot(\"014dd9c9-643d-40ba-836e-51207634b2d3\", [{\"type\": \"choropleth\", \"colorscale\": [[0.0, \"rgb(242,240,247)\"], [0.2, \"rgb(218,218,235)\"], [0.4, \"rgb(188,189,220)\"], [0.6, \"rgb(158,154,200)\"], [0.8, \"rgb(117,107,177)\"], [1.0, \"rgb(84,39,143)\"]], \"autocolorscale\": false, \"locations\": [\"CA\", \"TX\", \"IL\", \"WA\", \"NC\", \"NJ\", \"AZ\", \"NY\", \"CT\", \"GA\", \"FL\", \"PA\", \"WI\", \"RI\", \"OH\", \"MN\", \"OR\", \"CO\", \"AR\", \"UT\", \"MA\", \"MO\", \"VA\", \"TN\", \"MI\", \"MD\", \"IN\", \"KS\", \"NH\", \"DE\", \"KY\", \"DC\", \"IA\", \"NM\", \"ME\", \"VT\", \"NV\", \"NE\", \"SC\", \"MS\", \"AL\", \"ND\", \"OK\", \"LA\", \"AK\", \"PR\", \"ID\"], \"z\": [6562.0, 3349.0, 2264.0, 2046.0, 1899.0, 1600.0, 1450.0, 1277.0, 1242.0, 1231.0, 1148.0, 1016.0, 968.0, 843.0, 702.0, 658.0, 611.0, 593.0, 489.0, 480.0, 444.0, 328.0, 279.0, 249.0, 193.0, 182.0, 179.0, 166.0, 144.0, 139.0, 120.0, 83.0, 75.0, 48.0, 36.0, 35.0, 21.0, 18.0, 13.0, 13.0, 13.0, 11.0, 10.0, 7.0, 7.0, 2.0, 2.0], \"locationmode\": \"USA-states\", \"marker\": {\"line\": {\"color\": \"rgb(255,255,255)\", \"width\": 2}}, \"colorbar\": {\"title\": \"Number\"}}], {\"title\": \"2015 h1b visa by state\", \"geo\": {\"scope\": \"usa\", \"projection\": {\"type\": \"albers usa\"}, \"showlakes\": true, \"lakecolor\": \"rgb(255, 255, 255)\"}}, {\"showLink\": true, \"linkText\": \"Export to plot.ly\"})});</script>"
      ]
     },
     "metadata": {},
     "output_type": "display_data"
    },
    {
     "data": {
      "application/vnd.plotly.v1+json": {
       "data": [
        {
         "autocolorscale": false,
         "colorbar": {
          "title": "Number"
         },
         "colorscale": [
          [
           0,
           "rgb(242,240,247)"
          ],
          [
           0.2,
           "rgb(218,218,235)"
          ],
          [
           0.4,
           "rgb(188,189,220)"
          ],
          [
           0.6,
           "rgb(158,154,200)"
          ],
          [
           0.8,
           "rgb(117,107,177)"
          ],
          [
           1,
           "rgb(84,39,143)"
          ]
         ],
         "locationmode": "USA-states",
         "locations": [
          "CA",
          "TX",
          "NC",
          "IL",
          "WA",
          "NJ",
          "AZ",
          "GA",
          "NY",
          "FL",
          "CT",
          "PA",
          "WI",
          "RI",
          "MN",
          "CO",
          "OH",
          "OR",
          "AR",
          "UT",
          "MA",
          "MO",
          "IN",
          "VA",
          "NE",
          "MI",
          "DE",
          "KS",
          "MD",
          "TN",
          "DC",
          "NH",
          "IA",
          "KY",
          "SC",
          "VT",
          "NM",
          "MS",
          "AL",
          "OK",
          "ME",
          "NV",
          "LA",
          "ID",
          "SD",
          "AK",
          "PR"
         ],
         "marker": {
          "line": {
           "color": "rgb(255,255,255)",
           "width": 2
          }
         },
         "type": "choropleth",
         "z": [
          4698,
          2780,
          1759,
          1590,
          1570,
          1323,
          1273,
          912,
          896,
          881,
          715,
          714,
          700,
          506,
          481,
          481,
          462,
          424,
          421,
          367,
          289,
          283,
          216,
          213,
          199,
          192,
          151,
          141,
          136,
          128,
          93,
          81,
          47,
          46,
          41,
          29,
          26,
          19,
          19,
          16,
          13,
          10,
          7,
          1,
          1,
          1,
          1
         ]
        }
       ],
       "layout": {
        "geo": {
         "lakecolor": "rgb(255, 255, 255)",
         "projection": {
          "type": "albers usa"
         },
         "scope": "usa",
         "showlakes": true
        },
        "title": "2016 h1b visa by state"
       }
      },
      "text/html": [
       "<div id=\"b5bfc5b5-5413-44b0-a1ba-e916a350dbd1\" style=\"height: 525px; width: 100%;\" class=\"plotly-graph-div\"></div><script type=\"text/javascript\">require([\"plotly\"], function(Plotly) { window.PLOTLYENV=window.PLOTLYENV || {};window.PLOTLYENV.BASE_URL=\"https://plot.ly\";Plotly.newPlot(\"b5bfc5b5-5413-44b0-a1ba-e916a350dbd1\", [{\"type\": \"choropleth\", \"colorscale\": [[0.0, \"rgb(242,240,247)\"], [0.2, \"rgb(218,218,235)\"], [0.4, \"rgb(188,189,220)\"], [0.6, \"rgb(158,154,200)\"], [0.8, \"rgb(117,107,177)\"], [1.0, \"rgb(84,39,143)\"]], \"autocolorscale\": false, \"locations\": [\"CA\", \"TX\", \"NC\", \"IL\", \"WA\", \"NJ\", \"AZ\", \"GA\", \"NY\", \"FL\", \"CT\", \"PA\", \"WI\", \"RI\", \"MN\", \"CO\", \"OH\", \"OR\", \"AR\", \"UT\", \"MA\", \"MO\", \"IN\", \"VA\", \"NE\", \"MI\", \"DE\", \"KS\", \"MD\", \"TN\", \"DC\", \"NH\", \"IA\", \"KY\", \"SC\", \"VT\", \"NM\", \"MS\", \"AL\", \"OK\", \"ME\", \"NV\", \"LA\", \"ID\", \"SD\", \"AK\", \"PR\"], \"z\": [4698.0, 2780.0, 1759.0, 1590.0, 1570.0, 1323.0, 1273.0, 912.0, 896.0, 881.0, 715.0, 714.0, 700.0, 506.0, 481.0, 481.0, 462.0, 424.0, 421.0, 367.0, 289.0, 283.0, 216.0, 213.0, 199.0, 192.0, 151.0, 141.0, 136.0, 128.0, 93.0, 81.0, 47.0, 46.0, 41.0, 29.0, 26.0, 19.0, 19.0, 16.0, 13.0, 10.0, 7.0, 1.0, 1.0, 1.0, 1.0], \"locationmode\": \"USA-states\", \"marker\": {\"line\": {\"color\": \"rgb(255,255,255)\", \"width\": 2}}, \"colorbar\": {\"title\": \"Number\"}}], {\"title\": \"2016 h1b visa by state\", \"geo\": {\"scope\": \"usa\", \"projection\": {\"type\": \"albers usa\"}, \"showlakes\": true, \"lakecolor\": \"rgb(255, 255, 255)\"}}, {\"showLink\": true, \"linkText\": \"Export to plot.ly\"})});</script>"
      ],
      "text/vnd.plotly.v1+html": [
       "<div id=\"b5bfc5b5-5413-44b0-a1ba-e916a350dbd1\" style=\"height: 525px; width: 100%;\" class=\"plotly-graph-div\"></div><script type=\"text/javascript\">require([\"plotly\"], function(Plotly) { window.PLOTLYENV=window.PLOTLYENV || {};window.PLOTLYENV.BASE_URL=\"https://plot.ly\";Plotly.newPlot(\"b5bfc5b5-5413-44b0-a1ba-e916a350dbd1\", [{\"type\": \"choropleth\", \"colorscale\": [[0.0, \"rgb(242,240,247)\"], [0.2, \"rgb(218,218,235)\"], [0.4, \"rgb(188,189,220)\"], [0.6, \"rgb(158,154,200)\"], [0.8, \"rgb(117,107,177)\"], [1.0, \"rgb(84,39,143)\"]], \"autocolorscale\": false, \"locations\": [\"CA\", \"TX\", \"NC\", \"IL\", \"WA\", \"NJ\", \"AZ\", \"GA\", \"NY\", \"FL\", \"CT\", \"PA\", \"WI\", \"RI\", \"MN\", \"CO\", \"OH\", \"OR\", \"AR\", \"UT\", \"MA\", \"MO\", \"IN\", \"VA\", \"NE\", \"MI\", \"DE\", \"KS\", \"MD\", \"TN\", \"DC\", \"NH\", \"IA\", \"KY\", \"SC\", \"VT\", \"NM\", \"MS\", \"AL\", \"OK\", \"ME\", \"NV\", \"LA\", \"ID\", \"SD\", \"AK\", \"PR\"], \"z\": [4698.0, 2780.0, 1759.0, 1590.0, 1570.0, 1323.0, 1273.0, 912.0, 896.0, 881.0, 715.0, 714.0, 700.0, 506.0, 481.0, 481.0, 462.0, 424.0, 421.0, 367.0, 289.0, 283.0, 216.0, 213.0, 199.0, 192.0, 151.0, 141.0, 136.0, 128.0, 93.0, 81.0, 47.0, 46.0, 41.0, 29.0, 26.0, 19.0, 19.0, 16.0, 13.0, 10.0, 7.0, 1.0, 1.0, 1.0, 1.0], \"locationmode\": \"USA-states\", \"marker\": {\"line\": {\"color\": \"rgb(255,255,255)\", \"width\": 2}}, \"colorbar\": {\"title\": \"Number\"}}], {\"title\": \"2016 h1b visa by state\", \"geo\": {\"scope\": \"usa\", \"projection\": {\"type\": \"albers usa\"}, \"showlakes\": true, \"lakecolor\": \"rgb(255, 255, 255)\"}}, {\"showLink\": true, \"linkText\": \"Export to plot.ly\"})});</script>"
      ]
     },
     "metadata": {},
     "output_type": "display_data"
    }
   ],
   "source": [
    "for i in range(2011,2017):\n",
    "    df_t = df[(df['YEAR'] == i) & ( df[\"EMPLOYER_NAME\"] == \"INFOSYS LIMITED\")]\n",
    "    df_t = pd.DataFrame(df_t[\"CODE\"].value_counts())\n",
    "    df_t = df_t.reset_index()\n",
    "    \n",
    "    scl = [[0.0, 'rgb(242,240,247)'],[0.2, 'rgb(218,218,235)'],[0.4, 'rgb(188,189,220)'],\\\n",
    "            [0.6, 'rgb(158,154,200)'],[0.8, 'rgb(117,107,177)'],[1.0, 'rgb(84,39,143)']]\n",
    "\n",
    "    data = [ dict(\n",
    "            type='choropleth',\n",
    "            colorscale = scl,\n",
    "            autocolorscale = False,\n",
    "            locations = df_t['index'],\n",
    "            z = df_t[\"CODE\"].astype(float),\n",
    "            locationmode = 'USA-states',\n",
    "            marker = dict(\n",
    "                line = dict (\n",
    "                    color = 'rgb(255,255,255)',\n",
    "                    width = 2\n",
    "                ) ),\n",
    "            colorbar = dict(\n",
    "                title = \"Number\")\n",
    "            ) ]\n",
    "\n",
    "    s = str(i) + ' h1b visa by state'\n",
    "    \n",
    "    layout = dict(\n",
    "            title = s,\n",
    "            geo = dict(\n",
    "                scope='usa',\n",
    "                projection=dict( type='albers usa' ),\n",
    "                showlakes = True,\n",
    "                lakecolor = 'rgb(255, 255, 255)'),\n",
    "                 )\n",
    "\n",
    "    fig = dict( data=data, layout=layout )\n",
    "    plotly.offline.iplot( fig)"
   ]
  },
  {
   "cell_type": "markdown",
   "metadata": {},
   "source": [
    "### Number of H1B filed by google in USA"
   ]
  },
  {
   "cell_type": "code",
   "execution_count": 30,
   "metadata": {},
   "outputs": [],
   "source": [
    "def func(x):\n",
    "    if type(x) == str and 'google' in x.lower():\n",
    "        return True\n",
    "    return False"
   ]
  },
  {
   "cell_type": "code",
   "execution_count": 31,
   "metadata": {
    "scrolled": false
   },
   "outputs": [
    {
     "data": {
      "application/vnd.plotly.v1+json": {
       "data": [
        {
         "autocolorscale": false,
         "colorbar": {
          "title": "Number"
         },
         "colorscale": [
          [
           0,
           "rgb(242,240,247)"
          ],
          [
           0.2,
           "rgb(218,218,235)"
          ],
          [
           0.4,
           "rgb(188,189,220)"
          ],
          [
           0.6,
           "rgb(158,154,200)"
          ],
          [
           0.8,
           "rgb(117,107,177)"
          ],
          [
           1,
           "rgb(84,39,143)"
          ]
         ],
         "locationmode": "USA-states",
         "locations": [
          "CA",
          "NY",
          "WA",
          "MA",
          "PA",
          "GA",
          "IL",
          "TX",
          "CO",
          "WI",
          "NC"
         ],
         "marker": {
          "line": {
           "color": "rgb(255,255,255)",
           "width": 2
          }
         },
         "type": "choropleth",
         "z": [
          1020,
          155,
          68,
          40,
          13,
          3,
          2,
          2,
          1,
          1,
          1
         ]
        }
       ],
       "layout": {
        "geo": {
         "lakecolor": "rgb(255, 255, 255)",
         "projection": {
          "type": "albers usa"
         },
         "scope": "usa",
         "showlakes": true
        },
        "title": "2011 h1b visa filed by google by state"
       }
      },
      "text/html": [
       "<div id=\"a5f20b55-07cd-4d05-af2c-70eef9ea8006\" style=\"height: 525px; width: 100%;\" class=\"plotly-graph-div\"></div><script type=\"text/javascript\">require([\"plotly\"], function(Plotly) { window.PLOTLYENV=window.PLOTLYENV || {};window.PLOTLYENV.BASE_URL=\"https://plot.ly\";Plotly.newPlot(\"a5f20b55-07cd-4d05-af2c-70eef9ea8006\", [{\"type\": \"choropleth\", \"colorscale\": [[0.0, \"rgb(242,240,247)\"], [0.2, \"rgb(218,218,235)\"], [0.4, \"rgb(188,189,220)\"], [0.6, \"rgb(158,154,200)\"], [0.8, \"rgb(117,107,177)\"], [1.0, \"rgb(84,39,143)\"]], \"autocolorscale\": false, \"locations\": [\"CA\", \"NY\", \"WA\", \"MA\", \"PA\", \"GA\", \"IL\", \"TX\", \"CO\", \"WI\", \"NC\"], \"z\": [1020.0, 155.0, 68.0, 40.0, 13.0, 3.0, 2.0, 2.0, 1.0, 1.0, 1.0], \"locationmode\": \"USA-states\", \"marker\": {\"line\": {\"color\": \"rgb(255,255,255)\", \"width\": 2}}, \"colorbar\": {\"title\": \"Number\"}}], {\"title\": \"2011 h1b visa filed by google by state\", \"geo\": {\"scope\": \"usa\", \"projection\": {\"type\": \"albers usa\"}, \"showlakes\": true, \"lakecolor\": \"rgb(255, 255, 255)\"}}, {\"showLink\": true, \"linkText\": \"Export to plot.ly\"})});</script>"
      ],
      "text/vnd.plotly.v1+html": [
       "<div id=\"a5f20b55-07cd-4d05-af2c-70eef9ea8006\" style=\"height: 525px; width: 100%;\" class=\"plotly-graph-div\"></div><script type=\"text/javascript\">require([\"plotly\"], function(Plotly) { window.PLOTLYENV=window.PLOTLYENV || {};window.PLOTLYENV.BASE_URL=\"https://plot.ly\";Plotly.newPlot(\"a5f20b55-07cd-4d05-af2c-70eef9ea8006\", [{\"type\": \"choropleth\", \"colorscale\": [[0.0, \"rgb(242,240,247)\"], [0.2, \"rgb(218,218,235)\"], [0.4, \"rgb(188,189,220)\"], [0.6, \"rgb(158,154,200)\"], [0.8, \"rgb(117,107,177)\"], [1.0, \"rgb(84,39,143)\"]], \"autocolorscale\": false, \"locations\": [\"CA\", \"NY\", \"WA\", \"MA\", \"PA\", \"GA\", \"IL\", \"TX\", \"CO\", \"WI\", \"NC\"], \"z\": [1020.0, 155.0, 68.0, 40.0, 13.0, 3.0, 2.0, 2.0, 1.0, 1.0, 1.0], \"locationmode\": \"USA-states\", \"marker\": {\"line\": {\"color\": \"rgb(255,255,255)\", \"width\": 2}}, \"colorbar\": {\"title\": \"Number\"}}], {\"title\": \"2011 h1b visa filed by google by state\", \"geo\": {\"scope\": \"usa\", \"projection\": {\"type\": \"albers usa\"}, \"showlakes\": true, \"lakecolor\": \"rgb(255, 255, 255)\"}}, {\"showLink\": true, \"linkText\": \"Export to plot.ly\"})});</script>"
      ]
     },
     "metadata": {},
     "output_type": "display_data"
    },
    {
     "data": {
      "application/vnd.plotly.v1+json": {
       "data": [
        {
         "autocolorscale": false,
         "colorbar": {
          "title": "Number"
         },
         "colorscale": [
          [
           0,
           "rgb(242,240,247)"
          ],
          [
           0.2,
           "rgb(218,218,235)"
          ],
          [
           0.4,
           "rgb(188,189,220)"
          ],
          [
           0.6,
           "rgb(158,154,200)"
          ],
          [
           0.8,
           "rgb(117,107,177)"
          ],
          [
           1,
           "rgb(84,39,143)"
          ]
         ],
         "locationmode": "USA-states",
         "locations": [
          "CA",
          "NY",
          "WA",
          "MA",
          "PA",
          "IL",
          "CO",
          "GA",
          "TX",
          "FL",
          "KS",
          "DC",
          "MI",
          "OR",
          "NE",
          "WI"
         ],
         "marker": {
          "line": {
           "color": "rgb(255,255,255)",
           "width": 2
          }
         },
         "type": "choropleth",
         "z": [
          1389,
          194,
          82,
          17,
          12,
          6,
          5,
          3,
          2,
          1,
          1,
          1,
          1,
          1,
          1,
          1
         ]
        }
       ],
       "layout": {
        "geo": {
         "lakecolor": "rgb(255, 255, 255)",
         "projection": {
          "type": "albers usa"
         },
         "scope": "usa",
         "showlakes": true
        },
        "title": "2012 h1b visa filed by google by state"
       }
      },
      "text/html": [
       "<div id=\"52dcf38d-4d5a-4991-a7fe-06e544f83a5f\" style=\"height: 525px; width: 100%;\" class=\"plotly-graph-div\"></div><script type=\"text/javascript\">require([\"plotly\"], function(Plotly) { window.PLOTLYENV=window.PLOTLYENV || {};window.PLOTLYENV.BASE_URL=\"https://plot.ly\";Plotly.newPlot(\"52dcf38d-4d5a-4991-a7fe-06e544f83a5f\", [{\"type\": \"choropleth\", \"colorscale\": [[0.0, \"rgb(242,240,247)\"], [0.2, \"rgb(218,218,235)\"], [0.4, \"rgb(188,189,220)\"], [0.6, \"rgb(158,154,200)\"], [0.8, \"rgb(117,107,177)\"], [1.0, \"rgb(84,39,143)\"]], \"autocolorscale\": false, \"locations\": [\"CA\", \"NY\", \"WA\", \"MA\", \"PA\", \"IL\", \"CO\", \"GA\", \"TX\", \"FL\", \"KS\", \"DC\", \"MI\", \"OR\", \"NE\", \"WI\"], \"z\": [1389.0, 194.0, 82.0, 17.0, 12.0, 6.0, 5.0, 3.0, 2.0, 1.0, 1.0, 1.0, 1.0, 1.0, 1.0, 1.0], \"locationmode\": \"USA-states\", \"marker\": {\"line\": {\"color\": \"rgb(255,255,255)\", \"width\": 2}}, \"colorbar\": {\"title\": \"Number\"}}], {\"title\": \"2012 h1b visa filed by google by state\", \"geo\": {\"scope\": \"usa\", \"projection\": {\"type\": \"albers usa\"}, \"showlakes\": true, \"lakecolor\": \"rgb(255, 255, 255)\"}}, {\"showLink\": true, \"linkText\": \"Export to plot.ly\"})});</script>"
      ],
      "text/vnd.plotly.v1+html": [
       "<div id=\"52dcf38d-4d5a-4991-a7fe-06e544f83a5f\" style=\"height: 525px; width: 100%;\" class=\"plotly-graph-div\"></div><script type=\"text/javascript\">require([\"plotly\"], function(Plotly) { window.PLOTLYENV=window.PLOTLYENV || {};window.PLOTLYENV.BASE_URL=\"https://plot.ly\";Plotly.newPlot(\"52dcf38d-4d5a-4991-a7fe-06e544f83a5f\", [{\"type\": \"choropleth\", \"colorscale\": [[0.0, \"rgb(242,240,247)\"], [0.2, \"rgb(218,218,235)\"], [0.4, \"rgb(188,189,220)\"], [0.6, \"rgb(158,154,200)\"], [0.8, \"rgb(117,107,177)\"], [1.0, \"rgb(84,39,143)\"]], \"autocolorscale\": false, \"locations\": [\"CA\", \"NY\", \"WA\", \"MA\", \"PA\", \"IL\", \"CO\", \"GA\", \"TX\", \"FL\", \"KS\", \"DC\", \"MI\", \"OR\", \"NE\", \"WI\"], \"z\": [1389.0, 194.0, 82.0, 17.0, 12.0, 6.0, 5.0, 3.0, 2.0, 1.0, 1.0, 1.0, 1.0, 1.0, 1.0, 1.0], \"locationmode\": \"USA-states\", \"marker\": {\"line\": {\"color\": \"rgb(255,255,255)\", \"width\": 2}}, \"colorbar\": {\"title\": \"Number\"}}], {\"title\": \"2012 h1b visa filed by google by state\", \"geo\": {\"scope\": \"usa\", \"projection\": {\"type\": \"albers usa\"}, \"showlakes\": true, \"lakecolor\": \"rgb(255, 255, 255)\"}}, {\"showLink\": true, \"linkText\": \"Export to plot.ly\"})});</script>"
      ]
     },
     "metadata": {},
     "output_type": "display_data"
    },
    {
     "data": {
      "application/vnd.plotly.v1+json": {
       "data": [
        {
         "autocolorscale": false,
         "colorbar": {
          "title": "Number"
         },
         "colorscale": [
          [
           0,
           "rgb(242,240,247)"
          ],
          [
           0.2,
           "rgb(218,218,235)"
          ],
          [
           0.4,
           "rgb(188,189,220)"
          ],
          [
           0.6,
           "rgb(158,154,200)"
          ],
          [
           0.8,
           "rgb(117,107,177)"
          ],
          [
           1,
           "rgb(84,39,143)"
          ]
         ],
         "locationmode": "USA-states",
         "locations": [
          "CA",
          "NY",
          "WA",
          "MA",
          "PA",
          "CO",
          "IL",
          "TX",
          "FL",
          "DC"
         ],
         "marker": {
          "line": {
           "color": "rgb(255,255,255)",
           "width": 2
          }
         },
         "type": "choropleth",
         "z": [
          1817,
          224,
          77,
          18,
          12,
          7,
          5,
          5,
          1,
          1
         ]
        }
       ],
       "layout": {
        "geo": {
         "lakecolor": "rgb(255, 255, 255)",
         "projection": {
          "type": "albers usa"
         },
         "scope": "usa",
         "showlakes": true
        },
        "title": "2013 h1b visa filed by google by state"
       }
      },
      "text/html": [
       "<div id=\"2ede5694-1bcc-48b6-a2c8-ea496f939898\" style=\"height: 525px; width: 100%;\" class=\"plotly-graph-div\"></div><script type=\"text/javascript\">require([\"plotly\"], function(Plotly) { window.PLOTLYENV=window.PLOTLYENV || {};window.PLOTLYENV.BASE_URL=\"https://plot.ly\";Plotly.newPlot(\"2ede5694-1bcc-48b6-a2c8-ea496f939898\", [{\"type\": \"choropleth\", \"colorscale\": [[0.0, \"rgb(242,240,247)\"], [0.2, \"rgb(218,218,235)\"], [0.4, \"rgb(188,189,220)\"], [0.6, \"rgb(158,154,200)\"], [0.8, \"rgb(117,107,177)\"], [1.0, \"rgb(84,39,143)\"]], \"autocolorscale\": false, \"locations\": [\"CA\", \"NY\", \"WA\", \"MA\", \"PA\", \"CO\", \"IL\", \"TX\", \"FL\", \"DC\"], \"z\": [1817.0, 224.0, 77.0, 18.0, 12.0, 7.0, 5.0, 5.0, 1.0, 1.0], \"locationmode\": \"USA-states\", \"marker\": {\"line\": {\"color\": \"rgb(255,255,255)\", \"width\": 2}}, \"colorbar\": {\"title\": \"Number\"}}], {\"title\": \"2013 h1b visa filed by google by state\", \"geo\": {\"scope\": \"usa\", \"projection\": {\"type\": \"albers usa\"}, \"showlakes\": true, \"lakecolor\": \"rgb(255, 255, 255)\"}}, {\"showLink\": true, \"linkText\": \"Export to plot.ly\"})});</script>"
      ],
      "text/vnd.plotly.v1+html": [
       "<div id=\"2ede5694-1bcc-48b6-a2c8-ea496f939898\" style=\"height: 525px; width: 100%;\" class=\"plotly-graph-div\"></div><script type=\"text/javascript\">require([\"plotly\"], function(Plotly) { window.PLOTLYENV=window.PLOTLYENV || {};window.PLOTLYENV.BASE_URL=\"https://plot.ly\";Plotly.newPlot(\"2ede5694-1bcc-48b6-a2c8-ea496f939898\", [{\"type\": \"choropleth\", \"colorscale\": [[0.0, \"rgb(242,240,247)\"], [0.2, \"rgb(218,218,235)\"], [0.4, \"rgb(188,189,220)\"], [0.6, \"rgb(158,154,200)\"], [0.8, \"rgb(117,107,177)\"], [1.0, \"rgb(84,39,143)\"]], \"autocolorscale\": false, \"locations\": [\"CA\", \"NY\", \"WA\", \"MA\", \"PA\", \"CO\", \"IL\", \"TX\", \"FL\", \"DC\"], \"z\": [1817.0, 224.0, 77.0, 18.0, 12.0, 7.0, 5.0, 5.0, 1.0, 1.0], \"locationmode\": \"USA-states\", \"marker\": {\"line\": {\"color\": \"rgb(255,255,255)\", \"width\": 2}}, \"colorbar\": {\"title\": \"Number\"}}], {\"title\": \"2013 h1b visa filed by google by state\", \"geo\": {\"scope\": \"usa\", \"projection\": {\"type\": \"albers usa\"}, \"showlakes\": true, \"lakecolor\": \"rgb(255, 255, 255)\"}}, {\"showLink\": true, \"linkText\": \"Export to plot.ly\"})});</script>"
      ]
     },
     "metadata": {},
     "output_type": "display_data"
    },
    {
     "data": {
      "application/vnd.plotly.v1+json": {
       "data": [
        {
         "autocolorscale": false,
         "colorbar": {
          "title": "Number"
         },
         "colorscale": [
          [
           0,
           "rgb(242,240,247)"
          ],
          [
           0.2,
           "rgb(218,218,235)"
          ],
          [
           0.4,
           "rgb(188,189,220)"
          ],
          [
           0.6,
           "rgb(158,154,200)"
          ],
          [
           0.8,
           "rgb(117,107,177)"
          ],
          [
           1,
           "rgb(84,39,143)"
          ]
         ],
         "locationmode": "USA-states",
         "locations": [
          "CA",
          "NY",
          "WA",
          "MA",
          "PA",
          "IL",
          "TX",
          "CO"
         ],
         "marker": {
          "line": {
           "color": "rgb(255,255,255)",
           "width": 2
          }
         },
         "type": "choropleth",
         "z": [
          2532,
          296,
          144,
          39,
          26,
          11,
          9,
          8
         ]
        }
       ],
       "layout": {
        "geo": {
         "lakecolor": "rgb(255, 255, 255)",
         "projection": {
          "type": "albers usa"
         },
         "scope": "usa",
         "showlakes": true
        },
        "title": "2014 h1b visa filed by google by state"
       }
      },
      "text/html": [
       "<div id=\"c0b994f2-f3a6-4822-88f5-394a45a527e0\" style=\"height: 525px; width: 100%;\" class=\"plotly-graph-div\"></div><script type=\"text/javascript\">require([\"plotly\"], function(Plotly) { window.PLOTLYENV=window.PLOTLYENV || {};window.PLOTLYENV.BASE_URL=\"https://plot.ly\";Plotly.newPlot(\"c0b994f2-f3a6-4822-88f5-394a45a527e0\", [{\"type\": \"choropleth\", \"colorscale\": [[0.0, \"rgb(242,240,247)\"], [0.2, \"rgb(218,218,235)\"], [0.4, \"rgb(188,189,220)\"], [0.6, \"rgb(158,154,200)\"], [0.8, \"rgb(117,107,177)\"], [1.0, \"rgb(84,39,143)\"]], \"autocolorscale\": false, \"locations\": [\"CA\", \"NY\", \"WA\", \"MA\", \"PA\", \"IL\", \"TX\", \"CO\"], \"z\": [2532.0, 296.0, 144.0, 39.0, 26.0, 11.0, 9.0, 8.0], \"locationmode\": \"USA-states\", \"marker\": {\"line\": {\"color\": \"rgb(255,255,255)\", \"width\": 2}}, \"colorbar\": {\"title\": \"Number\"}}], {\"title\": \"2014 h1b visa filed by google by state\", \"geo\": {\"scope\": \"usa\", \"projection\": {\"type\": \"albers usa\"}, \"showlakes\": true, \"lakecolor\": \"rgb(255, 255, 255)\"}}, {\"showLink\": true, \"linkText\": \"Export to plot.ly\"})});</script>"
      ],
      "text/vnd.plotly.v1+html": [
       "<div id=\"c0b994f2-f3a6-4822-88f5-394a45a527e0\" style=\"height: 525px; width: 100%;\" class=\"plotly-graph-div\"></div><script type=\"text/javascript\">require([\"plotly\"], function(Plotly) { window.PLOTLYENV=window.PLOTLYENV || {};window.PLOTLYENV.BASE_URL=\"https://plot.ly\";Plotly.newPlot(\"c0b994f2-f3a6-4822-88f5-394a45a527e0\", [{\"type\": \"choropleth\", \"colorscale\": [[0.0, \"rgb(242,240,247)\"], [0.2, \"rgb(218,218,235)\"], [0.4, \"rgb(188,189,220)\"], [0.6, \"rgb(158,154,200)\"], [0.8, \"rgb(117,107,177)\"], [1.0, \"rgb(84,39,143)\"]], \"autocolorscale\": false, \"locations\": [\"CA\", \"NY\", \"WA\", \"MA\", \"PA\", \"IL\", \"TX\", \"CO\"], \"z\": [2532.0, 296.0, 144.0, 39.0, 26.0, 11.0, 9.0, 8.0], \"locationmode\": \"USA-states\", \"marker\": {\"line\": {\"color\": \"rgb(255,255,255)\", \"width\": 2}}, \"colorbar\": {\"title\": \"Number\"}}], {\"title\": \"2014 h1b visa filed by google by state\", \"geo\": {\"scope\": \"usa\", \"projection\": {\"type\": \"albers usa\"}, \"showlakes\": true, \"lakecolor\": \"rgb(255, 255, 255)\"}}, {\"showLink\": true, \"linkText\": \"Export to plot.ly\"})});</script>"
      ]
     },
     "metadata": {},
     "output_type": "display_data"
    },
    {
     "data": {
      "application/vnd.plotly.v1+json": {
       "data": [
        {
         "autocolorscale": false,
         "colorbar": {
          "title": "Number"
         },
         "colorscale": [
          [
           0,
           "rgb(242,240,247)"
          ],
          [
           0.2,
           "rgb(218,218,235)"
          ],
          [
           0.4,
           "rgb(188,189,220)"
          ],
          [
           0.6,
           "rgb(158,154,200)"
          ],
          [
           0.8,
           "rgb(117,107,177)"
          ],
          [
           1,
           "rgb(84,39,143)"
          ]
         ],
         "locationmode": "USA-states",
         "locations": [
          "CA",
          "NY",
          "WA",
          "MA",
          "PA",
          "CO",
          "TX",
          "IL",
          "NC",
          "IA",
          "GA",
          "MO",
          "FL",
          "WI",
          "DC",
          "KS",
          "MI",
          "OR"
         ],
         "marker": {
          "line": {
           "color": "rgb(255,255,255)",
           "width": 2
          }
         },
         "type": "choropleth",
         "z": [
          3479,
          354,
          149,
          36,
          17,
          9,
          8,
          5,
          3,
          2,
          2,
          1,
          1,
          1,
          1,
          1,
          1,
          1
         ]
        }
       ],
       "layout": {
        "geo": {
         "lakecolor": "rgb(255, 255, 255)",
         "projection": {
          "type": "albers usa"
         },
         "scope": "usa",
         "showlakes": true
        },
        "title": "2015 h1b visa filed by google by state"
       }
      },
      "text/html": [
       "<div id=\"35b3b861-0dbc-4bb6-a6bd-004b2ecc47c6\" style=\"height: 525px; width: 100%;\" class=\"plotly-graph-div\"></div><script type=\"text/javascript\">require([\"plotly\"], function(Plotly) { window.PLOTLYENV=window.PLOTLYENV || {};window.PLOTLYENV.BASE_URL=\"https://plot.ly\";Plotly.newPlot(\"35b3b861-0dbc-4bb6-a6bd-004b2ecc47c6\", [{\"type\": \"choropleth\", \"colorscale\": [[0.0, \"rgb(242,240,247)\"], [0.2, \"rgb(218,218,235)\"], [0.4, \"rgb(188,189,220)\"], [0.6, \"rgb(158,154,200)\"], [0.8, \"rgb(117,107,177)\"], [1.0, \"rgb(84,39,143)\"]], \"autocolorscale\": false, \"locations\": [\"CA\", \"NY\", \"WA\", \"MA\", \"PA\", \"CO\", \"TX\", \"IL\", \"NC\", \"IA\", \"GA\", \"MO\", \"FL\", \"WI\", \"DC\", \"KS\", \"MI\", \"OR\"], \"z\": [3479.0, 354.0, 149.0, 36.0, 17.0, 9.0, 8.0, 5.0, 3.0, 2.0, 2.0, 1.0, 1.0, 1.0, 1.0, 1.0, 1.0, 1.0], \"locationmode\": \"USA-states\", \"marker\": {\"line\": {\"color\": \"rgb(255,255,255)\", \"width\": 2}}, \"colorbar\": {\"title\": \"Number\"}}], {\"title\": \"2015 h1b visa filed by google by state\", \"geo\": {\"scope\": \"usa\", \"projection\": {\"type\": \"albers usa\"}, \"showlakes\": true, \"lakecolor\": \"rgb(255, 255, 255)\"}}, {\"showLink\": true, \"linkText\": \"Export to plot.ly\"})});</script>"
      ],
      "text/vnd.plotly.v1+html": [
       "<div id=\"35b3b861-0dbc-4bb6-a6bd-004b2ecc47c6\" style=\"height: 525px; width: 100%;\" class=\"plotly-graph-div\"></div><script type=\"text/javascript\">require([\"plotly\"], function(Plotly) { window.PLOTLYENV=window.PLOTLYENV || {};window.PLOTLYENV.BASE_URL=\"https://plot.ly\";Plotly.newPlot(\"35b3b861-0dbc-4bb6-a6bd-004b2ecc47c6\", [{\"type\": \"choropleth\", \"colorscale\": [[0.0, \"rgb(242,240,247)\"], [0.2, \"rgb(218,218,235)\"], [0.4, \"rgb(188,189,220)\"], [0.6, \"rgb(158,154,200)\"], [0.8, \"rgb(117,107,177)\"], [1.0, \"rgb(84,39,143)\"]], \"autocolorscale\": false, \"locations\": [\"CA\", \"NY\", \"WA\", \"MA\", \"PA\", \"CO\", \"TX\", \"IL\", \"NC\", \"IA\", \"GA\", \"MO\", \"FL\", \"WI\", \"DC\", \"KS\", \"MI\", \"OR\"], \"z\": [3479.0, 354.0, 149.0, 36.0, 17.0, 9.0, 8.0, 5.0, 3.0, 2.0, 2.0, 1.0, 1.0, 1.0, 1.0, 1.0, 1.0, 1.0], \"locationmode\": \"USA-states\", \"marker\": {\"line\": {\"color\": \"rgb(255,255,255)\", \"width\": 2}}, \"colorbar\": {\"title\": \"Number\"}}], {\"title\": \"2015 h1b visa filed by google by state\", \"geo\": {\"scope\": \"usa\", \"projection\": {\"type\": \"albers usa\"}, \"showlakes\": true, \"lakecolor\": \"rgb(255, 255, 255)\"}}, {\"showLink\": true, \"linkText\": \"Export to plot.ly\"})});</script>"
      ]
     },
     "metadata": {},
     "output_type": "display_data"
    },
    {
     "data": {
      "application/vnd.plotly.v1+json": {
       "data": [
        {
         "autocolorscale": false,
         "colorbar": {
          "title": "Number"
         },
         "colorscale": [
          [
           0,
           "rgb(242,240,247)"
          ],
          [
           0.2,
           "rgb(218,218,235)"
          ],
          [
           0.4,
           "rgb(188,189,220)"
          ],
          [
           0.6,
           "rgb(158,154,200)"
          ],
          [
           0.8,
           "rgb(117,107,177)"
          ],
          [
           1,
           "rgb(84,39,143)"
          ]
         ],
         "locationmode": "USA-states",
         "locations": [
          "CA",
          "NY",
          "WA",
          "MA",
          "PA",
          "IL",
          "CO",
          "TX",
          "WI",
          "VA",
          "TN",
          "KY",
          "IA",
          "NC"
         ],
         "marker": {
          "line": {
           "color": "rgb(255,255,255)",
           "width": 2
          }
         },
         "type": "choropleth",
         "z": [
          4095,
          450,
          237,
          50,
          21,
          18,
          17,
          8,
          7,
          2,
          2,
          1,
          1,
          1
         ]
        }
       ],
       "layout": {
        "geo": {
         "lakecolor": "rgb(255, 255, 255)",
         "projection": {
          "type": "albers usa"
         },
         "scope": "usa",
         "showlakes": true
        },
        "title": "2016 h1b visa filed by google by state"
       }
      },
      "text/html": [
       "<div id=\"9a1ff287-f2a1-48b7-a613-9b453d0254b2\" style=\"height: 525px; width: 100%;\" class=\"plotly-graph-div\"></div><script type=\"text/javascript\">require([\"plotly\"], function(Plotly) { window.PLOTLYENV=window.PLOTLYENV || {};window.PLOTLYENV.BASE_URL=\"https://plot.ly\";Plotly.newPlot(\"9a1ff287-f2a1-48b7-a613-9b453d0254b2\", [{\"type\": \"choropleth\", \"colorscale\": [[0.0, \"rgb(242,240,247)\"], [0.2, \"rgb(218,218,235)\"], [0.4, \"rgb(188,189,220)\"], [0.6, \"rgb(158,154,200)\"], [0.8, \"rgb(117,107,177)\"], [1.0, \"rgb(84,39,143)\"]], \"autocolorscale\": false, \"locations\": [\"CA\", \"NY\", \"WA\", \"MA\", \"PA\", \"IL\", \"CO\", \"TX\", \"WI\", \"VA\", \"TN\", \"KY\", \"IA\", \"NC\"], \"z\": [4095.0, 450.0, 237.0, 50.0, 21.0, 18.0, 17.0, 8.0, 7.0, 2.0, 2.0, 1.0, 1.0, 1.0], \"locationmode\": \"USA-states\", \"marker\": {\"line\": {\"color\": \"rgb(255,255,255)\", \"width\": 2}}, \"colorbar\": {\"title\": \"Number\"}}], {\"title\": \"2016 h1b visa filed by google by state\", \"geo\": {\"scope\": \"usa\", \"projection\": {\"type\": \"albers usa\"}, \"showlakes\": true, \"lakecolor\": \"rgb(255, 255, 255)\"}}, {\"showLink\": true, \"linkText\": \"Export to plot.ly\"})});</script>"
      ],
      "text/vnd.plotly.v1+html": [
       "<div id=\"9a1ff287-f2a1-48b7-a613-9b453d0254b2\" style=\"height: 525px; width: 100%;\" class=\"plotly-graph-div\"></div><script type=\"text/javascript\">require([\"plotly\"], function(Plotly) { window.PLOTLYENV=window.PLOTLYENV || {};window.PLOTLYENV.BASE_URL=\"https://plot.ly\";Plotly.newPlot(\"9a1ff287-f2a1-48b7-a613-9b453d0254b2\", [{\"type\": \"choropleth\", \"colorscale\": [[0.0, \"rgb(242,240,247)\"], [0.2, \"rgb(218,218,235)\"], [0.4, \"rgb(188,189,220)\"], [0.6, \"rgb(158,154,200)\"], [0.8, \"rgb(117,107,177)\"], [1.0, \"rgb(84,39,143)\"]], \"autocolorscale\": false, \"locations\": [\"CA\", \"NY\", \"WA\", \"MA\", \"PA\", \"IL\", \"CO\", \"TX\", \"WI\", \"VA\", \"TN\", \"KY\", \"IA\", \"NC\"], \"z\": [4095.0, 450.0, 237.0, 50.0, 21.0, 18.0, 17.0, 8.0, 7.0, 2.0, 2.0, 1.0, 1.0, 1.0], \"locationmode\": \"USA-states\", \"marker\": {\"line\": {\"color\": \"rgb(255,255,255)\", \"width\": 2}}, \"colorbar\": {\"title\": \"Number\"}}], {\"title\": \"2016 h1b visa filed by google by state\", \"geo\": {\"scope\": \"usa\", \"projection\": {\"type\": \"albers usa\"}, \"showlakes\": true, \"lakecolor\": \"rgb(255, 255, 255)\"}}, {\"showLink\": true, \"linkText\": \"Export to plot.ly\"})});</script>"
      ]
     },
     "metadata": {},
     "output_type": "display_data"
    }
   ],
   "source": [
    "for i in range(2011,2017):\n",
    "    df_t = df[(df['YEAR'] == i) & (df[\"EMPLOYER_NAME\"].apply(func))]\n",
    "    df_t = pd.DataFrame(df_t[\"CODE\"].value_counts())\n",
    "    df_t = df_t.reset_index()\n",
    "    \n",
    "    scl = [[0.0, 'rgb(242,240,247)'],[0.2, 'rgb(218,218,235)'],[0.4, 'rgb(188,189,220)'],\\\n",
    "            [0.6, 'rgb(158,154,200)'],[0.8, 'rgb(117,107,177)'],[1.0, 'rgb(84,39,143)']]\n",
    "\n",
    "    data = [ dict(\n",
    "            type='choropleth',\n",
    "            colorscale = scl,\n",
    "            autocolorscale = False,\n",
    "            locations = df_t['index'],\n",
    "            z = df_t[\"CODE\"].astype(float),\n",
    "            locationmode = 'USA-states',\n",
    "            marker = dict(\n",
    "                line = dict (\n",
    "                    color = 'rgb(255,255,255)',\n",
    "                    width = 2\n",
    "                ) ),\n",
    "            colorbar = dict(\n",
    "                title = \"Number\")\n",
    "            ) ]\n",
    "\n",
    "    s = str(i) + ' h1b visa filed by google by state'\n",
    "    \n",
    "    layout = dict(\n",
    "            title = s,\n",
    "            geo = dict(\n",
    "                scope='usa',\n",
    "                projection=dict( type='albers usa' ),\n",
    "                showlakes = True,\n",
    "                lakecolor = 'rgb(255, 255, 255)'),\n",
    "                 )\n",
    "\n",
    "    fig = dict( data=data, layout=layout )\n",
    "    plotly.offline.iplot( fig)"
   ]
  },
  {
   "cell_type": "markdown",
   "metadata": {},
   "source": [
    "## h1b filed by facebook by year"
   ]
  },
  {
   "cell_type": "code",
   "execution_count": 32,
   "metadata": {},
   "outputs": [],
   "source": [
    "def func(x):\n",
    "    if type(x) == str and 'facebook' in x.lower():\n",
    "        return True\n",
    "    return False"
   ]
  },
  {
   "cell_type": "code",
   "execution_count": 33,
   "metadata": {
    "scrolled": false
   },
   "outputs": [
    {
     "data": {
      "application/vnd.plotly.v1+json": {
       "data": [
        {
         "autocolorscale": false,
         "colorbar": {
          "title": "Number"
         },
         "colorscale": [
          [
           0,
           "rgb(242,240,247)"
          ],
          [
           0.2,
           "rgb(218,218,235)"
          ],
          [
           0.4,
           "rgb(188,189,220)"
          ],
          [
           0.6,
           "rgb(158,154,200)"
          ],
          [
           0.8,
           "rgb(117,107,177)"
          ],
          [
           1,
           "rgb(84,39,143)"
          ]
         ],
         "locationmode": "USA-states",
         "locations": [
          "CA",
          "WA",
          "NY",
          "VA"
         ],
         "marker": {
          "line": {
           "color": "rgb(255,255,255)",
           "width": 2
          }
         },
         "type": "choropleth",
         "z": [
          207,
          12,
          2,
          1
         ]
        }
       ],
       "layout": {
        "geo": {
         "lakecolor": "rgb(255, 255, 255)",
         "projection": {
          "type": "albers usa"
         },
         "scope": "usa",
         "showlakes": true
        },
        "title": "2011 h1b visa filed by google by state"
       }
      },
      "text/html": [
       "<div id=\"fe05162a-07c6-40c5-917b-66ebbd0c81bf\" style=\"height: 525px; width: 100%;\" class=\"plotly-graph-div\"></div><script type=\"text/javascript\">require([\"plotly\"], function(Plotly) { window.PLOTLYENV=window.PLOTLYENV || {};window.PLOTLYENV.BASE_URL=\"https://plot.ly\";Plotly.newPlot(\"fe05162a-07c6-40c5-917b-66ebbd0c81bf\", [{\"type\": \"choropleth\", \"colorscale\": [[0.0, \"rgb(242,240,247)\"], [0.2, \"rgb(218,218,235)\"], [0.4, \"rgb(188,189,220)\"], [0.6, \"rgb(158,154,200)\"], [0.8, \"rgb(117,107,177)\"], [1.0, \"rgb(84,39,143)\"]], \"autocolorscale\": false, \"locations\": [\"CA\", \"WA\", \"NY\", \"VA\"], \"z\": [207.0, 12.0, 2.0, 1.0], \"locationmode\": \"USA-states\", \"marker\": {\"line\": {\"color\": \"rgb(255,255,255)\", \"width\": 2}}, \"colorbar\": {\"title\": \"Number\"}}], {\"title\": \"2011 h1b visa filed by google by state\", \"geo\": {\"scope\": \"usa\", \"projection\": {\"type\": \"albers usa\"}, \"showlakes\": true, \"lakecolor\": \"rgb(255, 255, 255)\"}}, {\"showLink\": true, \"linkText\": \"Export to plot.ly\"})});</script>"
      ],
      "text/vnd.plotly.v1+html": [
       "<div id=\"fe05162a-07c6-40c5-917b-66ebbd0c81bf\" style=\"height: 525px; width: 100%;\" class=\"plotly-graph-div\"></div><script type=\"text/javascript\">require([\"plotly\"], function(Plotly) { window.PLOTLYENV=window.PLOTLYENV || {};window.PLOTLYENV.BASE_URL=\"https://plot.ly\";Plotly.newPlot(\"fe05162a-07c6-40c5-917b-66ebbd0c81bf\", [{\"type\": \"choropleth\", \"colorscale\": [[0.0, \"rgb(242,240,247)\"], [0.2, \"rgb(218,218,235)\"], [0.4, \"rgb(188,189,220)\"], [0.6, \"rgb(158,154,200)\"], [0.8, \"rgb(117,107,177)\"], [1.0, \"rgb(84,39,143)\"]], \"autocolorscale\": false, \"locations\": [\"CA\", \"WA\", \"NY\", \"VA\"], \"z\": [207.0, 12.0, 2.0, 1.0], \"locationmode\": \"USA-states\", \"marker\": {\"line\": {\"color\": \"rgb(255,255,255)\", \"width\": 2}}, \"colorbar\": {\"title\": \"Number\"}}], {\"title\": \"2011 h1b visa filed by google by state\", \"geo\": {\"scope\": \"usa\", \"projection\": {\"type\": \"albers usa\"}, \"showlakes\": true, \"lakecolor\": \"rgb(255, 255, 255)\"}}, {\"showLink\": true, \"linkText\": \"Export to plot.ly\"})});</script>"
      ]
     },
     "metadata": {},
     "output_type": "display_data"
    },
    {
     "data": {
      "application/vnd.plotly.v1+json": {
       "data": [
        {
         "autocolorscale": false,
         "colorbar": {
          "title": "Number"
         },
         "colorscale": [
          [
           0,
           "rgb(242,240,247)"
          ],
          [
           0.2,
           "rgb(218,218,235)"
          ],
          [
           0.4,
           "rgb(188,189,220)"
          ],
          [
           0.6,
           "rgb(158,154,200)"
          ],
          [
           0.8,
           "rgb(117,107,177)"
          ],
          [
           1,
           "rgb(84,39,143)"
          ]
         ],
         "locationmode": "USA-states",
         "locations": [
          "CA",
          "WA",
          "NY",
          "TX",
          "NC"
         ],
         "marker": {
          "line": {
           "color": "rgb(255,255,255)",
           "width": 2
          }
         },
         "type": "choropleth",
         "z": [
          360,
          56,
          3,
          1,
          1
         ]
        }
       ],
       "layout": {
        "geo": {
         "lakecolor": "rgb(255, 255, 255)",
         "projection": {
          "type": "albers usa"
         },
         "scope": "usa",
         "showlakes": true
        },
        "title": "2012 h1b visa filed by google by state"
       }
      },
      "text/html": [
       "<div id=\"ddf991b7-1003-49e2-aa78-87a021099e18\" style=\"height: 525px; width: 100%;\" class=\"plotly-graph-div\"></div><script type=\"text/javascript\">require([\"plotly\"], function(Plotly) { window.PLOTLYENV=window.PLOTLYENV || {};window.PLOTLYENV.BASE_URL=\"https://plot.ly\";Plotly.newPlot(\"ddf991b7-1003-49e2-aa78-87a021099e18\", [{\"type\": \"choropleth\", \"colorscale\": [[0.0, \"rgb(242,240,247)\"], [0.2, \"rgb(218,218,235)\"], [0.4, \"rgb(188,189,220)\"], [0.6, \"rgb(158,154,200)\"], [0.8, \"rgb(117,107,177)\"], [1.0, \"rgb(84,39,143)\"]], \"autocolorscale\": false, \"locations\": [\"CA\", \"WA\", \"NY\", \"TX\", \"NC\"], \"z\": [360.0, 56.0, 3.0, 1.0, 1.0], \"locationmode\": \"USA-states\", \"marker\": {\"line\": {\"color\": \"rgb(255,255,255)\", \"width\": 2}}, \"colorbar\": {\"title\": \"Number\"}}], {\"title\": \"2012 h1b visa filed by google by state\", \"geo\": {\"scope\": \"usa\", \"projection\": {\"type\": \"albers usa\"}, \"showlakes\": true, \"lakecolor\": \"rgb(255, 255, 255)\"}}, {\"showLink\": true, \"linkText\": \"Export to plot.ly\"})});</script>"
      ],
      "text/vnd.plotly.v1+html": [
       "<div id=\"ddf991b7-1003-49e2-aa78-87a021099e18\" style=\"height: 525px; width: 100%;\" class=\"plotly-graph-div\"></div><script type=\"text/javascript\">require([\"plotly\"], function(Plotly) { window.PLOTLYENV=window.PLOTLYENV || {};window.PLOTLYENV.BASE_URL=\"https://plot.ly\";Plotly.newPlot(\"ddf991b7-1003-49e2-aa78-87a021099e18\", [{\"type\": \"choropleth\", \"colorscale\": [[0.0, \"rgb(242,240,247)\"], [0.2, \"rgb(218,218,235)\"], [0.4, \"rgb(188,189,220)\"], [0.6, \"rgb(158,154,200)\"], [0.8, \"rgb(117,107,177)\"], [1.0, \"rgb(84,39,143)\"]], \"autocolorscale\": false, \"locations\": [\"CA\", \"WA\", \"NY\", \"TX\", \"NC\"], \"z\": [360.0, 56.0, 3.0, 1.0, 1.0], \"locationmode\": \"USA-states\", \"marker\": {\"line\": {\"color\": \"rgb(255,255,255)\", \"width\": 2}}, \"colorbar\": {\"title\": \"Number\"}}], {\"title\": \"2012 h1b visa filed by google by state\", \"geo\": {\"scope\": \"usa\", \"projection\": {\"type\": \"albers usa\"}, \"showlakes\": true, \"lakecolor\": \"rgb(255, 255, 255)\"}}, {\"showLink\": true, \"linkText\": \"Export to plot.ly\"})});</script>"
      ]
     },
     "metadata": {},
     "output_type": "display_data"
    },
    {
     "data": {
      "application/vnd.plotly.v1+json": {
       "data": [
        {
         "autocolorscale": false,
         "colorbar": {
          "title": "Number"
         },
         "colorscale": [
          [
           0,
           "rgb(242,240,247)"
          ],
          [
           0.2,
           "rgb(218,218,235)"
          ],
          [
           0.4,
           "rgb(188,189,220)"
          ],
          [
           0.6,
           "rgb(158,154,200)"
          ],
          [
           0.8,
           "rgb(117,107,177)"
          ],
          [
           1,
           "rgb(84,39,143)"
          ]
         ],
         "locationmode": "USA-states",
         "locations": [
          "CA",
          "WA",
          "NY",
          "FL",
          "NV",
          "NC"
         ],
         "marker": {
          "line": {
           "color": "rgb(255,255,255)",
           "width": 2
          }
         },
         "type": "choropleth",
         "z": [
          545,
          46,
          29,
          4,
          1,
          1
         ]
        }
       ],
       "layout": {
        "geo": {
         "lakecolor": "rgb(255, 255, 255)",
         "projection": {
          "type": "albers usa"
         },
         "scope": "usa",
         "showlakes": true
        },
        "title": "2013 h1b visa filed by google by state"
       }
      },
      "text/html": [
       "<div id=\"55494fb1-0406-4231-bab5-fc4a60717d25\" style=\"height: 525px; width: 100%;\" class=\"plotly-graph-div\"></div><script type=\"text/javascript\">require([\"plotly\"], function(Plotly) { window.PLOTLYENV=window.PLOTLYENV || {};window.PLOTLYENV.BASE_URL=\"https://plot.ly\";Plotly.newPlot(\"55494fb1-0406-4231-bab5-fc4a60717d25\", [{\"type\": \"choropleth\", \"colorscale\": [[0.0, \"rgb(242,240,247)\"], [0.2, \"rgb(218,218,235)\"], [0.4, \"rgb(188,189,220)\"], [0.6, \"rgb(158,154,200)\"], [0.8, \"rgb(117,107,177)\"], [1.0, \"rgb(84,39,143)\"]], \"autocolorscale\": false, \"locations\": [\"CA\", \"WA\", \"NY\", \"FL\", \"NV\", \"NC\"], \"z\": [545.0, 46.0, 29.0, 4.0, 1.0, 1.0], \"locationmode\": \"USA-states\", \"marker\": {\"line\": {\"color\": \"rgb(255,255,255)\", \"width\": 2}}, \"colorbar\": {\"title\": \"Number\"}}], {\"title\": \"2013 h1b visa filed by google by state\", \"geo\": {\"scope\": \"usa\", \"projection\": {\"type\": \"albers usa\"}, \"showlakes\": true, \"lakecolor\": \"rgb(255, 255, 255)\"}}, {\"showLink\": true, \"linkText\": \"Export to plot.ly\"})});</script>"
      ],
      "text/vnd.plotly.v1+html": [
       "<div id=\"55494fb1-0406-4231-bab5-fc4a60717d25\" style=\"height: 525px; width: 100%;\" class=\"plotly-graph-div\"></div><script type=\"text/javascript\">require([\"plotly\"], function(Plotly) { window.PLOTLYENV=window.PLOTLYENV || {};window.PLOTLYENV.BASE_URL=\"https://plot.ly\";Plotly.newPlot(\"55494fb1-0406-4231-bab5-fc4a60717d25\", [{\"type\": \"choropleth\", \"colorscale\": [[0.0, \"rgb(242,240,247)\"], [0.2, \"rgb(218,218,235)\"], [0.4, \"rgb(188,189,220)\"], [0.6, \"rgb(158,154,200)\"], [0.8, \"rgb(117,107,177)\"], [1.0, \"rgb(84,39,143)\"]], \"autocolorscale\": false, \"locations\": [\"CA\", \"WA\", \"NY\", \"FL\", \"NV\", \"NC\"], \"z\": [545.0, 46.0, 29.0, 4.0, 1.0, 1.0], \"locationmode\": \"USA-states\", \"marker\": {\"line\": {\"color\": \"rgb(255,255,255)\", \"width\": 2}}, \"colorbar\": {\"title\": \"Number\"}}], {\"title\": \"2013 h1b visa filed by google by state\", \"geo\": {\"scope\": \"usa\", \"projection\": {\"type\": \"albers usa\"}, \"showlakes\": true, \"lakecolor\": \"rgb(255, 255, 255)\"}}, {\"showLink\": true, \"linkText\": \"Export to plot.ly\"})});</script>"
      ]
     },
     "metadata": {},
     "output_type": "display_data"
    },
    {
     "data": {
      "application/vnd.plotly.v1+json": {
       "data": [
        {
         "autocolorscale": false,
         "colorbar": {
          "title": "Number"
         },
         "colorscale": [
          [
           0,
           "rgb(242,240,247)"
          ],
          [
           0.2,
           "rgb(218,218,235)"
          ],
          [
           0.4,
           "rgb(188,189,220)"
          ],
          [
           0.6,
           "rgb(158,154,200)"
          ],
          [
           0.8,
           "rgb(117,107,177)"
          ],
          [
           1,
           "rgb(84,39,143)"
          ]
         ],
         "locationmode": "USA-states",
         "locations": [
          "CA",
          "WA",
          "NY",
          "MA",
          "TX",
          "FL",
          "VA",
          "IL",
          "DC"
         ],
         "marker": {
          "line": {
           "color": "rgb(255,255,255)",
           "width": 2
          }
         },
         "type": "choropleth",
         "z": [
          654,
          67,
          55,
          3,
          2,
          1,
          1,
          1,
          1
         ]
        }
       ],
       "layout": {
        "geo": {
         "lakecolor": "rgb(255, 255, 255)",
         "projection": {
          "type": "albers usa"
         },
         "scope": "usa",
         "showlakes": true
        },
        "title": "2014 h1b visa filed by google by state"
       }
      },
      "text/html": [
       "<div id=\"842e83fe-880d-4ec0-9e7f-566cde800e32\" style=\"height: 525px; width: 100%;\" class=\"plotly-graph-div\"></div><script type=\"text/javascript\">require([\"plotly\"], function(Plotly) { window.PLOTLYENV=window.PLOTLYENV || {};window.PLOTLYENV.BASE_URL=\"https://plot.ly\";Plotly.newPlot(\"842e83fe-880d-4ec0-9e7f-566cde800e32\", [{\"type\": \"choropleth\", \"colorscale\": [[0.0, \"rgb(242,240,247)\"], [0.2, \"rgb(218,218,235)\"], [0.4, \"rgb(188,189,220)\"], [0.6, \"rgb(158,154,200)\"], [0.8, \"rgb(117,107,177)\"], [1.0, \"rgb(84,39,143)\"]], \"autocolorscale\": false, \"locations\": [\"CA\", \"WA\", \"NY\", \"MA\", \"TX\", \"FL\", \"VA\", \"IL\", \"DC\"], \"z\": [654.0, 67.0, 55.0, 3.0, 2.0, 1.0, 1.0, 1.0, 1.0], \"locationmode\": \"USA-states\", \"marker\": {\"line\": {\"color\": \"rgb(255,255,255)\", \"width\": 2}}, \"colorbar\": {\"title\": \"Number\"}}], {\"title\": \"2014 h1b visa filed by google by state\", \"geo\": {\"scope\": \"usa\", \"projection\": {\"type\": \"albers usa\"}, \"showlakes\": true, \"lakecolor\": \"rgb(255, 255, 255)\"}}, {\"showLink\": true, \"linkText\": \"Export to plot.ly\"})});</script>"
      ],
      "text/vnd.plotly.v1+html": [
       "<div id=\"842e83fe-880d-4ec0-9e7f-566cde800e32\" style=\"height: 525px; width: 100%;\" class=\"plotly-graph-div\"></div><script type=\"text/javascript\">require([\"plotly\"], function(Plotly) { window.PLOTLYENV=window.PLOTLYENV || {};window.PLOTLYENV.BASE_URL=\"https://plot.ly\";Plotly.newPlot(\"842e83fe-880d-4ec0-9e7f-566cde800e32\", [{\"type\": \"choropleth\", \"colorscale\": [[0.0, \"rgb(242,240,247)\"], [0.2, \"rgb(218,218,235)\"], [0.4, \"rgb(188,189,220)\"], [0.6, \"rgb(158,154,200)\"], [0.8, \"rgb(117,107,177)\"], [1.0, \"rgb(84,39,143)\"]], \"autocolorscale\": false, \"locations\": [\"CA\", \"WA\", \"NY\", \"MA\", \"TX\", \"FL\", \"VA\", \"IL\", \"DC\"], \"z\": [654.0, 67.0, 55.0, 3.0, 2.0, 1.0, 1.0, 1.0, 1.0], \"locationmode\": \"USA-states\", \"marker\": {\"line\": {\"color\": \"rgb(255,255,255)\", \"width\": 2}}, \"colorbar\": {\"title\": \"Number\"}}], {\"title\": \"2014 h1b visa filed by google by state\", \"geo\": {\"scope\": \"usa\", \"projection\": {\"type\": \"albers usa\"}, \"showlakes\": true, \"lakecolor\": \"rgb(255, 255, 255)\"}}, {\"showLink\": true, \"linkText\": \"Export to plot.ly\"})});</script>"
      ]
     },
     "metadata": {},
     "output_type": "display_data"
    },
    {
     "data": {
      "application/vnd.plotly.v1+json": {
       "data": [
        {
         "autocolorscale": false,
         "colorbar": {
          "title": "Number"
         },
         "colorscale": [
          [
           0,
           "rgb(242,240,247)"
          ],
          [
           0.2,
           "rgb(218,218,235)"
          ],
          [
           0.4,
           "rgb(188,189,220)"
          ],
          [
           0.6,
           "rgb(158,154,200)"
          ],
          [
           0.8,
           "rgb(117,107,177)"
          ],
          [
           1,
           "rgb(84,39,143)"
          ]
         ],
         "locationmode": "USA-states",
         "locations": [
          "CA",
          "WA",
          "NY",
          "TX",
          "MA",
          "DC",
          "VA",
          "IL"
         ],
         "marker": {
          "line": {
           "color": "rgb(255,255,255)",
           "width": 2
          }
         },
         "type": "choropleth",
         "z": [
          816,
          121,
          63,
          8,
          3,
          2,
          1,
          1
         ]
        }
       ],
       "layout": {
        "geo": {
         "lakecolor": "rgb(255, 255, 255)",
         "projection": {
          "type": "albers usa"
         },
         "scope": "usa",
         "showlakes": true
        },
        "title": "2015 h1b visa filed by google by state"
       }
      },
      "text/html": [
       "<div id=\"0ce24d4e-9b7c-4be8-9b3d-ba74f8dd2af5\" style=\"height: 525px; width: 100%;\" class=\"plotly-graph-div\"></div><script type=\"text/javascript\">require([\"plotly\"], function(Plotly) { window.PLOTLYENV=window.PLOTLYENV || {};window.PLOTLYENV.BASE_URL=\"https://plot.ly\";Plotly.newPlot(\"0ce24d4e-9b7c-4be8-9b3d-ba74f8dd2af5\", [{\"type\": \"choropleth\", \"colorscale\": [[0.0, \"rgb(242,240,247)\"], [0.2, \"rgb(218,218,235)\"], [0.4, \"rgb(188,189,220)\"], [0.6, \"rgb(158,154,200)\"], [0.8, \"rgb(117,107,177)\"], [1.0, \"rgb(84,39,143)\"]], \"autocolorscale\": false, \"locations\": [\"CA\", \"WA\", \"NY\", \"TX\", \"MA\", \"DC\", \"VA\", \"IL\"], \"z\": [816.0, 121.0, 63.0, 8.0, 3.0, 2.0, 1.0, 1.0], \"locationmode\": \"USA-states\", \"marker\": {\"line\": {\"color\": \"rgb(255,255,255)\", \"width\": 2}}, \"colorbar\": {\"title\": \"Number\"}}], {\"title\": \"2015 h1b visa filed by google by state\", \"geo\": {\"scope\": \"usa\", \"projection\": {\"type\": \"albers usa\"}, \"showlakes\": true, \"lakecolor\": \"rgb(255, 255, 255)\"}}, {\"showLink\": true, \"linkText\": \"Export to plot.ly\"})});</script>"
      ],
      "text/vnd.plotly.v1+html": [
       "<div id=\"0ce24d4e-9b7c-4be8-9b3d-ba74f8dd2af5\" style=\"height: 525px; width: 100%;\" class=\"plotly-graph-div\"></div><script type=\"text/javascript\">require([\"plotly\"], function(Plotly) { window.PLOTLYENV=window.PLOTLYENV || {};window.PLOTLYENV.BASE_URL=\"https://plot.ly\";Plotly.newPlot(\"0ce24d4e-9b7c-4be8-9b3d-ba74f8dd2af5\", [{\"type\": \"choropleth\", \"colorscale\": [[0.0, \"rgb(242,240,247)\"], [0.2, \"rgb(218,218,235)\"], [0.4, \"rgb(188,189,220)\"], [0.6, \"rgb(158,154,200)\"], [0.8, \"rgb(117,107,177)\"], [1.0, \"rgb(84,39,143)\"]], \"autocolorscale\": false, \"locations\": [\"CA\", \"WA\", \"NY\", \"TX\", \"MA\", \"DC\", \"VA\", \"IL\"], \"z\": [816.0, 121.0, 63.0, 8.0, 3.0, 2.0, 1.0, 1.0], \"locationmode\": \"USA-states\", \"marker\": {\"line\": {\"color\": \"rgb(255,255,255)\", \"width\": 2}}, \"colorbar\": {\"title\": \"Number\"}}], {\"title\": \"2015 h1b visa filed by google by state\", \"geo\": {\"scope\": \"usa\", \"projection\": {\"type\": \"albers usa\"}, \"showlakes\": true, \"lakecolor\": \"rgb(255, 255, 255)\"}}, {\"showLink\": true, \"linkText\": \"Export to plot.ly\"})});</script>"
      ]
     },
     "metadata": {},
     "output_type": "display_data"
    },
    {
     "data": {
      "application/vnd.plotly.v1+json": {
       "data": [
        {
         "autocolorscale": false,
         "colorbar": {
          "title": "Number"
         },
         "colorscale": [
          [
           0,
           "rgb(242,240,247)"
          ],
          [
           0.2,
           "rgb(218,218,235)"
          ],
          [
           0.4,
           "rgb(188,189,220)"
          ],
          [
           0.6,
           "rgb(158,154,200)"
          ],
          [
           0.8,
           "rgb(117,107,177)"
          ],
          [
           1,
           "rgb(84,39,143)"
          ]
         ],
         "locationmode": "USA-states",
         "locations": [
          "CA",
          "WA",
          "NY",
          "TX",
          "MA",
          "PA",
          "FL",
          "DC",
          "VA",
          "IL"
         ],
         "marker": {
          "line": {
           "color": "rgb(255,255,255)",
           "width": 2
          }
         },
         "type": "choropleth",
         "z": [
          942,
          113,
          81,
          14,
          8,
          5,
          2,
          2,
          1,
          1
         ]
        }
       ],
       "layout": {
        "geo": {
         "lakecolor": "rgb(255, 255, 255)",
         "projection": {
          "type": "albers usa"
         },
         "scope": "usa",
         "showlakes": true
        },
        "title": "2016 h1b visa filed by google by state"
       }
      },
      "text/html": [
       "<div id=\"1b847db3-4145-405b-9b3c-12e730f84456\" style=\"height: 525px; width: 100%;\" class=\"plotly-graph-div\"></div><script type=\"text/javascript\">require([\"plotly\"], function(Plotly) { window.PLOTLYENV=window.PLOTLYENV || {};window.PLOTLYENV.BASE_URL=\"https://plot.ly\";Plotly.newPlot(\"1b847db3-4145-405b-9b3c-12e730f84456\", [{\"type\": \"choropleth\", \"colorscale\": [[0.0, \"rgb(242,240,247)\"], [0.2, \"rgb(218,218,235)\"], [0.4, \"rgb(188,189,220)\"], [0.6, \"rgb(158,154,200)\"], [0.8, \"rgb(117,107,177)\"], [1.0, \"rgb(84,39,143)\"]], \"autocolorscale\": false, \"locations\": [\"CA\", \"WA\", \"NY\", \"TX\", \"MA\", \"PA\", \"FL\", \"DC\", \"VA\", \"IL\"], \"z\": [942.0, 113.0, 81.0, 14.0, 8.0, 5.0, 2.0, 2.0, 1.0, 1.0], \"locationmode\": \"USA-states\", \"marker\": {\"line\": {\"color\": \"rgb(255,255,255)\", \"width\": 2}}, \"colorbar\": {\"title\": \"Number\"}}], {\"title\": \"2016 h1b visa filed by google by state\", \"geo\": {\"scope\": \"usa\", \"projection\": {\"type\": \"albers usa\"}, \"showlakes\": true, \"lakecolor\": \"rgb(255, 255, 255)\"}}, {\"showLink\": true, \"linkText\": \"Export to plot.ly\"})});</script>"
      ],
      "text/vnd.plotly.v1+html": [
       "<div id=\"1b847db3-4145-405b-9b3c-12e730f84456\" style=\"height: 525px; width: 100%;\" class=\"plotly-graph-div\"></div><script type=\"text/javascript\">require([\"plotly\"], function(Plotly) { window.PLOTLYENV=window.PLOTLYENV || {};window.PLOTLYENV.BASE_URL=\"https://plot.ly\";Plotly.newPlot(\"1b847db3-4145-405b-9b3c-12e730f84456\", [{\"type\": \"choropleth\", \"colorscale\": [[0.0, \"rgb(242,240,247)\"], [0.2, \"rgb(218,218,235)\"], [0.4, \"rgb(188,189,220)\"], [0.6, \"rgb(158,154,200)\"], [0.8, \"rgb(117,107,177)\"], [1.0, \"rgb(84,39,143)\"]], \"autocolorscale\": false, \"locations\": [\"CA\", \"WA\", \"NY\", \"TX\", \"MA\", \"PA\", \"FL\", \"DC\", \"VA\", \"IL\"], \"z\": [942.0, 113.0, 81.0, 14.0, 8.0, 5.0, 2.0, 2.0, 1.0, 1.0], \"locationmode\": \"USA-states\", \"marker\": {\"line\": {\"color\": \"rgb(255,255,255)\", \"width\": 2}}, \"colorbar\": {\"title\": \"Number\"}}], {\"title\": \"2016 h1b visa filed by google by state\", \"geo\": {\"scope\": \"usa\", \"projection\": {\"type\": \"albers usa\"}, \"showlakes\": true, \"lakecolor\": \"rgb(255, 255, 255)\"}}, {\"showLink\": true, \"linkText\": \"Export to plot.ly\"})});</script>"
      ]
     },
     "metadata": {},
     "output_type": "display_data"
    }
   ],
   "source": [
    "for i in range(2011,2017):\n",
    "    df_t = df[(df['YEAR'] == i) & (df[\"EMPLOYER_NAME\"].apply(func))]\n",
    "    df_t = pd.DataFrame(df_t[\"CODE\"].value_counts())\n",
    "    df_t = df_t.reset_index()\n",
    "    \n",
    "    scl = [[0.0, 'rgb(242,240,247)'],[0.2, 'rgb(218,218,235)'],[0.4, 'rgb(188,189,220)'],\\\n",
    "            [0.6, 'rgb(158,154,200)'],[0.8, 'rgb(117,107,177)'],[1.0, 'rgb(84,39,143)']]\n",
    "\n",
    "    data = [ dict(\n",
    "            type='choropleth',\n",
    "            colorscale = scl,\n",
    "            autocolorscale = False,\n",
    "            locations = df_t['index'],\n",
    "            z = df_t[\"CODE\"].astype(float),\n",
    "            locationmode = 'USA-states',\n",
    "            marker = dict(\n",
    "                line = dict (\n",
    "                    color = 'rgb(255,255,255)',\n",
    "                    width = 2\n",
    "                ) ),\n",
    "            colorbar = dict(\n",
    "                title = \"Number\")\n",
    "            ) ]\n",
    "\n",
    "    s = str(i) + ' h1b visa filed by facebook by state'\n",
    "    \n",
    "    layout = dict(\n",
    "            title = s,\n",
    "            geo = dict(\n",
    "                scope='usa',\n",
    "                projection=dict( type='albers usa' ),\n",
    "                showlakes = True,\n",
    "                lakecolor = 'rgb(255, 255, 255)'),\n",
    "                 )\n",
    "\n",
    "    fig = dict( data=data, layout=layout )\n",
    "    plotly.offline.iplot( fig)"
   ]
  },
  {
   "cell_type": "code",
   "execution_count": 34,
   "metadata": {},
   "outputs": [],
   "source": [
    "df_t = pd.DataFrame(df_t[\"CODE\"].value_counts())\n",
    "df_t = df_t.reset_index()"
   ]
  },
  {
   "cell_type": "code",
   "execution_count": 36,
   "metadata": {},
   "outputs": [],
   "source": [
    "df_t = pd.DataFrame(df_t[\"CODE\"].value_counts())\n",
    "df_t = df_t.reset_index()"
   ]
  },
  {
   "cell_type": "code",
   "execution_count": 37,
   "metadata": {},
   "outputs": [],
   "source": [
    "def func(x):\n",
    "    if type(x) == str and 'ibm' in x.lower():\n",
    "        return True\n",
    "    return False"
   ]
  },
  {
   "cell_type": "code",
   "execution_count": 38,
   "metadata": {
    "scrolled": false
   },
   "outputs": [
    {
     "data": {
      "application/vnd.plotly.v1+json": {
       "data": [
        {
         "autocolorscale": false,
         "colorbar": {
          "title": "Number"
         },
         "colorscale": [
          [
           0,
           "rgb(242,240,247)"
          ],
          [
           0.2,
           "rgb(218,218,235)"
          ],
          [
           0.4,
           "rgb(188,189,220)"
          ],
          [
           0.6,
           "rgb(158,154,200)"
          ],
          [
           0.8,
           "rgb(117,107,177)"
          ],
          [
           1,
           "rgb(84,39,143)"
          ]
         ],
         "locationmode": "USA-states",
         "locations": [
          "CA",
          "NY",
          "NJ",
          "TX",
          "IL",
          "PA",
          "OH",
          "NC",
          "GA",
          "AR",
          "MI",
          "MA",
          "AZ",
          "MN",
          "FL",
          "KS",
          "WI",
          "IN",
          "CO",
          "VA",
          "TN",
          "CT",
          "MD",
          "OR",
          "MO",
          "VT",
          "WA",
          "ID",
          "SC",
          "OK",
          "NE",
          "DE",
          "RI",
          "AL",
          "KY",
          "NH",
          "ME",
          "DC",
          "PR",
          "UT",
          "MS",
          "NV",
          "IA",
          "ND",
          "LA"
         ],
         "marker": {
          "line": {
           "color": "rgb(255,255,255)",
           "width": 2
          }
         },
         "type": "choropleth",
         "z": [
          560,
          489,
          373,
          359,
          252,
          189,
          173,
          146,
          144,
          111,
          110,
          107,
          105,
          104,
          93,
          67,
          63,
          56,
          52,
          51,
          50,
          46,
          42,
          39,
          32,
          25,
          20,
          15,
          13,
          12,
          12,
          10,
          9,
          6,
          6,
          5,
          4,
          4,
          3,
          2,
          2,
          2,
          2,
          1,
          1
         ]
        }
       ],
       "layout": {
        "geo": {
         "lakecolor": "rgb(255, 255, 255)",
         "projection": {
          "type": "albers usa"
         },
         "scope": "usa",
         "showlakes": true
        },
        "title": "2011 h1b visa filed by ibm by state"
       }
      },
      "text/html": [
       "<div id=\"205d8c21-348c-47d9-87b5-e3255b4630a7\" style=\"height: 525px; width: 100%;\" class=\"plotly-graph-div\"></div><script type=\"text/javascript\">require([\"plotly\"], function(Plotly) { window.PLOTLYENV=window.PLOTLYENV || {};window.PLOTLYENV.BASE_URL=\"https://plot.ly\";Plotly.newPlot(\"205d8c21-348c-47d9-87b5-e3255b4630a7\", [{\"type\": \"choropleth\", \"colorscale\": [[0.0, \"rgb(242,240,247)\"], [0.2, \"rgb(218,218,235)\"], [0.4, \"rgb(188,189,220)\"], [0.6, \"rgb(158,154,200)\"], [0.8, \"rgb(117,107,177)\"], [1.0, \"rgb(84,39,143)\"]], \"autocolorscale\": false, \"locations\": [\"CA\", \"NY\", \"NJ\", \"TX\", \"IL\", \"PA\", \"OH\", \"NC\", \"GA\", \"AR\", \"MI\", \"MA\", \"AZ\", \"MN\", \"FL\", \"KS\", \"WI\", \"IN\", \"CO\", \"VA\", \"TN\", \"CT\", \"MD\", \"OR\", \"MO\", \"VT\", \"WA\", \"ID\", \"SC\", \"OK\", \"NE\", \"DE\", \"RI\", \"AL\", \"KY\", \"NH\", \"ME\", \"DC\", \"PR\", \"UT\", \"MS\", \"NV\", \"IA\", \"ND\", \"LA\"], \"z\": [560.0, 489.0, 373.0, 359.0, 252.0, 189.0, 173.0, 146.0, 144.0, 111.0, 110.0, 107.0, 105.0, 104.0, 93.0, 67.0, 63.0, 56.0, 52.0, 51.0, 50.0, 46.0, 42.0, 39.0, 32.0, 25.0, 20.0, 15.0, 13.0, 12.0, 12.0, 10.0, 9.0, 6.0, 6.0, 5.0, 4.0, 4.0, 3.0, 2.0, 2.0, 2.0, 2.0, 1.0, 1.0], \"locationmode\": \"USA-states\", \"marker\": {\"line\": {\"color\": \"rgb(255,255,255)\", \"width\": 2}}, \"colorbar\": {\"title\": \"Number\"}}], {\"title\": \"2011 h1b visa filed by ibm by state\", \"geo\": {\"scope\": \"usa\", \"projection\": {\"type\": \"albers usa\"}, \"showlakes\": true, \"lakecolor\": \"rgb(255, 255, 255)\"}}, {\"showLink\": true, \"linkText\": \"Export to plot.ly\"})});</script>"
      ],
      "text/vnd.plotly.v1+html": [
       "<div id=\"205d8c21-348c-47d9-87b5-e3255b4630a7\" style=\"height: 525px; width: 100%;\" class=\"plotly-graph-div\"></div><script type=\"text/javascript\">require([\"plotly\"], function(Plotly) { window.PLOTLYENV=window.PLOTLYENV || {};window.PLOTLYENV.BASE_URL=\"https://plot.ly\";Plotly.newPlot(\"205d8c21-348c-47d9-87b5-e3255b4630a7\", [{\"type\": \"choropleth\", \"colorscale\": [[0.0, \"rgb(242,240,247)\"], [0.2, \"rgb(218,218,235)\"], [0.4, \"rgb(188,189,220)\"], [0.6, \"rgb(158,154,200)\"], [0.8, \"rgb(117,107,177)\"], [1.0, \"rgb(84,39,143)\"]], \"autocolorscale\": false, \"locations\": [\"CA\", \"NY\", \"NJ\", \"TX\", \"IL\", \"PA\", \"OH\", \"NC\", \"GA\", \"AR\", \"MI\", \"MA\", \"AZ\", \"MN\", \"FL\", \"KS\", \"WI\", \"IN\", \"CO\", \"VA\", \"TN\", \"CT\", \"MD\", \"OR\", \"MO\", \"VT\", \"WA\", \"ID\", \"SC\", \"OK\", \"NE\", \"DE\", \"RI\", \"AL\", \"KY\", \"NH\", \"ME\", \"DC\", \"PR\", \"UT\", \"MS\", \"NV\", \"IA\", \"ND\", \"LA\"], \"z\": [560.0, 489.0, 373.0, 359.0, 252.0, 189.0, 173.0, 146.0, 144.0, 111.0, 110.0, 107.0, 105.0, 104.0, 93.0, 67.0, 63.0, 56.0, 52.0, 51.0, 50.0, 46.0, 42.0, 39.0, 32.0, 25.0, 20.0, 15.0, 13.0, 12.0, 12.0, 10.0, 9.0, 6.0, 6.0, 5.0, 4.0, 4.0, 3.0, 2.0, 2.0, 2.0, 2.0, 1.0, 1.0], \"locationmode\": \"USA-states\", \"marker\": {\"line\": {\"color\": \"rgb(255,255,255)\", \"width\": 2}}, \"colorbar\": {\"title\": \"Number\"}}], {\"title\": \"2011 h1b visa filed by ibm by state\", \"geo\": {\"scope\": \"usa\", \"projection\": {\"type\": \"albers usa\"}, \"showlakes\": true, \"lakecolor\": \"rgb(255, 255, 255)\"}}, {\"showLink\": true, \"linkText\": \"Export to plot.ly\"})});</script>"
      ]
     },
     "metadata": {},
     "output_type": "display_data"
    },
    {
     "data": {
      "application/vnd.plotly.v1+json": {
       "data": [
        {
         "autocolorscale": false,
         "colorbar": {
          "title": "Number"
         },
         "colorscale": [
          [
           0,
           "rgb(242,240,247)"
          ],
          [
           0.2,
           "rgb(218,218,235)"
          ],
          [
           0.4,
           "rgb(188,189,220)"
          ],
          [
           0.6,
           "rgb(158,154,200)"
          ],
          [
           0.8,
           "rgb(117,107,177)"
          ],
          [
           1,
           "rgb(84,39,143)"
          ]
         ],
         "locationmode": "USA-states",
         "locations": [
          "NJ",
          "CA",
          "NY",
          "IL",
          "TX",
          "NC",
          "PA",
          "OH",
          "GA",
          "MN",
          "AZ",
          "MA",
          "WI",
          "FL",
          "MI",
          "CT",
          "CO",
          "AR",
          "IN",
          "VA",
          "KS",
          "TN",
          "MO",
          "MD",
          "OR",
          "ID",
          "OK",
          "WA",
          "DE",
          "SC",
          "RI",
          "NV",
          "IA",
          "VT",
          "KY",
          "NE",
          "AL",
          "PR",
          "NH",
          "LA",
          "ME",
          "WV",
          "DC",
          "MS",
          "AK",
          "ND"
         ],
         "marker": {
          "line": {
           "color": "rgb(255,255,255)",
           "width": 2
          }
         },
         "type": "choropleth",
         "z": [
          907,
          686,
          523,
          477,
          468,
          344,
          321,
          305,
          298,
          243,
          173,
          167,
          157,
          146,
          137,
          130,
          124,
          119,
          90,
          85,
          84,
          72,
          65,
          52,
          45,
          43,
          35,
          31,
          27,
          25,
          21,
          19,
          15,
          15,
          13,
          12,
          9,
          8,
          6,
          6,
          5,
          5,
          5,
          3,
          2,
          1
         ]
        }
       ],
       "layout": {
        "geo": {
         "lakecolor": "rgb(255, 255, 255)",
         "projection": {
          "type": "albers usa"
         },
         "scope": "usa",
         "showlakes": true
        },
        "title": "2012 h1b visa filed by ibm by state"
       }
      },
      "text/html": [
       "<div id=\"7a02d5de-0448-41b8-aa22-ab30b343854f\" style=\"height: 525px; width: 100%;\" class=\"plotly-graph-div\"></div><script type=\"text/javascript\">require([\"plotly\"], function(Plotly) { window.PLOTLYENV=window.PLOTLYENV || {};window.PLOTLYENV.BASE_URL=\"https://plot.ly\";Plotly.newPlot(\"7a02d5de-0448-41b8-aa22-ab30b343854f\", [{\"type\": \"choropleth\", \"colorscale\": [[0.0, \"rgb(242,240,247)\"], [0.2, \"rgb(218,218,235)\"], [0.4, \"rgb(188,189,220)\"], [0.6, \"rgb(158,154,200)\"], [0.8, \"rgb(117,107,177)\"], [1.0, \"rgb(84,39,143)\"]], \"autocolorscale\": false, \"locations\": [\"NJ\", \"CA\", \"NY\", \"IL\", \"TX\", \"NC\", \"PA\", \"OH\", \"GA\", \"MN\", \"AZ\", \"MA\", \"WI\", \"FL\", \"MI\", \"CT\", \"CO\", \"AR\", \"IN\", \"VA\", \"KS\", \"TN\", \"MO\", \"MD\", \"OR\", \"ID\", \"OK\", \"WA\", \"DE\", \"SC\", \"RI\", \"NV\", \"IA\", \"VT\", \"KY\", \"NE\", \"AL\", \"PR\", \"NH\", \"LA\", \"ME\", \"WV\", \"DC\", \"MS\", \"AK\", \"ND\"], \"z\": [907.0, 686.0, 523.0, 477.0, 468.0, 344.0, 321.0, 305.0, 298.0, 243.0, 173.0, 167.0, 157.0, 146.0, 137.0, 130.0, 124.0, 119.0, 90.0, 85.0, 84.0, 72.0, 65.0, 52.0, 45.0, 43.0, 35.0, 31.0, 27.0, 25.0, 21.0, 19.0, 15.0, 15.0, 13.0, 12.0, 9.0, 8.0, 6.0, 6.0, 5.0, 5.0, 5.0, 3.0, 2.0, 1.0], \"locationmode\": \"USA-states\", \"marker\": {\"line\": {\"color\": \"rgb(255,255,255)\", \"width\": 2}}, \"colorbar\": {\"title\": \"Number\"}}], {\"title\": \"2012 h1b visa filed by ibm by state\", \"geo\": {\"scope\": \"usa\", \"projection\": {\"type\": \"albers usa\"}, \"showlakes\": true, \"lakecolor\": \"rgb(255, 255, 255)\"}}, {\"showLink\": true, \"linkText\": \"Export to plot.ly\"})});</script>"
      ],
      "text/vnd.plotly.v1+html": [
       "<div id=\"7a02d5de-0448-41b8-aa22-ab30b343854f\" style=\"height: 525px; width: 100%;\" class=\"plotly-graph-div\"></div><script type=\"text/javascript\">require([\"plotly\"], function(Plotly) { window.PLOTLYENV=window.PLOTLYENV || {};window.PLOTLYENV.BASE_URL=\"https://plot.ly\";Plotly.newPlot(\"7a02d5de-0448-41b8-aa22-ab30b343854f\", [{\"type\": \"choropleth\", \"colorscale\": [[0.0, \"rgb(242,240,247)\"], [0.2, \"rgb(218,218,235)\"], [0.4, \"rgb(188,189,220)\"], [0.6, \"rgb(158,154,200)\"], [0.8, \"rgb(117,107,177)\"], [1.0, \"rgb(84,39,143)\"]], \"autocolorscale\": false, \"locations\": [\"NJ\", \"CA\", \"NY\", \"IL\", \"TX\", \"NC\", \"PA\", \"OH\", \"GA\", \"MN\", \"AZ\", \"MA\", \"WI\", \"FL\", \"MI\", \"CT\", \"CO\", \"AR\", \"IN\", \"VA\", \"KS\", \"TN\", \"MO\", \"MD\", \"OR\", \"ID\", \"OK\", \"WA\", \"DE\", \"SC\", \"RI\", \"NV\", \"IA\", \"VT\", \"KY\", \"NE\", \"AL\", \"PR\", \"NH\", \"LA\", \"ME\", \"WV\", \"DC\", \"MS\", \"AK\", \"ND\"], \"z\": [907.0, 686.0, 523.0, 477.0, 468.0, 344.0, 321.0, 305.0, 298.0, 243.0, 173.0, 167.0, 157.0, 146.0, 137.0, 130.0, 124.0, 119.0, 90.0, 85.0, 84.0, 72.0, 65.0, 52.0, 45.0, 43.0, 35.0, 31.0, 27.0, 25.0, 21.0, 19.0, 15.0, 15.0, 13.0, 12.0, 9.0, 8.0, 6.0, 6.0, 5.0, 5.0, 5.0, 3.0, 2.0, 1.0], \"locationmode\": \"USA-states\", \"marker\": {\"line\": {\"color\": \"rgb(255,255,255)\", \"width\": 2}}, \"colorbar\": {\"title\": \"Number\"}}], {\"title\": \"2012 h1b visa filed by ibm by state\", \"geo\": {\"scope\": \"usa\", \"projection\": {\"type\": \"albers usa\"}, \"showlakes\": true, \"lakecolor\": \"rgb(255, 255, 255)\"}}, {\"showLink\": true, \"linkText\": \"Export to plot.ly\"})});</script>"
      ]
     },
     "metadata": {},
     "output_type": "display_data"
    },
    {
     "data": {
      "application/vnd.plotly.v1+json": {
       "data": [
        {
         "autocolorscale": false,
         "colorbar": {
          "title": "Number"
         },
         "colorscale": [
          [
           0,
           "rgb(242,240,247)"
          ],
          [
           0.2,
           "rgb(218,218,235)"
          ],
          [
           0.4,
           "rgb(188,189,220)"
          ],
          [
           0.6,
           "rgb(158,154,200)"
          ],
          [
           0.8,
           "rgb(117,107,177)"
          ],
          [
           1,
           "rgb(84,39,143)"
          ]
         ],
         "locationmode": "USA-states",
         "locations": [
          "NJ",
          "CA",
          "NY",
          "TX",
          "IL",
          "NC",
          "PA",
          "GA",
          "OH",
          "MA",
          "MN",
          "VA",
          "FL",
          "AZ",
          "WI",
          "MI",
          "IN",
          "AR",
          "KS",
          "CT",
          "OR",
          "ID",
          "WA",
          "CO",
          "MD",
          "MO",
          "DE",
          "RI",
          "OK",
          "TN",
          "SC",
          "VT",
          "DC",
          "MS",
          "NE",
          "IA",
          "AL",
          "KY",
          "NV",
          "UT",
          "NH",
          "ME",
          "LA",
          "ND",
          "WV"
         ],
         "marker": {
          "line": {
           "color": "rgb(255,255,255)",
           "width": 2
          }
         },
         "type": "choropleth",
         "z": [
          890,
          665,
          520,
          480,
          477,
          404,
          261,
          222,
          221,
          192,
          148,
          106,
          103,
          103,
          103,
          95,
          85,
          78,
          73,
          63,
          54,
          53,
          43,
          43,
          42,
          40,
          33,
          32,
          31,
          30,
          29,
          28,
          16,
          15,
          15,
          10,
          10,
          8,
          8,
          6,
          6,
          5,
          4,
          3,
          3
         ]
        }
       ],
       "layout": {
        "geo": {
         "lakecolor": "rgb(255, 255, 255)",
         "projection": {
          "type": "albers usa"
         },
         "scope": "usa",
         "showlakes": true
        },
        "title": "2013 h1b visa filed by ibm by state"
       }
      },
      "text/html": [
       "<div id=\"3961d971-62de-467f-946f-33e3ab51c5ff\" style=\"height: 525px; width: 100%;\" class=\"plotly-graph-div\"></div><script type=\"text/javascript\">require([\"plotly\"], function(Plotly) { window.PLOTLYENV=window.PLOTLYENV || {};window.PLOTLYENV.BASE_URL=\"https://plot.ly\";Plotly.newPlot(\"3961d971-62de-467f-946f-33e3ab51c5ff\", [{\"type\": \"choropleth\", \"colorscale\": [[0.0, \"rgb(242,240,247)\"], [0.2, \"rgb(218,218,235)\"], [0.4, \"rgb(188,189,220)\"], [0.6, \"rgb(158,154,200)\"], [0.8, \"rgb(117,107,177)\"], [1.0, \"rgb(84,39,143)\"]], \"autocolorscale\": false, \"locations\": [\"NJ\", \"CA\", \"NY\", \"TX\", \"IL\", \"NC\", \"PA\", \"GA\", \"OH\", \"MA\", \"MN\", \"VA\", \"FL\", \"AZ\", \"WI\", \"MI\", \"IN\", \"AR\", \"KS\", \"CT\", \"OR\", \"ID\", \"WA\", \"CO\", \"MD\", \"MO\", \"DE\", \"RI\", \"OK\", \"TN\", \"SC\", \"VT\", \"DC\", \"MS\", \"NE\", \"IA\", \"AL\", \"KY\", \"NV\", \"UT\", \"NH\", \"ME\", \"LA\", \"ND\", \"WV\"], \"z\": [890.0, 665.0, 520.0, 480.0, 477.0, 404.0, 261.0, 222.0, 221.0, 192.0, 148.0, 106.0, 103.0, 103.0, 103.0, 95.0, 85.0, 78.0, 73.0, 63.0, 54.0, 53.0, 43.0, 43.0, 42.0, 40.0, 33.0, 32.0, 31.0, 30.0, 29.0, 28.0, 16.0, 15.0, 15.0, 10.0, 10.0, 8.0, 8.0, 6.0, 6.0, 5.0, 4.0, 3.0, 3.0], \"locationmode\": \"USA-states\", \"marker\": {\"line\": {\"color\": \"rgb(255,255,255)\", \"width\": 2}}, \"colorbar\": {\"title\": \"Number\"}}], {\"title\": \"2013 h1b visa filed by ibm by state\", \"geo\": {\"scope\": \"usa\", \"projection\": {\"type\": \"albers usa\"}, \"showlakes\": true, \"lakecolor\": \"rgb(255, 255, 255)\"}}, {\"showLink\": true, \"linkText\": \"Export to plot.ly\"})});</script>"
      ],
      "text/vnd.plotly.v1+html": [
       "<div id=\"3961d971-62de-467f-946f-33e3ab51c5ff\" style=\"height: 525px; width: 100%;\" class=\"plotly-graph-div\"></div><script type=\"text/javascript\">require([\"plotly\"], function(Plotly) { window.PLOTLYENV=window.PLOTLYENV || {};window.PLOTLYENV.BASE_URL=\"https://plot.ly\";Plotly.newPlot(\"3961d971-62de-467f-946f-33e3ab51c5ff\", [{\"type\": \"choropleth\", \"colorscale\": [[0.0, \"rgb(242,240,247)\"], [0.2, \"rgb(218,218,235)\"], [0.4, \"rgb(188,189,220)\"], [0.6, \"rgb(158,154,200)\"], [0.8, \"rgb(117,107,177)\"], [1.0, \"rgb(84,39,143)\"]], \"autocolorscale\": false, \"locations\": [\"NJ\", \"CA\", \"NY\", \"TX\", \"IL\", \"NC\", \"PA\", \"GA\", \"OH\", \"MA\", \"MN\", \"VA\", \"FL\", \"AZ\", \"WI\", \"MI\", \"IN\", \"AR\", \"KS\", \"CT\", \"OR\", \"ID\", \"WA\", \"CO\", \"MD\", \"MO\", \"DE\", \"RI\", \"OK\", \"TN\", \"SC\", \"VT\", \"DC\", \"MS\", \"NE\", \"IA\", \"AL\", \"KY\", \"NV\", \"UT\", \"NH\", \"ME\", \"LA\", \"ND\", \"WV\"], \"z\": [890.0, 665.0, 520.0, 480.0, 477.0, 404.0, 261.0, 222.0, 221.0, 192.0, 148.0, 106.0, 103.0, 103.0, 103.0, 95.0, 85.0, 78.0, 73.0, 63.0, 54.0, 53.0, 43.0, 43.0, 42.0, 40.0, 33.0, 32.0, 31.0, 30.0, 29.0, 28.0, 16.0, 15.0, 15.0, 10.0, 10.0, 8.0, 8.0, 6.0, 6.0, 5.0, 4.0, 3.0, 3.0], \"locationmode\": \"USA-states\", \"marker\": {\"line\": {\"color\": \"rgb(255,255,255)\", \"width\": 2}}, \"colorbar\": {\"title\": \"Number\"}}], {\"title\": \"2013 h1b visa filed by ibm by state\", \"geo\": {\"scope\": \"usa\", \"projection\": {\"type\": \"albers usa\"}, \"showlakes\": true, \"lakecolor\": \"rgb(255, 255, 255)\"}}, {\"showLink\": true, \"linkText\": \"Export to plot.ly\"})});</script>"
      ]
     },
     "metadata": {},
     "output_type": "display_data"
    },
    {
     "data": {
      "application/vnd.plotly.v1+json": {
       "data": [
        {
         "autocolorscale": false,
         "colorbar": {
          "title": "Number"
         },
         "colorscale": [
          [
           0,
           "rgb(242,240,247)"
          ],
          [
           0.2,
           "rgb(218,218,235)"
          ],
          [
           0.4,
           "rgb(188,189,220)"
          ],
          [
           0.6,
           "rgb(158,154,200)"
          ],
          [
           0.8,
           "rgb(117,107,177)"
          ],
          [
           1,
           "rgb(84,39,143)"
          ]
         ],
         "locationmode": "USA-states",
         "locations": [
          "NJ",
          "CA",
          "TX",
          "NY",
          "IL",
          "NC",
          "PA",
          "GA",
          "OH",
          "MN",
          "MA",
          "VA",
          "AZ",
          "FL",
          "IN",
          "WI",
          "AR",
          "KS",
          "MI",
          "CT",
          "CO",
          "MD",
          "MO",
          "ID",
          "OR",
          "WA",
          "TN",
          "OK",
          "IA",
          "DC",
          "SC",
          "RI",
          "VT",
          "KY",
          "DE",
          "LA",
          "ME",
          "UT",
          "NV",
          "NE",
          "MS",
          "NH",
          "AL",
          "WV",
          "PR",
          "HI",
          "MT"
         ],
         "marker": {
          "line": {
           "color": "rgb(255,255,255)",
           "width": 2
          }
         },
         "type": "choropleth",
         "z": [
          1182,
          914,
          706,
          606,
          539,
          536,
          348,
          328,
          325,
          229,
          224,
          189,
          179,
          157,
          126,
          120,
          112,
          107,
          96,
          92,
          91,
          78,
          71,
          61,
          58,
          56,
          50,
          47,
          40,
          36,
          35,
          33,
          31,
          28,
          27,
          20,
          18,
          15,
          11,
          9,
          8,
          7,
          6,
          3,
          2,
          2,
          1
         ]
        }
       ],
       "layout": {
        "geo": {
         "lakecolor": "rgb(255, 255, 255)",
         "projection": {
          "type": "albers usa"
         },
         "scope": "usa",
         "showlakes": true
        },
        "title": "2014 h1b visa filed by ibm by state"
       }
      },
      "text/html": [
       "<div id=\"32f8686f-ed5f-46ec-a6c6-2e5ce0d3cad7\" style=\"height: 525px; width: 100%;\" class=\"plotly-graph-div\"></div><script type=\"text/javascript\">require([\"plotly\"], function(Plotly) { window.PLOTLYENV=window.PLOTLYENV || {};window.PLOTLYENV.BASE_URL=\"https://plot.ly\";Plotly.newPlot(\"32f8686f-ed5f-46ec-a6c6-2e5ce0d3cad7\", [{\"type\": \"choropleth\", \"colorscale\": [[0.0, \"rgb(242,240,247)\"], [0.2, \"rgb(218,218,235)\"], [0.4, \"rgb(188,189,220)\"], [0.6, \"rgb(158,154,200)\"], [0.8, \"rgb(117,107,177)\"], [1.0, \"rgb(84,39,143)\"]], \"autocolorscale\": false, \"locations\": [\"NJ\", \"CA\", \"TX\", \"NY\", \"IL\", \"NC\", \"PA\", \"GA\", \"OH\", \"MN\", \"MA\", \"VA\", \"AZ\", \"FL\", \"IN\", \"WI\", \"AR\", \"KS\", \"MI\", \"CT\", \"CO\", \"MD\", \"MO\", \"ID\", \"OR\", \"WA\", \"TN\", \"OK\", \"IA\", \"DC\", \"SC\", \"RI\", \"VT\", \"KY\", \"DE\", \"LA\", \"ME\", \"UT\", \"NV\", \"NE\", \"MS\", \"NH\", \"AL\", \"WV\", \"PR\", \"HI\", \"MT\"], \"z\": [1182.0, 914.0, 706.0, 606.0, 539.0, 536.0, 348.0, 328.0, 325.0, 229.0, 224.0, 189.0, 179.0, 157.0, 126.0, 120.0, 112.0, 107.0, 96.0, 92.0, 91.0, 78.0, 71.0, 61.0, 58.0, 56.0, 50.0, 47.0, 40.0, 36.0, 35.0, 33.0, 31.0, 28.0, 27.0, 20.0, 18.0, 15.0, 11.0, 9.0, 8.0, 7.0, 6.0, 3.0, 2.0, 2.0, 1.0], \"locationmode\": \"USA-states\", \"marker\": {\"line\": {\"color\": \"rgb(255,255,255)\", \"width\": 2}}, \"colorbar\": {\"title\": \"Number\"}}], {\"title\": \"2014 h1b visa filed by ibm by state\", \"geo\": {\"scope\": \"usa\", \"projection\": {\"type\": \"albers usa\"}, \"showlakes\": true, \"lakecolor\": \"rgb(255, 255, 255)\"}}, {\"showLink\": true, \"linkText\": \"Export to plot.ly\"})});</script>"
      ],
      "text/vnd.plotly.v1+html": [
       "<div id=\"32f8686f-ed5f-46ec-a6c6-2e5ce0d3cad7\" style=\"height: 525px; width: 100%;\" class=\"plotly-graph-div\"></div><script type=\"text/javascript\">require([\"plotly\"], function(Plotly) { window.PLOTLYENV=window.PLOTLYENV || {};window.PLOTLYENV.BASE_URL=\"https://plot.ly\";Plotly.newPlot(\"32f8686f-ed5f-46ec-a6c6-2e5ce0d3cad7\", [{\"type\": \"choropleth\", \"colorscale\": [[0.0, \"rgb(242,240,247)\"], [0.2, \"rgb(218,218,235)\"], [0.4, \"rgb(188,189,220)\"], [0.6, \"rgb(158,154,200)\"], [0.8, \"rgb(117,107,177)\"], [1.0, \"rgb(84,39,143)\"]], \"autocolorscale\": false, \"locations\": [\"NJ\", \"CA\", \"TX\", \"NY\", \"IL\", \"NC\", \"PA\", \"GA\", \"OH\", \"MN\", \"MA\", \"VA\", \"AZ\", \"FL\", \"IN\", \"WI\", \"AR\", \"KS\", \"MI\", \"CT\", \"CO\", \"MD\", \"MO\", \"ID\", \"OR\", \"WA\", \"TN\", \"OK\", \"IA\", \"DC\", \"SC\", \"RI\", \"VT\", \"KY\", \"DE\", \"LA\", \"ME\", \"UT\", \"NV\", \"NE\", \"MS\", \"NH\", \"AL\", \"WV\", \"PR\", \"HI\", \"MT\"], \"z\": [1182.0, 914.0, 706.0, 606.0, 539.0, 536.0, 348.0, 328.0, 325.0, 229.0, 224.0, 189.0, 179.0, 157.0, 126.0, 120.0, 112.0, 107.0, 96.0, 92.0, 91.0, 78.0, 71.0, 61.0, 58.0, 56.0, 50.0, 47.0, 40.0, 36.0, 35.0, 33.0, 31.0, 28.0, 27.0, 20.0, 18.0, 15.0, 11.0, 9.0, 8.0, 7.0, 6.0, 3.0, 2.0, 2.0, 1.0], \"locationmode\": \"USA-states\", \"marker\": {\"line\": {\"color\": \"rgb(255,255,255)\", \"width\": 2}}, \"colorbar\": {\"title\": \"Number\"}}], {\"title\": \"2014 h1b visa filed by ibm by state\", \"geo\": {\"scope\": \"usa\", \"projection\": {\"type\": \"albers usa\"}, \"showlakes\": true, \"lakecolor\": \"rgb(255, 255, 255)\"}}, {\"showLink\": true, \"linkText\": \"Export to plot.ly\"})});</script>"
      ]
     },
     "metadata": {},
     "output_type": "display_data"
    },
    {
     "data": {
      "application/vnd.plotly.v1+json": {
       "data": [
        {
         "autocolorscale": false,
         "colorbar": {
          "title": "Number"
         },
         "colorscale": [
          [
           0,
           "rgb(242,240,247)"
          ],
          [
           0.2,
           "rgb(218,218,235)"
          ],
          [
           0.4,
           "rgb(188,189,220)"
          ],
          [
           0.6,
           "rgb(158,154,200)"
          ],
          [
           0.8,
           "rgb(117,107,177)"
          ],
          [
           1,
           "rgb(84,39,143)"
          ]
         ],
         "locationmode": "USA-states",
         "locations": [
          "NJ",
          "CA",
          "TX",
          "NC",
          "LA",
          "IL",
          "NY",
          "GA",
          "OH",
          "AZ",
          "MA",
          "PA",
          "VA",
          "MN",
          "IN",
          "FL",
          "MI",
          "WI",
          "AR",
          "CO",
          "OR",
          "CT",
          "MO",
          "WA",
          "MD",
          "ID",
          "KS",
          "RI",
          "OK",
          "DE",
          "SC",
          "TN",
          "KY",
          "IA",
          "DC",
          "UT",
          "NE",
          "NV",
          "ME",
          "MT",
          "AL",
          "NH",
          "ND",
          "VT",
          "HI",
          "MS"
         ],
         "marker": {
          "line": {
           "color": "rgb(255,255,255)",
           "width": 2
          }
         },
         "type": "choropleth",
         "z": [
          2213,
          1281,
          1262,
          950,
          927,
          913,
          834,
          705,
          529,
          425,
          405,
          397,
          300,
          271,
          268,
          246,
          202,
          168,
          151,
          132,
          126,
          121,
          110,
          98,
          97,
          73,
          70,
          69,
          65,
          62,
          51,
          36,
          30,
          28,
          23,
          22,
          14,
          10,
          10,
          5,
          4,
          2,
          2,
          2,
          2,
          1
         ]
        }
       ],
       "layout": {
        "geo": {
         "lakecolor": "rgb(255, 255, 255)",
         "projection": {
          "type": "albers usa"
         },
         "scope": "usa",
         "showlakes": true
        },
        "title": "2015 h1b visa filed by ibm by state"
       }
      },
      "text/html": [
       "<div id=\"e7b762c6-3328-483d-b2e3-da69d6f44810\" style=\"height: 525px; width: 100%;\" class=\"plotly-graph-div\"></div><script type=\"text/javascript\">require([\"plotly\"], function(Plotly) { window.PLOTLYENV=window.PLOTLYENV || {};window.PLOTLYENV.BASE_URL=\"https://plot.ly\";Plotly.newPlot(\"e7b762c6-3328-483d-b2e3-da69d6f44810\", [{\"type\": \"choropleth\", \"colorscale\": [[0.0, \"rgb(242,240,247)\"], [0.2, \"rgb(218,218,235)\"], [0.4, \"rgb(188,189,220)\"], [0.6, \"rgb(158,154,200)\"], [0.8, \"rgb(117,107,177)\"], [1.0, \"rgb(84,39,143)\"]], \"autocolorscale\": false, \"locations\": [\"NJ\", \"CA\", \"TX\", \"NC\", \"LA\", \"IL\", \"NY\", \"GA\", \"OH\", \"AZ\", \"MA\", \"PA\", \"VA\", \"MN\", \"IN\", \"FL\", \"MI\", \"WI\", \"AR\", \"CO\", \"OR\", \"CT\", \"MO\", \"WA\", \"MD\", \"ID\", \"KS\", \"RI\", \"OK\", \"DE\", \"SC\", \"TN\", \"KY\", \"IA\", \"DC\", \"UT\", \"NE\", \"NV\", \"ME\", \"MT\", \"AL\", \"NH\", \"ND\", \"VT\", \"HI\", \"MS\"], \"z\": [2213.0, 1281.0, 1262.0, 950.0, 927.0, 913.0, 834.0, 705.0, 529.0, 425.0, 405.0, 397.0, 300.0, 271.0, 268.0, 246.0, 202.0, 168.0, 151.0, 132.0, 126.0, 121.0, 110.0, 98.0, 97.0, 73.0, 70.0, 69.0, 65.0, 62.0, 51.0, 36.0, 30.0, 28.0, 23.0, 22.0, 14.0, 10.0, 10.0, 5.0, 4.0, 2.0, 2.0, 2.0, 2.0, 1.0], \"locationmode\": \"USA-states\", \"marker\": {\"line\": {\"color\": \"rgb(255,255,255)\", \"width\": 2}}, \"colorbar\": {\"title\": \"Number\"}}], {\"title\": \"2015 h1b visa filed by ibm by state\", \"geo\": {\"scope\": \"usa\", \"projection\": {\"type\": \"albers usa\"}, \"showlakes\": true, \"lakecolor\": \"rgb(255, 255, 255)\"}}, {\"showLink\": true, \"linkText\": \"Export to plot.ly\"})});</script>"
      ],
      "text/vnd.plotly.v1+html": [
       "<div id=\"e7b762c6-3328-483d-b2e3-da69d6f44810\" style=\"height: 525px; width: 100%;\" class=\"plotly-graph-div\"></div><script type=\"text/javascript\">require([\"plotly\"], function(Plotly) { window.PLOTLYENV=window.PLOTLYENV || {};window.PLOTLYENV.BASE_URL=\"https://plot.ly\";Plotly.newPlot(\"e7b762c6-3328-483d-b2e3-da69d6f44810\", [{\"type\": \"choropleth\", \"colorscale\": [[0.0, \"rgb(242,240,247)\"], [0.2, \"rgb(218,218,235)\"], [0.4, \"rgb(188,189,220)\"], [0.6, \"rgb(158,154,200)\"], [0.8, \"rgb(117,107,177)\"], [1.0, \"rgb(84,39,143)\"]], \"autocolorscale\": false, \"locations\": [\"NJ\", \"CA\", \"TX\", \"NC\", \"LA\", \"IL\", \"NY\", \"GA\", \"OH\", \"AZ\", \"MA\", \"PA\", \"VA\", \"MN\", \"IN\", \"FL\", \"MI\", \"WI\", \"AR\", \"CO\", \"OR\", \"CT\", \"MO\", \"WA\", \"MD\", \"ID\", \"KS\", \"RI\", \"OK\", \"DE\", \"SC\", \"TN\", \"KY\", \"IA\", \"DC\", \"UT\", \"NE\", \"NV\", \"ME\", \"MT\", \"AL\", \"NH\", \"ND\", \"VT\", \"HI\", \"MS\"], \"z\": [2213.0, 1281.0, 1262.0, 950.0, 927.0, 913.0, 834.0, 705.0, 529.0, 425.0, 405.0, 397.0, 300.0, 271.0, 268.0, 246.0, 202.0, 168.0, 151.0, 132.0, 126.0, 121.0, 110.0, 98.0, 97.0, 73.0, 70.0, 69.0, 65.0, 62.0, 51.0, 36.0, 30.0, 28.0, 23.0, 22.0, 14.0, 10.0, 10.0, 5.0, 4.0, 2.0, 2.0, 2.0, 2.0, 1.0], \"locationmode\": \"USA-states\", \"marker\": {\"line\": {\"color\": \"rgb(255,255,255)\", \"width\": 2}}, \"colorbar\": {\"title\": \"Number\"}}], {\"title\": \"2015 h1b visa filed by ibm by state\", \"geo\": {\"scope\": \"usa\", \"projection\": {\"type\": \"albers usa\"}, \"showlakes\": true, \"lakecolor\": \"rgb(255, 255, 255)\"}}, {\"showLink\": true, \"linkText\": \"Export to plot.ly\"})});</script>"
      ]
     },
     "metadata": {},
     "output_type": "display_data"
    },
    {
     "data": {
      "application/vnd.plotly.v1+json": {
       "data": [
        {
         "autocolorscale": false,
         "colorbar": {
          "title": "Number"
         },
         "colorscale": [
          [
           0,
           "rgb(242,240,247)"
          ],
          [
           0.2,
           "rgb(218,218,235)"
          ],
          [
           0.4,
           "rgb(188,189,220)"
          ],
          [
           0.6,
           "rgb(158,154,200)"
          ],
          [
           0.8,
           "rgb(117,107,177)"
          ],
          [
           1,
           "rgb(84,39,143)"
          ]
         ],
         "locationmode": "USA-states",
         "locations": [
          "NJ",
          "TX",
          "CA",
          "IL",
          "NC",
          "NY",
          "GA",
          "MA",
          "PA",
          "OH",
          "FL",
          "MN",
          "AZ",
          "VA",
          "LA",
          "IN",
          "AR",
          "WI",
          "ID",
          "KS",
          "MI",
          "CO",
          "MO",
          "DE",
          "CT",
          "MD",
          "OR",
          "WA",
          "SC",
          "OK",
          "RI",
          "TN",
          "KY",
          "IA",
          "UT",
          "ME",
          "WV",
          "NE",
          "DC",
          "NV",
          "NH",
          "AL",
          "ND",
          "MT",
          "VT",
          "WY",
          "HI",
          "NM"
         ],
         "marker": {
          "line": {
           "color": "rgb(255,255,255)",
           "width": 2
          }
         },
         "type": "choropleth",
         "z": [
          1706,
          1453,
          1240,
          982,
          908,
          823,
          723,
          493,
          382,
          366,
          303,
          285,
          276,
          245,
          239,
          176,
          165,
          144,
          141,
          130,
          123,
          120,
          116,
          112,
          96,
          94,
          91,
          87,
          85,
          56,
          55,
          33,
          32,
          27,
          25,
          17,
          16,
          15,
          10,
          10,
          6,
          4,
          4,
          2,
          1,
          1,
          1,
          1
         ]
        }
       ],
       "layout": {
        "geo": {
         "lakecolor": "rgb(255, 255, 255)",
         "projection": {
          "type": "albers usa"
         },
         "scope": "usa",
         "showlakes": true
        },
        "title": "2016 h1b visa filed by ibm by state"
       }
      },
      "text/html": [
       "<div id=\"d4b28433-da3d-4f88-83db-cb211a24262a\" style=\"height: 525px; width: 100%;\" class=\"plotly-graph-div\"></div><script type=\"text/javascript\">require([\"plotly\"], function(Plotly) { window.PLOTLYENV=window.PLOTLYENV || {};window.PLOTLYENV.BASE_URL=\"https://plot.ly\";Plotly.newPlot(\"d4b28433-da3d-4f88-83db-cb211a24262a\", [{\"type\": \"choropleth\", \"colorscale\": [[0.0, \"rgb(242,240,247)\"], [0.2, \"rgb(218,218,235)\"], [0.4, \"rgb(188,189,220)\"], [0.6, \"rgb(158,154,200)\"], [0.8, \"rgb(117,107,177)\"], [1.0, \"rgb(84,39,143)\"]], \"autocolorscale\": false, \"locations\": [\"NJ\", \"TX\", \"CA\", \"IL\", \"NC\", \"NY\", \"GA\", \"MA\", \"PA\", \"OH\", \"FL\", \"MN\", \"AZ\", \"VA\", \"LA\", \"IN\", \"AR\", \"WI\", \"ID\", \"KS\", \"MI\", \"CO\", \"MO\", \"DE\", \"CT\", \"MD\", \"OR\", \"WA\", \"SC\", \"OK\", \"RI\", \"TN\", \"KY\", \"IA\", \"UT\", \"ME\", \"WV\", \"NE\", \"DC\", \"NV\", \"NH\", \"AL\", \"ND\", \"MT\", \"VT\", \"WY\", \"HI\", \"NM\"], \"z\": [1706.0, 1453.0, 1240.0, 982.0, 908.0, 823.0, 723.0, 493.0, 382.0, 366.0, 303.0, 285.0, 276.0, 245.0, 239.0, 176.0, 165.0, 144.0, 141.0, 130.0, 123.0, 120.0, 116.0, 112.0, 96.0, 94.0, 91.0, 87.0, 85.0, 56.0, 55.0, 33.0, 32.0, 27.0, 25.0, 17.0, 16.0, 15.0, 10.0, 10.0, 6.0, 4.0, 4.0, 2.0, 1.0, 1.0, 1.0, 1.0], \"locationmode\": \"USA-states\", \"marker\": {\"line\": {\"color\": \"rgb(255,255,255)\", \"width\": 2}}, \"colorbar\": {\"title\": \"Number\"}}], {\"title\": \"2016 h1b visa filed by ibm by state\", \"geo\": {\"scope\": \"usa\", \"projection\": {\"type\": \"albers usa\"}, \"showlakes\": true, \"lakecolor\": \"rgb(255, 255, 255)\"}}, {\"showLink\": true, \"linkText\": \"Export to plot.ly\"})});</script>"
      ],
      "text/vnd.plotly.v1+html": [
       "<div id=\"d4b28433-da3d-4f88-83db-cb211a24262a\" style=\"height: 525px; width: 100%;\" class=\"plotly-graph-div\"></div><script type=\"text/javascript\">require([\"plotly\"], function(Plotly) { window.PLOTLYENV=window.PLOTLYENV || {};window.PLOTLYENV.BASE_URL=\"https://plot.ly\";Plotly.newPlot(\"d4b28433-da3d-4f88-83db-cb211a24262a\", [{\"type\": \"choropleth\", \"colorscale\": [[0.0, \"rgb(242,240,247)\"], [0.2, \"rgb(218,218,235)\"], [0.4, \"rgb(188,189,220)\"], [0.6, \"rgb(158,154,200)\"], [0.8, \"rgb(117,107,177)\"], [1.0, \"rgb(84,39,143)\"]], \"autocolorscale\": false, \"locations\": [\"NJ\", \"TX\", \"CA\", \"IL\", \"NC\", \"NY\", \"GA\", \"MA\", \"PA\", \"OH\", \"FL\", \"MN\", \"AZ\", \"VA\", \"LA\", \"IN\", \"AR\", \"WI\", \"ID\", \"KS\", \"MI\", \"CO\", \"MO\", \"DE\", \"CT\", \"MD\", \"OR\", \"WA\", \"SC\", \"OK\", \"RI\", \"TN\", \"KY\", \"IA\", \"UT\", \"ME\", \"WV\", \"NE\", \"DC\", \"NV\", \"NH\", \"AL\", \"ND\", \"MT\", \"VT\", \"WY\", \"HI\", \"NM\"], \"z\": [1706.0, 1453.0, 1240.0, 982.0, 908.0, 823.0, 723.0, 493.0, 382.0, 366.0, 303.0, 285.0, 276.0, 245.0, 239.0, 176.0, 165.0, 144.0, 141.0, 130.0, 123.0, 120.0, 116.0, 112.0, 96.0, 94.0, 91.0, 87.0, 85.0, 56.0, 55.0, 33.0, 32.0, 27.0, 25.0, 17.0, 16.0, 15.0, 10.0, 10.0, 6.0, 4.0, 4.0, 2.0, 1.0, 1.0, 1.0, 1.0], \"locationmode\": \"USA-states\", \"marker\": {\"line\": {\"color\": \"rgb(255,255,255)\", \"width\": 2}}, \"colorbar\": {\"title\": \"Number\"}}], {\"title\": \"2016 h1b visa filed by ibm by state\", \"geo\": {\"scope\": \"usa\", \"projection\": {\"type\": \"albers usa\"}, \"showlakes\": true, \"lakecolor\": \"rgb(255, 255, 255)\"}}, {\"showLink\": true, \"linkText\": \"Export to plot.ly\"})});</script>"
      ]
     },
     "metadata": {},
     "output_type": "display_data"
    }
   ],
   "source": [
    "for i in range(2011,2017):\n",
    "    df_t = df[(df['YEAR'] == i) & (df[\"EMPLOYER_NAME\"].apply(func))]\n",
    "    df_t = pd.DataFrame(df_t[\"CODE\"].value_counts())\n",
    "    df_t = df_t.reset_index()\n",
    "    \n",
    "    scl = [[0.0, 'rgb(242,240,247)'],[0.2, 'rgb(218,218,235)'],[0.4, 'rgb(188,189,220)'],\\\n",
    "            [0.6, 'rgb(158,154,200)'],[0.8, 'rgb(117,107,177)'],[1.0, 'rgb(84,39,143)']]\n",
    "\n",
    "    data = [ dict(\n",
    "            type='choropleth',\n",
    "            colorscale = scl,\n",
    "            autocolorscale = False,\n",
    "            locations = df_t['index'],\n",
    "            z = df_t[\"CODE\"].astype(float),\n",
    "            locationmode = 'USA-states',\n",
    "            marker = dict(\n",
    "                line = dict (\n",
    "                    color = 'rgb(255,255,255)',\n",
    "                    width = 2\n",
    "                ) ),\n",
    "            colorbar = dict(\n",
    "                title = \"Number\")\n",
    "            ) ]\n",
    "\n",
    "    s = str(i) + ' h1b visa filed by ibm by state'\n",
    "    \n",
    "    layout = dict(\n",
    "            title = s,\n",
    "            geo = dict(\n",
    "                scope='usa',\n",
    "                projection=dict( type='albers usa' ),\n",
    "                showlakes = True,\n",
    "                lakecolor = 'rgb(255, 255, 255)'),\n",
    "                 )\n",
    "\n",
    "    fig = dict( data=data, layout=layout )\n",
    "    plotly.offline.iplot( fig)"
   ]
  },
  {
   "cell_type": "markdown",
   "metadata": {},
   "source": [
    "## Average wage of h1b by year and by state"
   ]
  },
  {
   "cell_type": "code",
   "execution_count": null,
   "metadata": {},
   "outputs": [],
   "source": []
  },
  {
   "cell_type": "code",
   "execution_count": null,
   "metadata": {},
   "outputs": [],
   "source": []
  },
  {
   "cell_type": "code",
   "execution_count": null,
   "metadata": {},
   "outputs": [],
   "source": []
  }
 ],
 "metadata": {
  "kernelspec": {
   "display_name": "Python 3",
   "language": "python",
   "name": "python3"
  },
  "language_info": {
   "codemirror_mode": {
    "name": "ipython",
    "version": 3
   },
   "file_extension": ".py",
   "mimetype": "text/x-python",
   "name": "python",
   "nbconvert_exporter": "python",
   "pygments_lexer": "ipython3",
   "version": "3.6.3"
  }
 },
 "nbformat": 4,
 "nbformat_minor": 2
}
